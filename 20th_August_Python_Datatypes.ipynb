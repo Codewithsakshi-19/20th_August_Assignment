{
 "cells": [
  {
   "cell_type": "markdown",
   "id": "d4df6aa8-97f0-4fd8-9852-0760d38d2b60",
   "metadata": {},
   "source": [
    "#TOPIC: String Based Assignment Problem"
   ]
  },
  {
   "cell_type": "markdown",
   "id": "9f69a5ac-16bf-490a-9c80-c15414e590fb",
   "metadata": {},
   "source": [
    "#1. Write a program to reverse a string."
   ]
  },
  {
   "cell_type": "code",
   "execution_count": 2,
   "id": "354f806a-f839-40c1-aee3-98d484dd8c32",
   "metadata": {},
   "outputs": [
    {
     "name": "stdout",
     "output_type": "stream",
     "text": [
      "The given string is = my name is Sakshi\n",
      "Reverse of given string = ihskaS si eman ym\n"
     ]
    }
   ],
   "source": [
    "#given string\n",
    "user_string = \"my name is Sakshi\"\n",
    "print(\"The given string is =\",user_string)\n",
    "#reverse the string\n",
    "reverse_str = user_string[::-1]\n",
    "\n",
    "#display the result\n",
    "print(\"Reverse of given string =\",reverse_str)"
   ]
  },
  {
   "cell_type": "markdown",
   "id": "79dbb7b6-82b4-4aad-a13f-88317a6423fa",
   "metadata": {},
   "source": [
    "#2. Check if a string is a palindrome."
   ]
  },
  {
   "cell_type": "code",
   "execution_count": 1,
   "id": "7687c44e-3e6e-45f9-ae7b-376f99eb86d6",
   "metadata": {},
   "outputs": [
    {
     "name": "stdout",
     "output_type": "stream",
     "text": [
      "The given string is = pwskills\n",
      "String is not plaindrome\n"
     ]
    }
   ],
   "source": [
    "#given string\n",
    "given_string = \"pwskills\"\n",
    "print(\"The given string is =\",given_string)\n",
    "\n",
    "#reverse the string\n",
    "reverse_str = given_string[::-1]\n",
    "\n",
    "#check if a string is palindrome or not\n",
    "if given_string==reverse_str:\n",
    "    print(\"String is palindrome\")\n",
    "else:\n",
    "    print(\"String is not plaindrome\")\n"
   ]
  },
  {
   "cell_type": "markdown",
   "id": "f32726a1-4f45-4568-ab24-4cf9dc6f49aa",
   "metadata": {},
   "source": [
    "#3. Convert a string to uppercase."
   ]
  },
  {
   "cell_type": "code",
   "execution_count": 9,
   "id": "76165281-0de9-4213-99e3-a12966a95137",
   "metadata": {},
   "outputs": [
    {
     "name": "stdout",
     "output_type": "stream",
     "text": [
      "Given string is = my name is Sakshi\n",
      "String after converting into uppercase = MY NAME IS SAKSHI\n"
     ]
    }
   ],
   "source": [
    "#initializing the string\n",
    "given_string = \"my name is Sakshi\"\n",
    "print(\"Given string is =\",given_string)\n",
    "    \n",
    "#converting the string into uppercase\n",
    "upper_string=given_string.upper()\n",
    "\n",
    "#Display the result\n",
    "print(\"String after converting into uppercase =\",upper_string)"
   ]
  },
  {
   "cell_type": "markdown",
   "id": "8ff69a88-a0a1-45a3-b49e-369698de0650",
   "metadata": {},
   "source": [
    "#4. Convert a string to lowercase."
   ]
  },
  {
   "cell_type": "code",
   "execution_count": 10,
   "id": "920e4bb5-ff42-4ec1-b279-4582aef77535",
   "metadata": {},
   "outputs": [
    {
     "name": "stdout",
     "output_type": "stream",
     "text": [
      "Given string is = MY NAME IS SAKSHI\n",
      "String after converting into lowercase = my name is sakshi\n"
     ]
    }
   ],
   "source": [
    "#initializing the string\n",
    "given_string = \"MY NAME IS SAKSHI\"\n",
    "print(\"Given string is =\",given_string)\n",
    "    \n",
    "#converting the string into uppercase\n",
    "lower_string=given_string.lower()\n",
    "\n",
    "#Display the result\n",
    "print(\"String after converting into lowercase =\",lower_string)"
   ]
  },
  {
   "cell_type": "markdown",
   "id": "03beaad9-1bbd-470f-9a7f-871987b5d8f0",
   "metadata": {},
   "source": [
    "#5. Count the number of vowels in a string."
   ]
  },
  {
   "cell_type": "code",
   "execution_count": 11,
   "id": "4df8975e-db6f-489d-bdb7-9675136a7fb7",
   "metadata": {},
   "outputs": [
    {
     "name": "stdout",
     "output_type": "stream",
     "text": [
      "string = hi Everyone\n",
      "Number of vowels in the sentence: 5\n"
     ]
    }
   ],
   "source": [
    "#initializing the string\n",
    "given_string=\"hi Everyone\"\n",
    "print(\"string =\",given_string)\n",
    "\n",
    "\n",
    "# Convert the string to lowercase to make the counting case-insensitive\n",
    "given_string_lower = given_string.lower()\n",
    "\n",
    "# Initialize a counter for vowels\n",
    "vowel_count = 0\n",
    "\n",
    "# Iterate through each character in the string\n",
    "for char in given_string_lower:\n",
    "    # Check if the character is a vowel\n",
    "    if char in \"aeiou\":\n",
    "        vowel_count += 1\n",
    "\n",
    "# Display the result\n",
    "print(\"Number of vowels in the sentence:\", vowel_count)\n",
    "\n"
   ]
  },
  {
   "cell_type": "markdown",
   "id": "7112bea3-da9a-4063-be94-7844034a2209",
   "metadata": {},
   "source": [
    "#6. Count the number of consonants in a string."
   ]
  },
  {
   "cell_type": "code",
   "execution_count": 6,
   "id": "e57baad1-7095-411a-a4d3-1e96b0ab33af",
   "metadata": {},
   "outputs": [
    {
     "name": "stdin",
     "output_type": "stream",
     "text": [
      "Enter a string:  widiw\n"
     ]
    },
    {
     "name": "stdout",
     "output_type": "stream",
     "text": [
      "w\n",
      "d\n",
      "w\n",
      "Number of consonants: 3\n"
     ]
    }
   ],
   "source": [
    "def count_consonants(string):\n",
    "    # Initialize a variable to keep track of the count of consonants\n",
    "    consonant_count = 0\n",
    "\n",
    "    # Define a set of consonant characters\n",
    "    consonants = \"bcdfghjklmnpqrstvwxyzBCDFGHJKLMNPQRSTVWXYZ\"\n",
    "\n",
    "    # Iterate through each character in the input string\n",
    "    for char in string:\n",
    "        # Check if the character is in the set of consonants\n",
    "        if char in consonants:\n",
    "            # Increment the consonant count\n",
    "            print(char)\n",
    "            consonant_count += 1\n",
    "\n",
    "    # Return the final count of consonants\n",
    "    return consonant_count\n",
    "\n",
    "# Input string\n",
    "input_string = input(\"Enter a string: \")\n",
    "\n",
    "# Call the function and print the result\n",
    "result = count_consonants(input_string)\n",
    "print(\"Number of consonants:\", result)\n"
   ]
  },
  {
   "cell_type": "markdown",
   "id": "6315ad14-a3a6-4b40-9ff3-a6b17200b6fe",
   "metadata": {},
   "source": [
    "#7. Remove all whitespaces from a string."
   ]
  },
  {
   "cell_type": "code",
   "execution_count": 19,
   "id": "9b394c13-12ee-42bd-9112-8f825a045112",
   "metadata": {},
   "outputs": [
    {
     "name": "stdout",
     "output_type": "stream",
     "text": [
      "string including spaces = I am a data science student\n",
      "Sting after removing white spaces = Iamadatasciencestudent\n"
     ]
    }
   ],
   "source": [
    "# initializing the string\n",
    "given_string=\"I am a data science student\"\n",
    "print(\"string including spaces =\",given_string)\n",
    "\n",
    "# removing all the spaces from string\n",
    "modified_string=given_string.replace(\" \",\"\")\n",
    "\n",
    "#displaying the modified string\n",
    "print(\"Sting after removing white spaces =\",modified_string)\n"
   ]
  },
  {
   "cell_type": "markdown",
   "id": "206e4c33-8b67-4fe4-833d-52816c06964f",
   "metadata": {},
   "source": [
    "#8.Find the length of a string without using the `len()` function."
   ]
  },
  {
   "cell_type": "code",
   "execution_count": 2,
   "id": "49271a0a-6b94-4838-9f1a-3e3c493a170e",
   "metadata": {},
   "outputs": [
    {
     "name": "stdout",
     "output_type": "stream",
     "text": [
      "Length of the string is = 27\n"
     ]
    }
   ],
   "source": [
    "string=\"I am a data science student\"\n",
    "count=0\n",
    "for i in string:\n",
    "      count=count+1\n",
    "print(\"Length of the string is =\",count)"
   ]
  },
  {
   "cell_type": "markdown",
   "id": "e1100c62-14b3-4eff-a1a8-6f368296deca",
   "metadata": {},
   "source": [
    "#9. Check if a string contains a specific word."
   ]
  },
  {
   "cell_type": "code",
   "execution_count": 13,
   "id": "465db152-7f56-4a45-8d67-dc0d1ae8ad2e",
   "metadata": {},
   "outputs": [
    {
     "name": "stdout",
     "output_type": "stream",
     "text": [
      "my name is Sakshi\n"
     ]
    },
    {
     "name": "stdin",
     "output_type": "stream",
     "text": [
      "enter the substring you want to find is Sa\n"
     ]
    },
    {
     "name": "stdout",
     "output_type": "stream",
     "text": [
      "contains the word\n"
     ]
    }
   ],
   "source": [
    "#initializing the string\n",
    "string=\"my name is Sakshi\"\n",
    "print(string)\n",
    "\n",
    "#taking substring input from user\n",
    "word = input(\"enter the substring you want to find\")\n",
    "\n",
    "#check if the string contains the substring or not\n",
    "if word in string:\n",
    "    print(\"contains the string\")\n",
    "    \n",
    "else:\n",
    "    print(\"it is not containing the string you want to find\")\n",
    "   "
   ]
  },
  {
   "cell_type": "markdown",
   "id": "4c2b7498-e58a-4d9f-bf07-f7e0761a31d4",
   "metadata": {},
   "source": [
    "#10. Replace a word in a string with another word."
   ]
  },
  {
   "cell_type": "code",
   "execution_count": 16,
   "id": "0d5d1678-30a9-4112-9e63-64ede75ce073",
   "metadata": {},
   "outputs": [
    {
     "name": "stdout",
     "output_type": "stream",
     "text": [
      "string = my name is Sakshi\n",
      "new string = th name is Sakshi\n"
     ]
    }
   ],
   "source": [
    "#initializing the string\n",
    "string=\"my name is Sakshi\"\n",
    "print(\"string =\",string)\n",
    "\n",
    "#replacing the word with specific word\n",
    "new_string=string.replace(\"my\",\"th\")\n",
    "\n",
    "#display the result\n",
    "print(\"new string =\",new_string)"
   ]
  },
  {
   "cell_type": "markdown",
   "id": "e85367c3-935b-4943-a347-e6481d25b6cf",
   "metadata": {},
   "source": [
    "#11. Count the occurrences of a word in a string."
   ]
  },
  {
   "cell_type": "code",
   "execution_count": 23,
   "id": "febeb8be-02f9-41c6-909b-57a8847f84f9",
   "metadata": {},
   "outputs": [
    {
     "name": "stdout",
     "output_type": "stream",
     "text": [
      "string = my name is sakshi\n"
     ]
    },
    {
     "name": "stdin",
     "output_type": "stream",
     "text": [
      "enter the char you want to find = is\n"
     ]
    },
    {
     "name": "stdout",
     "output_type": "stream",
     "text": [
      "number of occurence of is : 1\n"
     ]
    }
   ],
   "source": [
    "#initializing the string\n",
    "string=\"my name is sakshi\"\n",
    "print(\"string =\",string)\n",
    "\n",
    "#taking char as input from user\n",
    "word = input(\"enter the char you want to find =\")\n",
    "\n",
    "#display the count of character\n",
    "print(f\"number of occurence of {word} : {string.count(word)}\")"
   ]
  },
  {
   "cell_type": "markdown",
   "id": "e48c133b-781f-40e2-aeca-1420fc119b1e",
   "metadata": {},
   "source": [
    "#12. Find the first occurrence of a word in a string."
   ]
  },
  {
   "cell_type": "code",
   "execution_count": 26,
   "id": "3e5f6c7c-206b-4061-b8d1-aac56b08e5e6",
   "metadata": {},
   "outputs": [
    {
     "name": "stdin",
     "output_type": "stream",
     "text": [
      "enter the word: s\n"
     ]
    },
    {
     "name": "stdout",
     "output_type": "stream",
     "text": [
      "first occurence of the s is : 12\n"
     ]
    }
   ],
   "source": [
    "# initializing the string\n",
    "string=\"i am a data science anthusiast\"\n",
    "\n",
    "#taking the word as input from the user\n",
    "word=input(\"enter the word:\")\n",
    "\n",
    "#display the first occurence of the word\n",
    "print(f\"first occurence of the {word} is : {string.index(word)}\")"
   ]
  },
  {
   "cell_type": "markdown",
   "id": "34eb6197-dd28-4d63-a984-6728069b32d1",
   "metadata": {},
   "source": [
    "#13. Find the last occurrence of a word in a string."
   ]
  },
  {
   "cell_type": "code",
   "execution_count": 29,
   "id": "f31f50d8-86f4-48ee-8969-3e23aae0e10d",
   "metadata": {},
   "outputs": [
    {
     "name": "stdin",
     "output_type": "stream",
     "text": [
      "enter the word: i\n"
     ]
    },
    {
     "name": "stdout",
     "output_type": "stream",
     "text": [
      "last occurence of the i is : 26\n"
     ]
    }
   ],
   "source": [
    "# initializing the string\n",
    "string=\"i am a data science anthusiast\"\n",
    "\n",
    "#taking the word as input from the user\n",
    "word=input(\"enter the word:\")\n",
    "\n",
    "#display the first occurence of the word\n",
    "print(f\"last occurence of the {word} is : {string.rindex(word)}\")"
   ]
  },
  {
   "cell_type": "markdown",
   "id": "1cb8d3d6-67b0-4d32-9fb3-9a2d1561b926",
   "metadata": {},
   "source": [
    "#14. Split a string into a list of words."
   ]
  },
  {
   "cell_type": "code",
   "execution_count": 32,
   "id": "7bf2749a-e750-4307-b809-485c6b42fdd2",
   "metadata": {},
   "outputs": [
    {
     "name": "stdout",
     "output_type": "stream",
     "text": [
      "string = my name is Sakshi\n",
      "modified string = ['my', 'name', 'is', 'Sakshi']\n"
     ]
    }
   ],
   "source": [
    "# initializing the string\n",
    "string=\"my name is Sakshi\"\n",
    "print(\"string =\",string)\n",
    "\n",
    "#split the string into words\n",
    "new_str=string.split()\n",
    "\n",
    "# display the result\n",
    "print(\"modified string =\",new_str)\n"
   ]
  },
  {
   "cell_type": "markdown",
   "id": "840cd34a-c461-4529-bbd6-96d55b746a95",
   "metadata": {},
   "source": [
    "#15.Join a list of words into a string."
   ]
  },
  {
   "cell_type": "code",
   "execution_count": 36,
   "id": "f3b160f8-fbaf-49ec-ab71-efcbc9f4d17e",
   "metadata": {},
   "outputs": [
    {
     "name": "stdout",
     "output_type": "stream",
     "text": [
      "list = ['my', 'name', 'is', 'Sakshi']\n",
      "string = my name is Sakshi\n"
     ]
    }
   ],
   "source": [
    "# initializing the string\n",
    "list=['my', 'name', 'is', 'Sakshi']\n",
    "print(\"list =\",list)\n",
    "\n",
    "#joining the list of words in string and display the result\n",
    "separator = ' ' \n",
    "\n",
    "result = separator.join(list) \n",
    "\n",
    "print(\"string =\",result)"
   ]
  },
  {
   "cell_type": "markdown",
   "id": "4da1dd7b-aab8-4771-a63b-9c101787cd91",
   "metadata": {},
   "source": [
    "#16. Convert a string where words are separated by spaces to one where words are separated by underscores."
   ]
  },
  {
   "cell_type": "code",
   "execution_count": 3,
   "id": "2eb029e3-93a0-43df-83af-5f09a9147b5d",
   "metadata": {},
   "outputs": [
    {
     "name": "stdout",
     "output_type": "stream",
     "text": [
      "String with spaces = hi everyone how are you all\n",
      "Modified string = hi_everyone_how_are_you_all\n"
     ]
    }
   ],
   "source": [
    "# initializing the string\n",
    "string = \"hi everyone how are you all\"\n",
    "print(\"String with spaces =\",string)\n",
    "\n",
    "new_string=string.replace(\" \",\"_\")\n",
    "print(\"Modified string =\",new_string)"
   ]
  },
  {
   "cell_type": "markdown",
   "id": "5c05f48c-5b50-413d-b9c3-30183cf0f00b",
   "metadata": {},
   "source": [
    "#17. Check if a string starts with a specific word or phrase."
   ]
  },
  {
   "cell_type": "code",
   "execution_count": 6,
   "id": "90e7f0c8-3f1a-4bca-b37c-1a7684dd990f",
   "metadata": {},
   "outputs": [
    {
     "name": "stdout",
     "output_type": "stream",
     "text": [
      "string = I am BCA graduate\n"
     ]
    },
    {
     "name": "stdin",
     "output_type": "stream",
     "text": [
      "enter the word you want to check: i\n"
     ]
    },
    {
     "name": "stdout",
     "output_type": "stream",
     "text": [
      "no\n"
     ]
    }
   ],
   "source": [
    "# initialize the string\n",
    "string = \"I am BCA graduate\"\n",
    "print(\"string =\",string)\n",
    "\n",
    "# taking the phrase as input from user\n",
    "word=input(\"enter the word you want to check:\")\n",
    "\n",
    "# check the given string starts with the specific word or phrase\n",
    "if string.startswith(word):\n",
    "    print(\"yes\")\n",
    "else:\n",
    "    print(\"no\")\n"
   ]
  },
  {
   "cell_type": "markdown",
   "id": "3ae589ae-7438-4459-86c8-e8e4f2b70c64",
   "metadata": {},
   "source": [
    "#18.Check if a string ends with a specific word or phrase."
   ]
  },
  {
   "cell_type": "code",
   "execution_count": 9,
   "id": "205ee57f-86bc-4901-879e-2a1bbaee28d7",
   "metadata": {},
   "outputs": [
    {
     "name": "stdout",
     "output_type": "stream",
     "text": [
      "string = I am BCA graduate\n"
     ]
    },
    {
     "name": "stdin",
     "output_type": "stream",
     "text": [
      "enter the word you want to check: uate\n"
     ]
    },
    {
     "name": "stdout",
     "output_type": "stream",
     "text": [
      "yes\n"
     ]
    }
   ],
   "source": [
    "#initialize the string\n",
    "string = \"I am BCA graduate\"\n",
    "print(\"string =\",string)\n",
    "\n",
    "# taking the phrase as input from user\n",
    "word=input(\"enter the word you want to check:\")\n",
    "\n",
    "# check the given string starts with the specific word or phrase\n",
    "if string.endswith(word):\n",
    "    print(\"yes\")\n",
    "else:\n",
    "    print(\"no\")\n"
   ]
  },
  {
   "cell_type": "markdown",
   "id": "a60f08e7-f12a-48c0-89f7-b8f7152aa7f0",
   "metadata": {},
   "source": [
    "#19. Convert a string to title case (e.g., \"hello world\" to \"Hello World\")."
   ]
  },
  {
   "cell_type": "code",
   "execution_count": 14,
   "id": "ea29d0b9-4aa2-4315-b2b2-416945efa9b1",
   "metadata": {},
   "outputs": [
    {
     "name": "stdout",
     "output_type": "stream",
     "text": [
      "Before converting = hello world\n",
      "After converting = Hello World\n"
     ]
    }
   ],
   "source": [
    "# initialize the string\n",
    "string=\"hello world\"\n",
    "print(\"Before converting =\",string)\n",
    "\n",
    "#convert the string\n",
    "new_string=string.title()\n",
    "\n",
    "#display the result\n",
    "print(\"After converting =\",new_string)"
   ]
  },
  {
   "cell_type": "markdown",
   "id": "7bcad771-1954-406e-b621-51b650464a63",
   "metadata": {},
   "source": [
    "#20. Find the longest word in a string."
   ]
  },
  {
   "cell_type": "code",
   "execution_count": 16,
   "id": "6583e2bf-62f4-44d0-a368-258e5b8f5efc",
   "metadata": {},
   "outputs": [
    {
     "name": "stdout",
     "output_type": "stream",
     "text": [
      "string = I am BCA graduate\n",
      "The longest word in the string is: graduate\n"
     ]
    }
   ],
   "source": [
    "#initialize the string\n",
    "string = \"I am BCA graduate\"\n",
    "print(\"string =\",string)\n",
    "\n",
    "# Split the string into words\n",
    "words = string.split()\n",
    "\n",
    "# Find the longest word\n",
    "longest_word = max(words, key=len)\n",
    "\n",
    "# Print the result\n",
    "print(\"The longest word in the string is:\", longest_word)\n"
   ]
  },
  {
   "cell_type": "markdown",
   "id": "7da6b395-8349-4820-a8bc-98d26fe0b973",
   "metadata": {},
   "source": [
    "#21. Find the shortest word in a string."
   ]
  },
  {
   "cell_type": "code",
   "execution_count": 17,
   "id": "29817d41-0a5c-4beb-9779-bfcc336395ed",
   "metadata": {},
   "outputs": [
    {
     "name": "stdout",
     "output_type": "stream",
     "text": [
      "string = I am BCA graduate\n",
      "The shortest word in the string is: I\n"
     ]
    }
   ],
   "source": [
    "#initialize the string\n",
    "string = \"I am BCA graduate\"\n",
    "print(\"string =\",string)\n",
    "\n",
    "# Split the string into words\n",
    "words = string.split()\n",
    "\n",
    "# Find the shortest word\n",
    "shortest_word = min(words, key=len)\n",
    "\n",
    "# Print the result\n",
    "print(\"The shortest word in the string is:\", shortest_word)"
   ]
  },
  {
   "cell_type": "markdown",
   "id": "4e7868c4-eb04-4833-a598-5bd2e6ea7972",
   "metadata": {},
   "source": [
    "#22. Reverse the order of words in a string."
   ]
  },
  {
   "cell_type": "code",
   "execution_count": 7,
   "id": "bf0ec015-9386-4e1c-a6b5-0e65606de52c",
   "metadata": {},
   "outputs": [
    {
     "name": "stdin",
     "output_type": "stream",
     "text": [
      "Enter a string:  hi guys how are you\n"
     ]
    },
    {
     "name": "stdout",
     "output_type": "stream",
     "text": [
      "Reversed order of words: you are how guys hi\n"
     ]
    }
   ],
   "source": [
    "# Get a string input from the user\n",
    "user_input = input(\"Enter a string: \")\n",
    "\n",
    "# Split the string into words\n",
    "words = user_input.split()\n",
    "\n",
    "# Reverse the order of words\n",
    "reversed_words = ' '.join(words[::-1])\n",
    "\n",
    "# Print the result\n",
    "print(\"Reversed order of words:\", reversed_words)\n"
   ]
  },
  {
   "cell_type": "markdown",
   "id": "6fd8a620-6fb7-4b1c-a8a6-accd1db212f3",
   "metadata": {},
   "source": [
    "#23. Check if a string is alphanumeric."
   ]
  },
  {
   "cell_type": "code",
   "execution_count": 20,
   "id": "e2ba1436-311b-4fd7-bd2c-aae1a1fe830d",
   "metadata": {},
   "outputs": [
    {
     "name": "stdin",
     "output_type": "stream",
     "text": [
      "enter the string: @^!$#^jehfdfh\n"
     ]
    },
    {
     "name": "stdout",
     "output_type": "stream",
     "text": [
      "It is not alphanumeric\n"
     ]
    }
   ],
   "source": [
    "# get a string input from the user\n",
    "user_input=input(\"enter the string:\")\n",
    "\n",
    "# check if a string is alphanumeric\n",
    "if user_input.isalnum():\n",
    "    print(\"string is alphanumeric\")\n",
    "else:\n",
    "    print(\"It is not alphanumeric\")"
   ]
  },
  {
   "cell_type": "markdown",
   "id": "876540cc-a47c-4237-9bce-25772628a04f",
   "metadata": {},
   "source": [
    "#24. Extract all digits from a string."
   ]
  },
  {
   "cell_type": "code",
   "execution_count": null,
   "id": "60f608b3-4715-46db-831b-746c36bbedda",
   "metadata": {},
   "outputs": [
    {
     "name": "stdin",
     "output_type": "stream",
     "text": [
      "Enter the string : jhrfyuhrf546841245\n"
     ]
    },
    {
     "name": "stdout",
     "output_type": "stream",
     "text": [
      "Digits extracted from the string: 546841245\n"
     ]
    }
   ],
   "source": [
    "# get a string input from the user\n",
    "user_input=input(\"Enter the string :\")\n",
    "\n",
    "# extracting all the digits from the string\n",
    "digits = [char for char in user_input if char.isdigit()]\n",
    "        \n",
    "# display the result\n",
    "print(\"Digits extracted from the string:\", ''.join(digits))      \n",
    "        \n"
   ]
  },
  {
   "cell_type": "markdown",
   "id": "6937d6c9-a2cf-4820-ad4c-9cfe8e6c2654",
   "metadata": {},
   "source": [
    "#25. Extract all alphabets from a string."
   ]
  },
  {
   "cell_type": "code",
   "execution_count": 31,
   "id": "255795a3-a266-41b7-8ce8-82e60a43b95b",
   "metadata": {},
   "outputs": [
    {
     "name": "stdin",
     "output_type": "stream",
     "text": [
      "Enter the string : gfehfhe546823\n"
     ]
    },
    {
     "name": "stdout",
     "output_type": "stream",
     "text": [
      "letters extracted from the string: gfehfhe\n"
     ]
    }
   ],
   "source": [
    "# get a string input from the user\n",
    "user_input=input(\"Enter the string :\")\n",
    "\n",
    "# extracting all the alphabets from the string\n",
    "letters = [char for char in user_input if char.isalpha()]\n",
    "        \n",
    "# display the result\n",
    "print(\"letters extracted from the string:\", ''.join(letters))      \n",
    "        "
   ]
  },
  {
   "cell_type": "markdown",
   "id": "fd136775-71be-48a3-88d4-58b392debc99",
   "metadata": {},
   "source": [
    "#26. Count the number of uppercase letters in a string."
   ]
  },
  {
   "cell_type": "code",
   "execution_count": 32,
   "id": "e9f0ca5c-7964-4d1f-8814-b3d515e61397",
   "metadata": {},
   "outputs": [
    {
     "name": "stdin",
     "output_type": "stream",
     "text": [
      "Enter the string : hfuehfjHHWHWB\n"
     ]
    },
    {
     "name": "stdout",
     "output_type": "stream",
     "text": [
      "upper letters extracted from the string: HHWHWB\n"
     ]
    }
   ],
   "source": [
    "# get a string input from the user\n",
    "user_input=input(\"Enter the string :\")\n",
    "\n",
    "# extracting all the upper letters from the string\n",
    "upper_letters = [char for char in user_input if char.isupper()]\n",
    "        \n",
    "# display the result\n",
    "print(\"upper letters extracted from the string:\", ''.join(upper_letters))"
   ]
  },
  {
   "cell_type": "markdown",
   "id": "5722ba8a-48cf-4e67-9d5a-2554a5b10a59",
   "metadata": {},
   "source": [
    "#27. Count the number of lowercase letters in a string."
   ]
  },
  {
   "cell_type": "code",
   "execution_count": 33,
   "id": "78a7613e-30ca-4d7e-853f-28946cab1c0f",
   "metadata": {},
   "outputs": [
    {
     "name": "stdin",
     "output_type": "stream",
     "text": [
      "Enter the string : gucshUERFHER\n"
     ]
    },
    {
     "name": "stdout",
     "output_type": "stream",
     "text": [
      "lower letters extracted from the string: gucsh\n"
     ]
    }
   ],
   "source": [
    "# get a string input from the user\n",
    "user_input=input(\"Enter the string :\")\n",
    "\n",
    "# extracting all the lower letters from the string\n",
    "lower_letters = [char for char in user_input if char.islower()]\n",
    "        \n",
    "# display the result\n",
    "print(\"lower letters extracted from the string:\", ''.join(lower_letters))"
   ]
  },
  {
   "cell_type": "markdown",
   "id": "5b19347d-64fd-407b-ab25-d3c75b0262c7",
   "metadata": {},
   "source": [
    "#28. Swap the case of each character in a string."
   ]
  },
  {
   "cell_type": "code",
   "execution_count": 35,
   "id": "6581c2bd-b6df-4416-8ef2-ec079e932676",
   "metadata": {},
   "outputs": [
    {
     "name": "stdin",
     "output_type": "stream",
     "text": [
      "Enter a string:  HI pwskills\n"
     ]
    },
    {
     "name": "stdout",
     "output_type": "stream",
     "text": [
      "String with swapped case: hi PWSKILLS\n"
     ]
    }
   ],
   "source": [
    "# Get a string input from the user\n",
    "user_input = input(\"Enter a string: \")\n",
    "\n",
    "# Swap the case of each character in the string\n",
    "swapped_string = user_input.swapcase()\n",
    "\n",
    "# Print the result\n",
    "print(\"String with swapped case:\", swapped_string)\n"
   ]
  },
  {
   "cell_type": "markdown",
   "id": "360fa93d-7f68-4b6f-a1a8-b0f1739807a0",
   "metadata": {},
   "source": [
    "#29. Remove a specific word from a string."
   ]
  },
  {
   "cell_type": "code",
   "execution_count": 38,
   "id": "13645816-0966-4d08-aba2-94be72474779",
   "metadata": {},
   "outputs": [
    {
     "name": "stdin",
     "output_type": "stream",
     "text": [
      "Enter a string:  uihcisakx\n",
      "Enter the word to remove:  ui\n"
     ]
    },
    {
     "name": "stdout",
     "output_type": "stream",
     "text": [
      "String after removing 'ui' is: hcisakx\n"
     ]
    }
   ],
   "source": [
    "# Get a string input from the user\n",
    "user_input = input(\"Enter a string: \")\n",
    "\n",
    "# Specify the word to remove\n",
    "word_to_remove = input(\"Enter the word to remove: \")\n",
    "\n",
    "# Replace the word with an empty string\n",
    "result_string = user_input.replace(word_to_remove, '')\n",
    "\n",
    "# Print the result\n",
    "print(\"String after removing '{}' is: {}\".format(word_to_remove, result_string))\n",
    "\n"
   ]
  },
  {
   "cell_type": "markdown",
   "id": "688ea52d-9419-4398-805e-7b339073dbf8",
   "metadata": {},
   "source": [
    "#30. Check if a string is a valid email address."
   ]
  },
  {
   "cell_type": "code",
   "execution_count": 42,
   "id": "b9f7e32a-ba85-4a4f-90a9-238037604766",
   "metadata": {},
   "outputs": [
    {
     "name": "stdin",
     "output_type": "stream",
     "text": [
      "enter your email address here : aggarwal@jcjh\n"
     ]
    },
    {
     "name": "stdout",
     "output_type": "stream",
     "text": [
      "This is a valid email address\n"
     ]
    }
   ],
   "source": [
    "# get a email as input from the user\n",
    "email = input(\"enter your email address here :\")\n",
    "\n",
    "# check the email is valid or not\n",
    "if '@' in email:\n",
    "    print(\"This is a valid email address\")\n",
    "else:\n",
    "    print(\"This email address is not correct\")"
   ]
  },
  {
   "cell_type": "markdown",
   "id": "d0e08ea1-4785-48eb-89f1-2585be3bc11f",
   "metadata": {},
   "source": [
    "#31. Extract the username from an email address string."
   ]
  },
  {
   "cell_type": "code",
   "execution_count": 8,
   "id": "01d88a8a-a312-47bc-974a-aa73d22ab149",
   "metadata": {},
   "outputs": [
    {
     "name": "stdin",
     "output_type": "stream",
     "text": [
      "enter your email address here : sakshiaggarwal@gmail.com\n"
     ]
    },
    {
     "name": "stdout",
     "output_type": "stream",
     "text": [
      "The username is: sakshiaggarwal\n"
     ]
    }
   ],
   "source": [
    "# get an email as input from the user\n",
    "email_address = input(\"enter your email address here :\")\n",
    "\n",
    "\n",
    "# Extract the username using split\n",
    "username = email_address.split('@')[0]if '@' in email_address else None\n",
    "\n",
    "# Check if a username is found\n",
    "if username:\n",
    "    print(f\"The username is: {username}\")\n",
    "else:\n",
    "    print(\"No username found in the email address.\")\n",
    "\n"
   ]
  },
  {
   "cell_type": "markdown",
   "id": "87959e0f-cda6-4c11-9b53-3b5adbabb6a3",
   "metadata": {},
   "source": [
    "#32. Extract the domain name from an email address string."
   ]
  },
  {
   "cell_type": "code",
   "execution_count": 1,
   "id": "0fc6ef7f-2ef1-422f-8196-ee340ad48fdd",
   "metadata": {},
   "outputs": [
    {
     "name": "stdin",
     "output_type": "stream",
     "text": [
      "enter your email address here : sakshi@yahho.com\n"
     ]
    },
    {
     "name": "stdout",
     "output_type": "stream",
     "text": [
      "The domain is: yahho.com\n"
     ]
    }
   ],
   "source": [
    "# get an email as input from the user\n",
    "email_address = input(\"enter your email address here :\")\n",
    "\n",
    "# Split the email address at the \"@\" symbol\n",
    "parts = email_address.split('@')\n",
    "\n",
    "# Check if there are two parts (username and domain)\n",
    "if len(parts) == 2:\n",
    "    domain = parts[1]\n",
    "    print(f\"The domain is: {domain}\")\n",
    "else:\n",
    "    print(\"No domain found in the email address.\")\n"
   ]
  },
  {
   "cell_type": "markdown",
   "id": "98fd1899-dbff-4c53-830e-ab7548caf642",
   "metadata": {},
   "source": [
    "#33. Replace multiple spaces in a string with a single space."
   ]
  },
  {
   "cell_type": "code",
   "execution_count": 4,
   "id": "8401344b-3109-4ff8-8565-8a75646d753d",
   "metadata": {},
   "outputs": [
    {
     "name": "stdin",
     "output_type": "stream",
     "text": [
      "Enter the string of your choice =  hiii   everyone\n"
     ]
    },
    {
     "name": "stdout",
     "output_type": "stream",
     "text": [
      "Original string: hiii   everyone\n",
      "Modified string: hiii everyone\n"
     ]
    }
   ],
   "source": [
    "# getting an string input from the user\n",
    "input_string = input(\"Enter the string of your choice = \")\n",
    "\n",
    "# Replace multiple spaces with a single space using split and join\n",
    "output_string = ' '.join(input_string.split())\n",
    "\n",
    "print(f\"Original string: {input_string}\")\n",
    "print(f\"Modified string: {output_string}\")\n"
   ]
  },
  {
   "cell_type": "markdown",
   "id": "d10d30c4-73e7-4e7a-98ae-dc7bce1b6783",
   "metadata": {},
   "source": [
    "#34. Check if a string is a valid URL."
   ]
  },
  {
   "cell_type": "code",
   "execution_count": 6,
   "id": "4af04082-f650-479a-aab3-2fdeee1e112f",
   "metadata": {},
   "outputs": [
    {
     "name": "stdout",
     "output_type": "stream",
     "text": [
      "Collecting validators\n",
      "  Downloading validators-0.22.0-py3-none-any.whl (26 kB)\n",
      "Installing collected packages: validators\n",
      "Successfully installed validators-0.22.0\n",
      "Note: you may need to restart the kernel to use updated packages.\n"
     ]
    }
   ],
   "source": [
    "pip install validators"
   ]
  },
  {
   "cell_type": "code",
   "execution_count": 7,
   "id": "1062832d-29aa-490a-bf15-3478f13811f3",
   "metadata": {},
   "outputs": [
    {
     "name": "stdin",
     "output_type": "stream",
     "text": [
      "enter the url https://web.com\n"
     ]
    },
    {
     "name": "stdout",
     "output_type": "stream",
     "text": [
      "https://web.com is a valid URL.\n"
     ]
    }
   ],
   "source": [
    "import validators\n",
    "\n",
    "def is_valid_url(url):\n",
    "    return validators.url(url)\n",
    "\n",
    "# taking url input from the user\n",
    "url_to_check=input(\"enter the url\")\n",
    "\n",
    "if is_valid_url(url_to_check):\n",
    "    print(f\"{url_to_check} is a valid URL.\")\n",
    "else:\n",
    "    print(f\"{url_to_check} is not a valid URL.\")\n"
   ]
  },
  {
   "cell_type": "markdown",
   "id": "dad63cdb-12db-4c8f-8c63-6e9b432ba35e",
   "metadata": {},
   "source": [
    "#35. Extract the protocol (http or https) from a URL string."
   ]
  },
  {
   "cell_type": "code",
   "execution_count": 8,
   "id": "4fb9bb23-fb46-4af4-9a4d-534948e0750c",
   "metadata": {},
   "outputs": [
    {
     "name": "stdout",
     "output_type": "stream",
     "text": [
      "Protocol: https\n"
     ]
    }
   ],
   "source": [
    "from urllib.parse import urlparse\n",
    "\n",
    "def extract_protocol(url):\n",
    "    parsed_url = urlparse(url)\n",
    "    return parsed_url.scheme\n",
    "\n",
    "# Example usage:\n",
    "url = \"https://www.example.com/path/to/resource\"\n",
    "protocol = extract_protocol(url)\n",
    "print(\"Protocol:\", protocol)\n"
   ]
  },
  {
   "cell_type": "markdown",
   "id": "4bae89f2-bb52-4eb7-a045-c164ee1a6dc0",
   "metadata": {},
   "source": [
    "#36. Find the frequency of each character in a string."
   ]
  },
  {
   "cell_type": "code",
   "execution_count": 11,
   "id": "9518b92d-2434-431a-9269-a529ea091fd8",
   "metadata": {},
   "outputs": [
    {
     "name": "stdin",
     "output_type": "stream",
     "text": [
      "enter the string my name is sakshi\n"
     ]
    },
    {
     "name": "stdout",
     "output_type": "stream",
     "text": [
      "Character: 'm', Frequency: 2\n",
      "Character: 'y', Frequency: 1\n",
      "Character: ' ', Frequency: 3\n",
      "Character: 'n', Frequency: 1\n",
      "Character: 'a', Frequency: 2\n",
      "Character: 'e', Frequency: 1\n",
      "Character: 'i', Frequency: 2\n",
      "Character: 's', Frequency: 3\n",
      "Character: 'k', Frequency: 1\n",
      "Character: 'h', Frequency: 1\n"
     ]
    }
   ],
   "source": [
    "from collections import Counter\n",
    "\n",
    "# get string input from the user\n",
    "input_str=input(\"enter the string\")\n",
    "\n",
    "frequency_result = Counter(input_str)\n",
    "\n",
    "# Print the result\n",
    "for char, count in frequency_result.items():\n",
    "    print(f\"Character: '{char}', Frequency: {count}\")\n",
    "\n"
   ]
  },
  {
   "cell_type": "markdown",
   "id": "08315950-d8b7-4b93-95e4-3a8913d1aab7",
   "metadata": {},
   "source": [
    "#37.Remove all punctuation from a string."
   ]
  },
  {
   "cell_type": "code",
   "execution_count": 1,
   "id": "244a9bd0-2a33-45d6-9a92-c8407879de71",
   "metadata": {},
   "outputs": [
    {
     "name": "stdin",
     "output_type": "stream",
     "text": [
      "enter the string for yoir choice: hello!guys,,,,how are you\n"
     ]
    },
    {
     "name": "stdout",
     "output_type": "stream",
     "text": [
      "helloguyshow are you\n"
     ]
    }
   ],
   "source": [
    "def remove_punctuation(input_string):\n",
    "    no_punct = ''.join(char for char in input_string if char.isalnum() or char.isspace())\n",
    "    return no_punct\n",
    "\n",
    "# get an input  string from the user\n",
    "input_string=input(\"enter the string for yoir choice:\")\n",
    "\n",
    "# display the result\n",
    "result = remove_punctuation(input_string)\n",
    "print(result)\n"
   ]
  },
  {
   "cell_type": "markdown",
   "id": "a432392e-e241-4f85-b43b-4f8e2b7320ad",
   "metadata": {},
   "source": [
    "#38. Check if a string contains only digits."
   ]
  },
  {
   "cell_type": "code",
   "execution_count": 4,
   "id": "318fbd20-cdc0-442e-8e57-b43687123ba7",
   "metadata": {},
   "outputs": [
    {
     "name": "stdin",
     "output_type": "stream",
     "text": [
      "enter the string 6712373\n"
     ]
    },
    {
     "name": "stdout",
     "output_type": "stream",
     "text": [
      "It contains only digits\n"
     ]
    }
   ],
   "source": [
    "# get an string input from the user\n",
    "input_str=input(\"enter the string\")\n",
    "\n",
    "# check if a string contain only digits\n",
    "if input_str.isdigit():\n",
    "    print(\"It contains only digits\")\n",
    "else:\n",
    "    print(\"It does not contain only digits\")"
   ]
  },
  {
   "cell_type": "markdown",
   "id": "63c15415-8afd-4080-8666-8559ac03fc4e",
   "metadata": {},
   "source": [
    "#39. Check if a string contains only alphabets."
   ]
  },
  {
   "cell_type": "code",
   "execution_count": 6,
   "id": "9ded49c6-7a83-4bf8-b013-36522c7fd0ae",
   "metadata": {},
   "outputs": [
    {
     "name": "stdin",
     "output_type": "stream",
     "text": [
      "enter the string hello\n"
     ]
    },
    {
     "name": "stdout",
     "output_type": "stream",
     "text": [
      "It contains only alphabets\n"
     ]
    }
   ],
   "source": [
    "# get an string input from the user\n",
    "input_str=input(\"enter the string\")\n",
    "\n",
    "# check if a string contain only digits\n",
    "if input_str.isalpha():\n",
    "    print(\"It contains only alphabets\")\n",
    "else:\n",
    "    print(\"It does not contain only alphabets\")"
   ]
  },
  {
   "cell_type": "markdown",
   "id": "254c5fa6-555b-49ee-b0d4-20f042836310",
   "metadata": {},
   "source": [
    "#40. Convert a string to a list of characters."
   ]
  },
  {
   "cell_type": "code",
   "execution_count": 8,
   "id": "9ed99f0e-7bf2-4294-883d-4aa9ff18e6bd",
   "metadata": {},
   "outputs": [
    {
     "name": "stdin",
     "output_type": "stream",
     "text": [
      "enter the string hello world\n"
     ]
    },
    {
     "name": "stdout",
     "output_type": "stream",
     "text": [
      "modified string is:  ['h', 'e', 'l', 'l', 'o', ' ', 'w', 'o', 'r', 'l', 'd']\n"
     ]
    }
   ],
   "source": [
    "# get an string input from the user\n",
    "input_str=input(\"enter the string\")\n",
    "\n",
    "#convert a string into list of characters\n",
    "new_string=list(input_str)\n",
    "\n",
    "# display the result\n",
    "print(\"modified string is: \",new_string)"
   ]
  },
  {
   "cell_type": "markdown",
   "id": "5fc5158f-d83c-44a7-8e5e-7ff579765b7c",
   "metadata": {},
   "source": [
    "#41. Check if two strings are anagrams."
   ]
  },
  {
   "cell_type": "code",
   "execution_count": 10,
   "id": "6d3248d5-f5ed-44f2-a9e5-134b221b5e54",
   "metadata": {},
   "outputs": [
    {
     "name": "stdin",
     "output_type": "stream",
     "text": [
      "enter the first string:  hello\n",
      "enter the second string:  world\n"
     ]
    },
    {
     "name": "stdout",
     "output_type": "stream",
     "text": [
      "strings are not anagrams\n"
     ]
    }
   ],
   "source": [
    "# get an input string from the user\n",
    "input_str1=input(\"enter the first string: \")\n",
    "input_str2=input(\"enter the second string: \")\n",
    "\n",
    "# Remove spaces and convert to lowercase for a case-insensitive comparison\n",
    "string1 = input_str1.replace(\" \", \"\").lower()\n",
    "string2 = input_str2.replace(\" \", \"\").lower()\n",
    "\n",
    "# Check if the sorted characters in both strings are the same\n",
    "are_anagrams = sorted(string1) == sorted(string2)\n",
    "\n",
    "# display the result\n",
    "if are_anagrams==True:\n",
    "    print(\"both strings are anagrams\")\n",
    "else:\n",
    "    print(\"strings are not anagrams\")"
   ]
  },
  {
   "cell_type": "markdown",
   "id": "ec5997a3-ea6c-42e1-8edb-c7ffd6a5dfe3",
   "metadata": {},
   "source": [
    "#42. Encode a string using a Caesar cipher."
   ]
  },
  {
   "cell_type": "markdown",
   "id": "ee23dc76-cbda-4314-b50e-588e406570ad",
   "metadata": {},
   "source": [
    "The Caesar cipher is a simple encryption technique that was used by Julius Caesar to send secret messages to his allies. It works by shifting the letters in the plaintext message by a certain number of positions, known as the “shift” or “key”.\n",
    "\n",
    "Write down the plaintext message: HELLO\n",
    "Choose a shift value. In this case, we will use a shift of 3.\n",
    "Replace each letter in the plaintext message with the letter that is three positions to the right in the alphabet.\n",
    "         H becomes K (shift 3 from H)\n",
    "\n",
    "         E becomes H (shift 3 from E)\n",
    "\n",
    "         L becomes O (shift 3 from L)\n",
    "\n",
    "         L becomes O (shift 3 from L)\n",
    "\n"
   ]
  },
  {
   "cell_type": "code",
   "execution_count": 17,
   "id": "e3973785-d8f2-4d84-aec1-9a79b028a11a",
   "metadata": {},
   "outputs": [
    {
     "name": "stdin",
     "output_type": "stream",
     "text": [
      "enter the text gourav\n",
      "enter the shift value : 5\n"
     ]
    },
    {
     "name": "stdout",
     "output_type": "stream",
     "text": [
      "Original: gourav\n",
      "Encrypted: ltzwfa\n"
     ]
    }
   ],
   "source": [
    "#get a string input from the user\n",
    "plaintext =input(\"enter the text\")\n",
    "\n",
    "# get a shift value from the user\n",
    "shift=int(input(\"enter the shift value :\"))\n",
    "\n",
    "# Encode the string using a Caesar cipher\n",
    "encrypted_text = ''.join([chr((ord(char) - ord('A' if char.isupper() else 'a') + shift) % 26 + ord('A' if char.isupper() else 'a')) if char.isalpha() else char for char in plaintext])\n",
    "\n",
    "# Example usage:\n",
    "print(f\"Original: {plaintext}\")\n",
    "print(f\"Encrypted: {encrypted_text}\")\n"
   ]
  },
  {
   "cell_type": "markdown",
   "id": "ecacbbb8-31b9-41bf-8ba9-a1c7067b9ac4",
   "metadata": {},
   "source": [
    "#43. Decode a Caesar cipher encoded string."
   ]
  },
  {
   "cell_type": "code",
   "execution_count": 1,
   "id": "c1bc5fa6-33ff-4d9f-bc4e-400bf84d4117",
   "metadata": {},
   "outputs": [
    {
     "name": "stdout",
     "output_type": "stream",
     "text": [
      "Encoded: ltzwfa\n",
      "Decoded: gourav\n"
     ]
    }
   ],
   "source": [
    "# Encoded string\n",
    "encoded_text = \"ltzwfa\"\n",
    "\n",
    "# Decode the string using a Caesar cipher with a shift of 5\n",
    "decoded_text = ''.join([chr((ord(char) - ord('A' if char.isupper() else 'a') - 5) % 26 + ord('A' if char.isupper() else 'a')) if char.isalpha() else char for char in encoded_text])\n",
    "\n",
    "# Example usage:\n",
    "print(f\"Encoded: {encoded_text}\")\n",
    "print(f\"Decoded: {decoded_text}\")\n"
   ]
  },
  {
   "cell_type": "markdown",
   "id": "4bb02b32-cb49-4696-8434-db34cb3dd5fd",
   "metadata": {},
   "source": [
    "#44. Find the most frequent word in a string."
   ]
  },
  {
   "cell_type": "code",
   "execution_count": 3,
   "id": "5b2ed94f-8b66-4d49-865a-927ca23becc8",
   "metadata": {},
   "outputs": [
    {
     "name": "stdin",
     "output_type": "stream",
     "text": [
      "enter the string hello is is my cake\n"
     ]
    },
    {
     "name": "stdout",
     "output_type": "stream",
     "text": [
      "The most frequent word is: is\n"
     ]
    }
   ],
   "source": [
    "import re \n",
    "\n",
    "# get an string input from the user\n",
    "input_str=input(\"enter the string\")\n",
    "\n",
    "# Remove punctuation and convert to lowercase\n",
    "cleaned_string = re.sub(r'[^\\w\\s]', '', input_str.lower())\n",
    "\n",
    "# split the string into words\n",
    "words=cleaned_string.split()\n",
    "\n",
    "# count the occurences of each word using a dictionary\n",
    "word_count={}\n",
    "for word in words:\n",
    "    if word in word_count:\n",
    "        word_count[word] += 1\n",
    "    else:\n",
    "        word_count[word] =1\n",
    "        \n",
    "# Find the most common word\n",
    "most_common_word = max(word_count, key=word_count.get)\n",
    "\n",
    "# Display the result\n",
    "print(f\"The most frequent word is: {most_common_word}\")"
   ]
  },
  {
   "cell_type": "markdown",
   "id": "6301010d-dea9-4df0-ac9c-915731af72e5",
   "metadata": {},
   "source": [
    "#45. Find all unique words in a string."
   ]
  },
  {
   "cell_type": "code",
   "execution_count": 7,
   "id": "12e2271c-2edc-4dd2-b601-c67d29c0624e",
   "metadata": {},
   "outputs": [
    {
     "name": "stdin",
     "output_type": "stream",
     "text": [
      "enter the string hello is is my \n"
     ]
    },
    {
     "name": "stdout",
     "output_type": "stream",
     "text": [
      "Unique words in the string: {'my', 'is', 'hello'}\n"
     ]
    }
   ],
   "source": [
    "import re \n",
    "\n",
    "# get an string input from the user\n",
    "input_str=input(\"enter the string\")\n",
    "\n",
    "# Remove punctuation and convert to lowercase\n",
    "cleaned_string = re.sub(r'[^\\w\\s]', '', input_str.lower())\n",
    "\n",
    "# split the string into words\n",
    "words=cleaned_string.split()\n",
    "\n",
    "# Get unique words using a set\n",
    "unique_words = set(words)\n",
    "\n",
    "# Display the result\n",
    "print(f\"Unique words in the string: {unique_words}\")"
   ]
  },
  {
   "cell_type": "markdown",
   "id": "b5578a39-06f2-497e-97f9-1df32b866443",
   "metadata": {},
   "source": [
    "#46. Count the number of syllables in a string."
   ]
  },
  {
   "cell_type": "code",
   "execution_count": 12,
   "id": "274bc8bb-d07f-4704-8e3f-0c289703a05b",
   "metadata": {},
   "outputs": [
    {
     "name": "stdin",
     "output_type": "stream",
     "text": [
      "enter the word : yuhilw\n"
     ]
    },
    {
     "name": "stdout",
     "output_type": "stream",
     "text": [
      "'yuhilw' has 2 syllables.\n"
     ]
    }
   ],
   "source": [
    "import re\n",
    "\n",
    "def count_syllables(word):\n",
    "    # Count vowel groups using regular expression\n",
    "    vowel_groups = re.findall(r'[aeiouy]+', word, re.IGNORECASE)\n",
    "\n",
    "    return len(vowel_groups)\n",
    "\n",
    "# Example words\n",
    "word = input(\"enter the word :\")\n",
    "\n",
    "# Count syllables\n",
    "syllables = count_syllables(word)\n",
    "\n",
    "# Print the results\n",
    "print(f\"'{word}' has {syllables} syllables.\")\n"
   ]
  },
  {
   "cell_type": "markdown",
   "id": "b2fc563b-c6d4-4d89-a5b3-497c5e03a002",
   "metadata": {},
   "source": [
    "#47. Check if a string contains any special characters."
   ]
  },
  {
   "cell_type": "code",
   "execution_count": 6,
   "id": "ad464ba0-a1e1-468e-b66b-d9b96b07c9e3",
   "metadata": {},
   "outputs": [
    {
     "name": "stdin",
     "output_type": "stream",
     "text": [
      "enter the string : kjsjdk^^\n"
     ]
    },
    {
     "name": "stdout",
     "output_type": "stream",
     "text": [
      "'kjsjdk^^' contains special characters: True\n"
     ]
    }
   ],
   "source": [
    "import re\n",
    "\n",
    "def contains_special_characters(input_string):\n",
    "    # Define a regular expression pattern to match special characters\n",
    "    symbol = re.compile(r'[!@#$%^&*()_+{}\\[\\]:;<>,.?~\\\\/]')\n",
    "\n",
    "    # Use the search() method to find a match\n",
    "    match = symbol.search(input_string)\n",
    "\n",
    "    # Return True if a match is found, False otherwise\n",
    "    return bool(match)\n",
    "\n",
    "# Example strings\n",
    "# string1 = \"Hello, world!\"\n",
    "# string2 = \"This is a test.\"\n",
    "# string3 = \"Special@Characters\"\n",
    "string=input(\"enter the string :\")\n",
    "\n",
    "# Check if strings contain special characters\n",
    "result = contains_special_characters(string)\n",
    "# result2 = contains_special_characters(string2)\n",
    "# result3 = contains_special_characters(string3)\n",
    "\n",
    "# Print the results\n",
    "print(f\"'{string}' contains special characters:\", result)\n",
    "# print(f\"'{string2}' contains special characters:\", result2)\n",
    "# print(f\"'{string3}' contains special characters:\", result3)\n",
    "      "
   ]
  },
  {
   "cell_type": "markdown",
   "id": "b1873b27-1a11-4fee-ad62-1b7bf9667d3b",
   "metadata": {},
   "source": [
    "#48. Remove the nth word from a string."
   ]
  },
  {
   "cell_type": "code",
   "execution_count": 12,
   "id": "ff96fcc6-f9ee-48d3-8421-70450bd5b8bd",
   "metadata": {},
   "outputs": [
    {
     "name": "stdin",
     "output_type": "stream",
     "text": [
      "enter the string:  how are you guys\n",
      "enter the index value 2\n"
     ]
    },
    {
     "name": "stdout",
     "output_type": "stream",
     "text": [
      "Original: how are you guys\n",
      "Modified: how are guys\n"
     ]
    }
   ],
   "source": [
    "# get an string input fro the user\n",
    "input_string =input(\"enter the string: \")\n",
    "\n",
    "# Split the string into words\n",
    "words = input_string.split()\n",
    "\n",
    "# Specify the index of the word to remove (indexing starts from 0)\n",
    "index_to_remove = int(input(\"enter the index value\"))\n",
    "\n",
    "# Check if the index is within the range of the words\n",
    "if 0 <= index_to_remove < len(words):\n",
    "    # Remove the word at the specified index\n",
    "    del words[index_to_remove]\n",
    "\n",
    "    # Join the remaining words back into a string\n",
    "    modified_string = ' '.join(words)\n",
    "\n",
    "    # Display the result\n",
    "    print(f\"Original: {input_string}\")\n",
    "    print(f\"Modified: {modified_string}\")\n",
    "else:\n",
    "    print(\"Invalid index.\")\n"
   ]
  },
  {
   "cell_type": "markdown",
   "id": "bbfb4323-4090-4b24-8824-5d0c9647184a",
   "metadata": {},
   "source": [
    "#49. Insert a word at the nth position in a string."
   ]
  },
  {
   "cell_type": "code",
   "execution_count": 20,
   "id": "caea17d5-522b-4aab-b050-539e1bf951d0",
   "metadata": {},
   "outputs": [
    {
     "name": "stdin",
     "output_type": "stream",
     "text": [
      "enter the string : how are you guys\n",
      "enter the word priya\n",
      "enter the index value 2\n"
     ]
    },
    {
     "name": "stdout",
     "output_type": "stream",
     "text": [
      "Original: how are you guys\n",
      "Modified: how are priya you guys\n"
     ]
    }
   ],
   "source": [
    "# get an input from the user\n",
    "original_string = input(\"enter the string :\")\n",
    "\n",
    "# Word to insert\n",
    "word_to_insert = input(\"enter the word\")\n",
    "\n",
    "# Specify the index to insert the word (indexing starts from 0)\n",
    "index_to_insert = int(input(\"enter the index value\"))\n",
    "\n",
    "# Check if the index is within the range of the original string\n",
    "if 0 <= index_to_insert <= len(original_string.split()):\n",
    "    # Split the original string into a list of words\n",
    "    words = original_string.split()\n",
    "\n",
    "    # Insert the word at the specified index\n",
    "    words.insert(index_to_insert, word_to_insert)\n",
    "\n",
    "    # Join the modified list of words back into a string\n",
    "    modified_string = ' '.join(words)\n",
    "\n",
    "    # Display the result\n",
    "    print(f\"Original: {original_string}\")\n",
    "    print(f\"Modified: {modified_string}\")\n",
    "else:\n",
    "    print(\"Invalid index.\")\n"
   ]
  },
  {
   "cell_type": "markdown",
   "id": "a2278310-57a9-4253-8a43-cc4dee34f06f",
   "metadata": {},
   "source": [
    "#50. Convert a CSV string to a list of lists."
   ]
  },
  {
   "cell_type": "code",
   "execution_count": 21,
   "id": "f329f82d-ae5c-4203-bf4e-620040945a4d",
   "metadata": {},
   "outputs": [
    {
     "name": "stdout",
     "output_type": "stream",
     "text": [
      "[['Name', 'Age', 'Location'], ['John', '25', 'New York'], ['Jane', '30', 'San Francisco']]\n"
     ]
    }
   ],
   "source": [
    "# Example CSV string\n",
    "csv_string = \"Name,Age,Location\\nJohn,25,New York\\nJane,30,San Francisco\"\n",
    "\n",
    "# Split the CSV string into lines and then split each line into a list of values\n",
    "list_of_lists = [line.split(',') for line in csv_string.split('\\n') if line]\n",
    "\n",
    "# Display the result\n",
    "print(list_of_lists)\n"
   ]
  },
  {
   "cell_type": "markdown",
   "id": "e7fcaeed-fc2a-4945-a86e-decfdce3521e",
   "metadata": {},
   "source": [
    "List Based Practice Problem :"
   ]
  },
  {
   "cell_type": "markdown",
   "id": "f79a454c-7ee1-41e5-aa92-5f795fed2862",
   "metadata": {},
   "source": [
    "#1. Create a list with integers from 1 to 10."
   ]
  },
  {
   "cell_type": "code",
   "execution_count": 9,
   "id": "8e797935-12fc-41a2-b358-c1b6a85f0dc6",
   "metadata": {},
   "outputs": [
    {
     "name": "stdout",
     "output_type": "stream",
     "text": [
      "[0, 1, 2, 3, 4, 5, 6, 7, 8, 9, 10]\n"
     ]
    }
   ],
   "source": [
    "#using the list comprehension\n",
    "integer_lst = [i for i in range(0,11)]\n",
    "print(integer_lst)"
   ]
  },
  {
   "cell_type": "markdown",
   "id": "df9788a7-114f-44cd-b13f-809eba21af83",
   "metadata": {},
   "source": [
    "#2. Find the length of a list without using the `len()` function."
   ]
  },
  {
   "cell_type": "code",
   "execution_count": 1,
   "id": "239ff62f-ba68-4817-ba1e-5b67f01e1316",
   "metadata": {},
   "outputs": [
    {
     "name": "stdin",
     "output_type": "stream",
     "text": [
      "enter the list separated by spaces:  10 20 30 40 50 \n"
     ]
    },
    {
     "name": "stdout",
     "output_type": "stream",
     "text": [
      "The length of the list is: 5\n"
     ]
    }
   ],
   "source": [
    "# get a input string from the user\n",
    "input_lst=input(\"enter the list separated by spaces: \")\n",
    "list=input_lst.split()\n",
    "# Calculate the length without using len()\n",
    "length = 0\n",
    "\n",
    "for i in list:\n",
    "    length += 1\n",
    "\n",
    "# Display the result\n",
    "print(f\"The length of the list is: {length}\")\n"
   ]
  },
  {
   "cell_type": "markdown",
   "id": "1be9a11c-5001-46bf-8c60-9fa64691bb5c",
   "metadata": {},
   "source": [
    "#3. Append an element to the end of a list."
   ]
  },
  {
   "cell_type": "code",
   "execution_count": 2,
   "id": "c1673002-f5aa-4fb5-9492-649c24bdb2e9",
   "metadata": {},
   "outputs": [
    {
     "name": "stdout",
     "output_type": "stream",
     "text": [
      "[10, 20, 30, 40]\n"
     ]
    }
   ],
   "source": [
    "# initialize the list\n",
    "list=[10,20,30]\n",
    "\n",
    "# insert the alement using append function\n",
    "list.append(40)\n",
    "print(list)"
   ]
  },
  {
   "cell_type": "markdown",
   "id": "e88fb652-d006-4acd-bac0-454b5e6cc132",
   "metadata": {},
   "source": [
    "#4. Insert an element at a specific index in a list."
   ]
  },
  {
   "cell_type": "code",
   "execution_count": 1,
   "id": "298a78af-7b6a-49f1-9c97-a7c630863080",
   "metadata": {},
   "outputs": [
    {
     "name": "stdin",
     "output_type": "stream",
     "text": [
      "enter the data you want to insert : 45\n",
      "enter the index where you want to insert the data 2\n"
     ]
    },
    {
     "name": "stdout",
     "output_type": "stream",
     "text": [
      "[10, 20, '45', 30, 40, 50, 60, 70, 80, 90]\n"
     ]
    }
   ],
   "source": [
    "# initialize the list\n",
    "list=[10,20,30,40,50,60,70,80,90]\n",
    "\n",
    "#insert the elMement in the list\n",
    "data=input(\"enter the data you want to insert :\")\n",
    "index=int(input(\"enter the index where you want to insert the data\"))\n",
    "\n",
    "list.insert(index,data)\n",
    "print(list)"
   ]
  },
  {
   "cell_type": "markdown",
   "id": "1be27987-d322-499d-9c14-81c59c87835b",
   "metadata": {},
   "source": [
    "#5. Remove an element from a list by its value."
   ]
  },
  {
   "cell_type": "code",
   "execution_count": 8,
   "id": "afaed478-d2ff-4aec-9a93-c7c48d8132f3",
   "metadata": {},
   "outputs": [
    {
     "name": "stdin",
     "output_type": "stream",
     "text": [
      "enter the element you want to remove : 20\n"
     ]
    },
    {
     "name": "stdout",
     "output_type": "stream",
     "text": [
      "updated list : [10, 30, 40, 50, 60, 70, 80, 90]\n"
     ]
    }
   ],
   "source": [
    "# initialize the list\n",
    "my_list=[10,20,30,40,50,60,70,80,90]\n",
    "\n",
    "# get the element by user\n",
    "element_to_remove=int(input(\"enter the element you want to remove :\"))\n",
    "\n",
    "if element_to_remove in list:\n",
    "    my_list.remove(element_to_remove)\n",
    "    print(\"updated list :\",my_list)\n",
    "    \n",
    "else:\n",
    "    print(\"element is not present in the list\")\n",
    "    "
   ]
  },
  {
   "cell_type": "markdown",
   "id": "5fd8ee6b-a93d-4d26-ba44-dfd9ddb2d4c7",
   "metadata": {},
   "source": [
    "#6. Remove an element from a list by its index."
   ]
  },
  {
   "cell_type": "code",
   "execution_count": 2,
   "id": "0f865dae-b828-40be-8dff-58daf2a16bfb",
   "metadata": {},
   "outputs": [
    {
     "name": "stdin",
     "output_type": "stream",
     "text": [
      "enter the index where you want to remove the data 2\n"
     ]
    },
    {
     "name": "stdout",
     "output_type": "stream",
     "text": [
      "updated list : [10, 20, 40, 50, 60, 70, 80, 90]\n",
      "removed list is : 30\n"
     ]
    }
   ],
   "source": [
    "# initialize the list\n",
    "user_list=[10,20,30,40,50,60,70,80,90]\n",
    "\n",
    "#get an index by user \n",
    "index=int(input(\"enter the index where you want to remove the data\"))\n",
    "\n",
    "# removing data by pop method\n",
    "removed_element = user_list.pop(index)\n",
    "print(\"updated list :\",user_list)\n",
    "print(\"removed list is :\",removed_element)\n",
    "\n"
   ]
  },
  {
   "cell_type": "markdown",
   "id": "736613b3-c289-4459-927c-1212712c0299",
   "metadata": {},
   "source": [
    "#7. Check if an element exists in a list."
   ]
  },
  {
   "cell_type": "code",
   "execution_count": 6,
   "id": "c365cbd5-5110-4ee1-8aa1-16f717532928",
   "metadata": {},
   "outputs": [
    {
     "name": "stdin",
     "output_type": "stream",
     "text": [
      "enter the element you want to remove : 20\n"
     ]
    },
    {
     "name": "stdout",
     "output_type": "stream",
     "text": [
      "element is present in the list\n"
     ]
    }
   ],
   "source": [
    "# initialize the list\n",
    "user_list=[10,20,30,40,50,60,70,80,90]\n",
    "\n",
    "# get the element by user\n",
    "element_to_find=int(input(\"enter the element you want to remove :\"))\n",
    "\n",
    "if element_to_find in user_list:\n",
    "    print(\"element is present in the list\")\n",
    "    \n",
    "else:\n",
    "    print(\"element is not present in the list\")\n",
    "    "
   ]
  },
  {
   "cell_type": "markdown",
   "id": "c577fbdc-965c-45b5-b51e-c765fab604e5",
   "metadata": {},
   "source": [
    "#8. Find the index of the first occurrence of an element in a list."
   ]
  },
  {
   "cell_type": "code",
   "execution_count": 9,
   "id": "f8af2c35-0b89-4735-9cf2-60d38cbe30e8",
   "metadata": {},
   "outputs": [
    {
     "name": "stdin",
     "output_type": "stream",
     "text": [
      "enter the element you want to remove : 40\n"
     ]
    },
    {
     "name": "stdout",
     "output_type": "stream",
     "text": [
      "The index of 40 is 3\n"
     ]
    }
   ],
   "source": [
    "# initialize the list\n",
    "user_list=[10,20,30,40,50,60,70,40,50,80,90]\n",
    "\n",
    "#get user input Element to find the index of\n",
    "element_to_find=int(input(\"enter the element you want to remove :\"))\n",
    "\n",
    "if element_to_find in user_list:\n",
    "    index = user_list.index(element_to_find)\n",
    "    print(f\"The index of {element_to_find} is {index}\")\n",
    "\n",
    "else:\n",
    "    print(\"element is not present in the list\")"
   ]
  },
  {
   "cell_type": "markdown",
   "id": "649a5b40-67a8-48ab-b478-3224c68b157f",
   "metadata": {},
   "source": [
    "#9. Count the occurrences of an element in a list."
   ]
  },
  {
   "cell_type": "code",
   "execution_count": 3,
   "id": "dc06bde8-2e7e-463c-bc65-3a60f39fa096",
   "metadata": {},
   "outputs": [
    {
     "name": "stdin",
     "output_type": "stream",
     "text": [
      "enter the element you want to remove : 40\n"
     ]
    },
    {
     "name": "stdout",
     "output_type": "stream",
     "text": [
      "The element 40 occurs 2 times in the list.\n"
     ]
    }
   ],
   "source": [
    "# initialize the list\n",
    "user_list=[10,20,30,40,50,60,70,40,50,80,90]\n",
    "\n",
    "#get user input Element to find the index of\n",
    "element_to_count=int(input(\"enter the element you want to remove :\"))\n",
    "\n",
    "if element_to_count in user_list:\n",
    "    # Count the occurrences of the element\n",
    "    count = user_list.count(element_to_count)\n",
    "    print(f\"The element {element_to_count} occurs {count} times in the list.\")\n",
    "\n",
    "else:\n",
    "    print(\"element is not present in the list\")"
   ]
  },
  {
   "cell_type": "markdown",
   "id": "cdc9a5a7-dbb4-49c3-a10a-8d0694ac538b",
   "metadata": {},
   "source": [
    "#10. Reverse the order of elements in a list."
   ]
  },
  {
   "cell_type": "code",
   "execution_count": 9,
   "id": "065bef44-782a-4a5c-a132-18f4eeb20aba",
   "metadata": {},
   "outputs": [
    {
     "name": "stdout",
     "output_type": "stream",
     "text": [
      "reverse list is : [90, 80, 50, 40, 70, 60, 50, 40, 30, 20, 10]\n"
     ]
    }
   ],
   "source": [
    "# initialize the list\n",
    "input_list=[10,20,30,40,50,60,70,40,50,80,90]\n",
    "\n",
    "#reverse the list by reverse method\n",
    "input_list.reverse()\n",
    "\n",
    "# print the result\n",
    "print(\"reverse list is :\",input_list)"
   ]
  },
  {
   "cell_type": "markdown",
   "id": "ba43fe37-c8f6-4b9a-af99-5382c7b525de",
   "metadata": {},
   "source": [
    "#11. Sort a list in ascending order."
   ]
  },
  {
   "cell_type": "code",
   "execution_count": 10,
   "id": "dcfc22de-b380-48f3-9bc1-8570bfc27733",
   "metadata": {},
   "outputs": [
    {
     "name": "stdout",
     "output_type": "stream",
     "text": [
      "sorted list is : [10, 20, 30, 40, 40, 50, 50, 60, 70, 80, 90]\n"
     ]
    }
   ],
   "source": [
    "# initialize the list\n",
    "input_list=[10,20,30,40,50,60,70,40,50,80,90]\n",
    "\n",
    "#reverse the list by reverse method\n",
    "input_list.sort()\n",
    "\n",
    "# print the result\n",
    "print(\"sorted list is :\",input_list)"
   ]
  },
  {
   "cell_type": "markdown",
   "id": "32b97b43-ec89-4653-8edb-db8cf68612b9",
   "metadata": {},
   "source": [
    "#12. Sort a list in descending order."
   ]
  },
  {
   "cell_type": "code",
   "execution_count": 13,
   "id": "df9c8379-46b0-463d-be40-a5d0f8807cb4",
   "metadata": {},
   "outputs": [
    {
     "name": "stdout",
     "output_type": "stream",
     "text": [
      "sorted list is : [90, 80, 70, 60, 50, 50, 40, 40, 30, 20, 10]\n"
     ]
    }
   ],
   "source": [
    "# initialize the list\n",
    "input_list=[10,20,30,40,50,60,70,40,50,80,90]\n",
    "\n",
    "#reverse the list by reverse method\n",
    "input_list.sort(reverse=True)\n",
    "\n",
    "# print the result\n",
    "print(\"sorted list is :\",input_list)"
   ]
  },
  {
   "cell_type": "markdown",
   "id": "59166755-e74c-4c3f-8efa-45fe08b2c1a9",
   "metadata": {},
   "source": [
    "#13. Create a list of even numbers from 1 to 20."
   ]
  },
  {
   "cell_type": "code",
   "execution_count": 7,
   "id": "c9834509-a2f6-44c5-b79a-ee235ac38e34",
   "metadata": {},
   "outputs": [
    {
     "name": "stdin",
     "output_type": "stream",
     "text": [
      "enter the range of the list: 20\n"
     ]
    },
    {
     "name": "stdout",
     "output_type": "stream",
     "text": [
      "List of even numbers: [2, 4, 6, 8, 10, 12, 14, 16, 18]\n"
     ]
    }
   ],
   "source": [
    "# get the range of list from user\n",
    "rang=int(input(\"enter the range of the list:\"))\n",
    "\n",
    "\n",
    "# Use a list comprehension to create a list of even numbers from 1 to range\n",
    "even_numbers = [x for x in range(2, rang,2)]\n",
    "\n",
    "# Print the list of even numbers\n",
    "print(\"List of even numbers:\", even_numbers)\n"
   ]
  },
  {
   "cell_type": "markdown",
   "id": "3fc24b55-5a50-4479-9588-9877d398d5e6",
   "metadata": {},
   "source": [
    "#14. Create a list of odd numbers from 1 to 20."
   ]
  },
  {
   "cell_type": "code",
   "execution_count": 8,
   "id": "a2a06f7e-de8c-4e32-8c72-62e6c5623f37",
   "metadata": {},
   "outputs": [
    {
     "name": "stdin",
     "output_type": "stream",
     "text": [
      "enter the range of the list: 20\n"
     ]
    },
    {
     "name": "stdout",
     "output_type": "stream",
     "text": [
      "List of even numbers: [1, 3, 5, 7, 9, 11, 13, 15, 17, 19]\n"
     ]
    }
   ],
   "source": [
    "# get the range of list from user\n",
    "rang=int(input(\"enter the range of the list:\"))\n",
    "\n",
    "\n",
    "# Use a list comprehension to create a list of even numbers from 1 to range\n",
    "even_numbers = [x for x in range(1, rang,2)]\n",
    "\n",
    "# Print the list of even numbers\n",
    "print(\"List of even numbers:\", even_numbers)\n"
   ]
  },
  {
   "cell_type": "markdown",
   "id": "279a50d5-ea89-4470-ae17-e3fb08462b9d",
   "metadata": {},
   "source": [
    "#15. Find the sum of all elements in a list."
   ]
  },
  {
   "cell_type": "code",
   "execution_count": 1,
   "id": "73983a36-63cf-44a7-b0b7-faac2f386126",
   "metadata": {},
   "outputs": [
    {
     "name": "stdin",
     "output_type": "stream",
     "text": [
      "Enter a list of numbers separated by commas:  20,40,10,50\n"
     ]
    },
    {
     "name": "stdout",
     "output_type": "stream",
     "text": [
      "The sum of all elements in the list is: 120\n"
     ]
    }
   ],
   "source": [
    "# Take a list input from the user\n",
    "user_input = input(\"Enter a list of numbers separated by commas: \")\n",
    "\n",
    "# Convert the input string to a list of integers\n",
    "user_list = [int(item.strip()) for item in user_input.split(',')]\n",
    "\n",
    "# Calculate the sum of all elements in the list\n",
    "sum_of_elements = sum(user_list)\n",
    "\n",
    "# Display the result\n",
    "print(f\"The sum of all elements in the list is: {sum_of_elements}\")\n",
    "\n"
   ]
  },
  {
   "cell_type": "markdown",
   "id": "c0c3b80a-13c7-4e57-818e-ba18f4827d2f",
   "metadata": {},
   "source": [
    "#16. Find the maximum value in a list."
   ]
  },
  {
   "cell_type": "code",
   "execution_count": 2,
   "id": "128262c6-5a72-49c4-939c-2a7a59515833",
   "metadata": {},
   "outputs": [
    {
     "name": "stdin",
     "output_type": "stream",
     "text": [
      "Enter a list of numbers separated by commas:  20,40,50,80\n"
     ]
    },
    {
     "name": "stdout",
     "output_type": "stream",
     "text": [
      "The max of all elements in the list is: 80\n"
     ]
    }
   ],
   "source": [
    "# Take a list input from the user\n",
    "user_input = input(\"Enter a list of numbers separated by commas: \")\n",
    "\n",
    "# Convert the input string to a list of integers\n",
    "user_list = [int(item.strip()) for item in user_input.split(',')]\n",
    "\n",
    "# Calculate the sum of all elements in the list\n",
    "max_of_elements = max(user_list)\n",
    "\n",
    "# Display the result\n",
    "print(f\"The max of all elements in the list is: {max_of_elements}\")\n"
   ]
  },
  {
   "cell_type": "markdown",
   "id": "7d78ff89-ec4d-4c44-ba91-a2536c7878ba",
   "metadata": {},
   "source": [
    "#17. Find the minimum value in a list."
   ]
  },
  {
   "cell_type": "code",
   "execution_count": 3,
   "id": "45b9b47a-76f8-469e-b1df-1ccd805fd695",
   "metadata": {},
   "outputs": [
    {
     "name": "stdin",
     "output_type": "stream",
     "text": [
      "Enter a list of numbers separated by commas:  20,10,50,5,12\n"
     ]
    },
    {
     "name": "stdout",
     "output_type": "stream",
     "text": [
      "The min of all elements in the list is: 5\n"
     ]
    }
   ],
   "source": [
    "# Take a list input from the user\n",
    "user_input = input(\"Enter a list of numbers separated by commas: \")\n",
    "\n",
    "# Convert the input string to a list of integers\n",
    "user_list = [int(item.strip()) for item in user_input.split(',')]\n",
    "\n",
    "# Calculate the sum of all elements in the list\n",
    "min_of_elements = min(user_list)\n",
    "\n",
    "# Display the result\n",
    "print(f\"The min of all elements in the list is: {min_of_elements}\")"
   ]
  },
  {
   "cell_type": "markdown",
   "id": "26f4a1d3-91c7-4d3f-8ca9-a03e3e377572",
   "metadata": {},
   "source": [
    "#18. Create a list of squares of numbers from 1 to 10."
   ]
  },
  {
   "cell_type": "code",
   "execution_count": 8,
   "id": "20ef61d2-2151-43a4-9dd3-3998ecb8c96b",
   "metadata": {},
   "outputs": [
    {
     "name": "stdout",
     "output_type": "stream",
     "text": [
      "[0, 1, 4, 9, 16, 25, 36, 49, 64, 81, 100]\n"
     ]
    }
   ],
   "source": [
    "#using the list comprehension\n",
    "integer_lst = [i**2 for i in range(0,11)]\n",
    "\n",
    "print(integer_lst)"
   ]
  },
  {
   "cell_type": "markdown",
   "id": "d1f26657-6ff1-4645-93bc-7d5a5ef829cf",
   "metadata": {},
   "source": [
    "#19. Create a list of random numbers."
   ]
  },
  {
   "cell_type": "code",
   "execution_count": 9,
   "id": "440920e8-4e9c-46d0-b99c-fba3ef02f25b",
   "metadata": {},
   "outputs": [
    {
     "name": "stdout",
     "output_type": "stream",
     "text": [
      "List of random numbers: [37, 69, 14, 1, 53, 68, 93, 39, 98, 53]\n"
     ]
    }
   ],
   "source": [
    "import random\n",
    "\n",
    "# Specify the size of the list\n",
    "list_size = 10\n",
    "\n",
    "# Create a list of random numbers\n",
    "random_numbers = [random.randint(1, 100) for _ in range(list_size)]\n",
    "\n",
    "# Display the result\n",
    "print(\"List of random numbers:\", random_numbers)\n",
    "\n",
    "\n"
   ]
  },
  {
   "cell_type": "markdown",
   "id": "237d3ef3-02c4-4bd6-9c5e-ac88cdd1a08e",
   "metadata": {},
   "source": [
    "#20. Remove duplicates from a list."
   ]
  },
  {
   "cell_type": "code",
   "execution_count": 11,
   "id": "1978f5b3-6809-4dcd-8b95-e260d9fd0039",
   "metadata": {},
   "outputs": [
    {
     "name": "stdin",
     "output_type": "stream",
     "text": [
      "Enter a list of numbers separated by commas:  10,20,40,40,20,90,70,30,10\n"
     ]
    },
    {
     "name": "stdout",
     "output_type": "stream",
     "text": [
      "list after removing the dublicates elements:  {70, 40, 10, 20, 90, 30}\n"
     ]
    }
   ],
   "source": [
    "# Take a list input from the user\n",
    "user_input = input(\"Enter a list of numbers separated by commas: \")\n",
    "\n",
    "# Convert the input string to a list of integers\n",
    "user_list = [int(item.strip()) for item in user_input.split(',')]\n",
    "\n",
    "#remove dublicates by using sets\n",
    "unique_list=set(user_list)\n",
    "\n",
    "#print the result\n",
    "print(\"list after removing the dublicates elements: \",unique_list)"
   ]
  },
  {
   "cell_type": "markdown",
   "id": "87d9cb5d-b3e5-45bf-80a7-7728ae38a6a8",
   "metadata": {},
   "source": [
    "#21. Find the common elements between two lists."
   ]
  },
  {
   "cell_type": "code",
   "execution_count": 13,
   "id": "d56bf041-8080-4273-adc9-5482ff38301b",
   "metadata": {},
   "outputs": [
    {
     "name": "stdin",
     "output_type": "stream",
     "text": [
      "Enter a first list of numbers separated by commas:  10,20,50,60,70\n",
      "Enter a second list of numbers separated by commas:  20,50,90,30,40\n"
     ]
    },
    {
     "name": "stdout",
     "output_type": "stream",
     "text": [
      "Common elements: [50, 20]\n"
     ]
    }
   ],
   "source": [
    "# Take a list input from the user\n",
    "user_input1 = input(\"Enter a first list of numbers separated by commas: \")\n",
    "user_input2 = input(\"Enter a second list of numbers separated by commas: \")\n",
    "\n",
    "# Convert the input string to a list of integers\n",
    "user_list1 = [int(item.strip()) for item in user_input1.split(',')]\n",
    "user_list2 = [int(item.strip()) for item in user_input2.split(',')]\n",
    "\n",
    "# Find the common elements using sets\n",
    "common_elements = list(set(user_list1) & set(user_list2))\n",
    "\n",
    "# Display the result\n",
    "print(\"Common elements:\", common_elements)"
   ]
  },
  {
   "cell_type": "markdown",
   "id": "b113b30f-f288-4423-b30a-2360f8eb493d",
   "metadata": {},
   "source": [
    "#22. Find the difference between two lists."
   ]
  },
  {
   "cell_type": "code",
   "execution_count": 14,
   "id": "bfb43dbf-76e4-4f13-bf87-144a84f3e41a",
   "metadata": {},
   "outputs": [
    {
     "name": "stdout",
     "output_type": "stream",
     "text": [
      "Difference between lists: [20, 10]\n"
     ]
    }
   ],
   "source": [
    "# Example lists\n",
    "list1 = [10, 20, 30, 40, 50]\n",
    "list2 = [30, 40, 50, 60, 70]\n",
    "\n",
    "# Find the difference between lists using the difference() method\n",
    "difference = list(set(list1).difference(list2))\n",
    "\n",
    "# Print the difference\n",
    "print(\"Difference between lists:\", difference)"
   ]
  },
  {
   "cell_type": "markdown",
   "id": "98fd5630-d382-40c7-b934-d1f7ad5fbdf0",
   "metadata": {},
   "source": [
    "#23. Merge two lists."
   ]
  },
  {
   "cell_type": "code",
   "execution_count": 16,
   "id": "304e5789-0ab7-413e-b986-778d6144a946",
   "metadata": {},
   "outputs": [
    {
     "name": "stdin",
     "output_type": "stream",
     "text": [
      "Enter a first list of numbers separated by commas:  10,40,50\n",
      "Enter a second list of numbers separated by commas:  10,30,80\n"
     ]
    },
    {
     "name": "stdout",
     "output_type": "stream",
     "text": [
      "after merging both lists : [10, 40, 50, 10, 30, 80]\n"
     ]
    }
   ],
   "source": [
    "# Take a list input from the user\n",
    "user_input1 = input(\"Enter a first list of numbers separated by commas: \")\n",
    "user_input2 = input(\"Enter a second list of numbers separated by commas: \")\n",
    "\n",
    "# Convert the input string to a list of integers\n",
    "user_list1 = [int(item.strip()) for item in user_input1.split(',')]\n",
    "user_list2 = [int(item.strip()) for item in user_input2.split(',')]\n",
    "\n",
    "# Find the common elements using sets\n",
    "merge_lists = user_list1+user_list2\n",
    "\n",
    "# Display the result\n",
    "print(\"after merging both lists :\",merge_lists)"
   ]
  },
  {
   "cell_type": "markdown",
   "id": "214f33ca-b480-457d-9f89-f5ab38a9d975",
   "metadata": {},
   "source": [
    "#24. Multiply all elements in a list by 2."
   ]
  },
  {
   "cell_type": "code",
   "execution_count": 23,
   "id": "1867c434-50c4-451f-8baa-6980265a54a3",
   "metadata": {},
   "outputs": [
    {
     "name": "stdin",
     "output_type": "stream",
     "text": [
      "Enter a list of numbers separated by commas:  10,40\n"
     ]
    },
    {
     "name": "stdout",
     "output_type": "stream",
     "text": [
      "after multiplication of all elements by 2 : [20, 80]\n"
     ]
    }
   ],
   "source": [
    "# Take a list input from the user\n",
    "user_input1 = input(\"Enter a list of numbers separated by commas: \")\n",
    "\n",
    "# Convert the input string to a list of integers\n",
    "user_list1 = [int(item.strip()) for item in user_input1.split(',')]\n",
    "\n",
    "modified_list=[x*2 for x in user_list1]\n",
    "print(\"after multiplication of all elements by 2 :\",modified_list)"
   ]
  },
  {
   "cell_type": "markdown",
   "id": "5f914727-6354-487f-8548-5d85ac9a0fca",
   "metadata": {},
   "source": [
    "#25. Filter out all even numbers from a list."
   ]
  },
  {
   "cell_type": "code",
   "execution_count": 32,
   "id": "d82ec427-9a0d-4c3d-9bbf-65a749f894bc",
   "metadata": {},
   "outputs": [
    {
     "name": "stdin",
     "output_type": "stream",
     "text": [
      "Enter a list of numbers separated by commas:  10,12,15,18,35,45,16\n"
     ]
    },
    {
     "name": "stdout",
     "output_type": "stream",
     "text": [
      "Original list: [10, 12, 15, 18, 35, 45, 16]\n",
      "Filtered list (even numbers only): [10, 12, 18, 16]\n"
     ]
    }
   ],
   "source": [
    "# Take a list input from the user\n",
    "user_input1 = input(\"Enter a list of numbers separated by commas: \")\n",
    "\n",
    "# Convert the input string to a list of integers\n",
    "user_list1 = [int(item.strip()) for item in user_input1.split(',')]\n",
    "\n",
    "# Filter out even numbers using list comprehension\n",
    "filtered_list = [element for element in user_list1 if element % 2 == 0]\n",
    "\n",
    "# Display the result\n",
    "print(\"Original list:\", user_list1)\n",
    "print(\"Filtered list (even numbers only):\", filtered_list)"
   ]
  },
  {
   "cell_type": "markdown",
   "id": "ddd069a9-df0f-4d72-92cf-73d450e761ab",
   "metadata": {},
   "source": [
    "#26. Convert a list of strings to a list of integers."
   ]
  },
  {
   "cell_type": "code",
   "execution_count": 33,
   "id": "614d425d-489a-4a34-b095-c1eb4ebfb888",
   "metadata": {},
   "outputs": [
    {
     "name": "stdout",
     "output_type": "stream",
     "text": [
      "Original list of strings: ['1', '2', '3', '4', '5']\n",
      "Converted list of integers: [1, 2, 3, 4, 5]\n"
     ]
    }
   ],
   "source": [
    "# Example list of strings\n",
    "string_list = ['1', '2', '3', '4', '5']\n",
    "\n",
    "# Convert the list of strings to a list of integers\n",
    "integer_list = [int(element) for element in string_list]\n",
    "\n",
    "# Display the result\n",
    "print(\"Original list of strings:\", string_list)\n",
    "print(\"Converted list of integers:\", integer_list)\n"
   ]
  },
  {
   "cell_type": "markdown",
   "id": "2727af34-a570-4656-beb7-5ef8cedf2401",
   "metadata": {},
   "source": [
    "#27. Convert a list of integers to a list of strings."
   ]
  },
  {
   "cell_type": "code",
   "execution_count": 34,
   "id": "76db9d12-c36b-456d-917a-c9a9697a1f6a",
   "metadata": {},
   "outputs": [
    {
     "name": "stdout",
     "output_type": "stream",
     "text": [
      "Original list of strings: ['1', '2', '3', '4', '5']\n",
      "Converted list of integers: [1, 2, 3, 4, 5]\n"
     ]
    }
   ],
   "source": [
    "# Example list of strings\n",
    "string_list = [1,2,3,4,5]\n",
    "\n",
    "# Convert the list of strings to a list of integers\n",
    "integer_list = [str(element) for element in string_list]\n",
    "\n",
    "# Display the result\n",
    "print(\"Original list of strings:\", integer_list)\n",
    "print(\"Converted list of integers:\", string_list)\n"
   ]
  },
  {
   "cell_type": "markdown",
   "id": "ba3b43cf-900f-492c-be06-7a4099c0a5f5",
   "metadata": {},
   "source": [
    "#28. Flatten a nested list."
   ]
  },
  {
   "cell_type": "code",
   "execution_count": 35,
   "id": "1c0874c4-3e59-437f-b1b2-ae9dc927f8d9",
   "metadata": {},
   "outputs": [
    {
     "name": "stdout",
     "output_type": "stream",
     "text": [
      "Original nested list: [[1, 2, 3], [4, 5], [6, [7, 8]]]\n",
      "Flattened list: [1, 2, 3, 4, 5, 6, [7, 8]]\n"
     ]
    }
   ],
   "source": [
    "# Example nested list\n",
    "nested_list = [[1, 2, 3], [4, 5], [6, [7, 8]]]\n",
    "\n",
    "# Flatten the nested list using iteration\n",
    "flattened_list = [item for sublist in nested_list for item in (sublist if isinstance(sublist, list) else [sublist])]\n",
    "\n",
    "# Display the result\n",
    "print(\"Original nested list:\", nested_list)\n",
    "print(\"Flattened list:\", flattened_list)\n"
   ]
  },
  {
   "cell_type": "markdown",
   "id": "cf30d386-c755-4443-affe-40342c81ce52",
   "metadata": {},
   "source": [
    "#29. Create a list of the first 10 Fibonacci numbers."
   ]
  },
  {
   "cell_type": "code",
   "execution_count": 27,
   "id": "6a0e0b0e-d948-42d7-8c88-e2d5b3087b15",
   "metadata": {},
   "outputs": [
    {
     "name": "stdin",
     "output_type": "stream",
     "text": [
      "Enter the last element of the Fibonacci sequence:  56\n"
     ]
    },
    {
     "name": "stdout",
     "output_type": "stream",
     "text": [
      "Fibonacci sequence: [0, 1, 1, 2, 3, 5, 8, 13, 21, 34, 55]\n"
     ]
    }
   ],
   "source": [
    "# Take the last element of the Fibonacci sequence from the user\n",
    "last_element = int(input(\"Enter the last element of the Fibonacci sequence: \"))\n",
    "\n",
    "# Create a list of Fibonacci numbers until reaching or exceeding the last element\n",
    "fibonacci_list = [0, 1]\n",
    "while fibonacci_list[-1] < last_element:\n",
    "    next_number = fibonacci_list[-1] + fibonacci_list[-2]\n",
    "    fibonacci_list.append(next_number)\n",
    "\n",
    "# Display the result\n",
    "print(\"Fibonacci sequence:\", fibonacci_list[:-1])  # Exclude the last element that exceeded the input\n",
    "\n"
   ]
  },
  {
   "cell_type": "markdown",
   "id": "64f29985-9f77-46ae-9cab-af5b4bfa395e",
   "metadata": {},
   "source": [
    "#30. Check if a list is sorted."
   ]
  },
  {
   "cell_type": "code",
   "execution_count": 13,
   "id": "0b273ee1-f69a-4949-9842-f9dfec49ab00",
   "metadata": {},
   "outputs": [
    {
     "name": "stdout",
     "output_type": "stream",
     "text": [
      "Is the list sorted? False\n"
     ]
    }
   ],
   "source": [
    "# Example list\n",
    "my_list = [1, 2, 3, 2, 5]\n",
    "\n",
    "# Check if the list is sorted\n",
    "is_sorted = all(my_list[i] <= my_list[i + 1] for i in range(len(my_list) - 1))\n",
    "\n",
    "# Display the result\n",
    "print(\"Is the list sorted?\", is_sorted)\n"
   ]
  },
  {
   "cell_type": "markdown",
   "id": "9d407dc6-b921-4ebc-95d8-ef67591cc89c",
   "metadata": {},
   "source": [
    "#31.Rotate a list to the left by `n` positions."
   ]
  },
  {
   "cell_type": "code",
   "execution_count": 11,
   "id": "722d3add-bf6e-46ff-adee-06bd8941a183",
   "metadata": {},
   "outputs": [
    {
     "name": "stdin",
     "output_type": "stream",
     "text": [
      "enter the position by you want to move to left:  2\n"
     ]
    },
    {
     "name": "stdout",
     "output_type": "stream",
     "text": [
      "Rotated list: [3, 4, 5, 6, 1, 2]\n"
     ]
    }
   ],
   "source": [
    "def rotate_left(lst, n):\n",
    "    n = n % len(lst)  # Normalize n to handle cases where n is larger than the list length\n",
    "    # print(n)\n",
    "    rotated = lst[n:] + lst[:n]\n",
    "    return rotated\n",
    "\n",
    "# Example list\n",
    "my_list = [1, 2, 3, 4, 5, 6]\n",
    "\n",
    "# Number of positions to rotate by\n",
    "n = int(input(\"enter the position by you want to move to left: \"))\n",
    "\n",
    "# Rotate the list to the left by n positions\n",
    "rotated_list = rotate_left(my_list, n)\n",
    "\n",
    "# Print the rotated list\n",
    "print(\"Rotated list:\", rotated_list)"
   ]
  },
  {
   "cell_type": "markdown",
   "id": "1e6f629b-bba3-4942-9f40-fa36adba5af8",
   "metadata": {},
   "source": [
    "#32.Rotate a list to the right by `n` positions."
   ]
  },
  {
   "cell_type": "code",
   "execution_count": 10,
   "id": "e02bd25b-210d-4e0b-a448-53b5d12eb7d2",
   "metadata": {},
   "outputs": [
    {
     "name": "stdin",
     "output_type": "stream",
     "text": [
      "enter the position by you want to move to left:  2\n"
     ]
    },
    {
     "name": "stdout",
     "output_type": "stream",
     "text": [
      "Rotated list: [5, 6, 1, 2, 3, 4]\n"
     ]
    }
   ],
   "source": [
    "def rotate_right(lst, n):\n",
    "    n = n % len(lst)  # Normalize n to handle cases where n is larger than the list length\n",
    "    # print(n)\n",
    "    rotated = lst[-n:] + lst[:-n]\n",
    "    return rotated\n",
    "\n",
    "# Example list\n",
    "my_list = [1, 2, 3, 4, 5, 6]\n",
    "\n",
    "# Number of positions to rotate by\n",
    "n = int(input(\"enter the position by you want to move to left: \"))\n",
    "\n",
    "# Rotate the list to the left by n positions\n",
    "rotated_list = rotate_right(my_list, n)\n",
    "\n",
    "# Print the rotated list\n",
    "print(\"Rotated list:\", rotated_list)"
   ]
  },
  {
   "cell_type": "markdown",
   "id": "3545bde5-b92c-4fc4-ab7a-3a8a84b58e3f",
   "metadata": {},
   "source": [
    "#33. Create a list of prime numbers up to 50."
   ]
  },
  {
   "cell_type": "code",
   "execution_count": 1,
   "id": "72fff8b3-f7d4-48d0-93ca-61487606a694",
   "metadata": {},
   "outputs": [
    {
     "name": "stdout",
     "output_type": "stream",
     "text": [
      "[2, 3, 5, 7, 11, 13, 17, 19, 23, 29, 31, 37, 41, 43, 47]\n"
     ]
    }
   ],
   "source": [
    "def is_prime(num):\n",
    "    \"\"\"Check if a number is prime.\"\"\"\n",
    "    if num < 2:\n",
    "        return False\n",
    "    for i in range(2, num):\n",
    "        if num % i == 0:\n",
    "            return False\n",
    "    return True\n",
    "\n",
    "# Generate a list of prime numbers up to 50\n",
    "prime_numbers_up_to_50 = [num for num in range(2, 51) if is_prime(num)]\n",
    "\n",
    "print(prime_numbers_up_to_50)\n"
   ]
  },
  {
   "cell_type": "markdown",
   "id": "70c9fb79-f44b-47ae-94cb-f483da4eae36",
   "metadata": {},
   "source": [
    "#34. Split a list into chunks of size `n`."
   ]
  },
  {
   "cell_type": "code",
   "execution_count": 2,
   "id": "7f693f3f-bfe0-47e8-a7a3-7a905d5ede59",
   "metadata": {},
   "outputs": [
    {
     "name": "stdout",
     "output_type": "stream",
     "text": [
      "[[1, 2, 3], [4, 5, 6], [7, 8, 9], [10]]\n"
     ]
    }
   ],
   "source": [
    "def chunk_list(lst, n):\n",
    "    \"\"\"\n",
    "    Split a list into chunks of size n.\n",
    "\n",
    "    Parameters:\n",
    "    - lst: The list to split.\n",
    "    - n: The size of each chunk.\n",
    "\n",
    "    Returns:\n",
    "    A list of chunks.\n",
    "    \"\"\"\n",
    "    chunked_list = []\n",
    "    for i in range(0, len(lst), n):\n",
    "        chunked_list.append(lst[i:i+n])\n",
    "    return chunked_list\n",
    "\n",
    "# Example usage:\n",
    "original_list = [1, 2, 3, 4, 5, 6, 7, 8, 9, 10]\n",
    "chunked_list = chunk_list(original_list, 3)\n",
    "print(chunked_list)\n"
   ]
  },
  {
   "cell_type": "markdown",
   "id": "84216bdb-feb8-49ed-86b2-5ecd47ef5576",
   "metadata": {},
   "source": [
    "#35. Find the second largest number in a list."
   ]
  },
  {
   "cell_type": "code",
   "execution_count": 14,
   "id": "c9302e0c-a6a0-4c1c-8745-66be12dea163",
   "metadata": {},
   "outputs": [
    {
     "name": "stdout",
     "output_type": "stream",
     "text": [
      "sorted_list [2, 4, 5, 5, 5, 5, 8, 8, 58, 74, 74, 201, 455]\n",
      "second largest element is this list is : 201\n"
     ]
    }
   ],
   "source": [
    "#example list\n",
    "list1=[4,5,2,5,8,5,58,74,5,8,74,201,455]\n",
    "\n",
    "#sorted the list using sort method\n",
    "list1.sort()\n",
    "print(\"sorted_list\",list1)\n",
    "\n",
    "#find the seconf largest element in the list and display the result\n",
    "second_max_number=list1[-2]\n",
    "print(\"second largest element is this list is :\",second_max_number)\n"
   ]
  },
  {
   "cell_type": "markdown",
   "id": "b1b5f9bb-d01a-4889-bf0f-e003ccd5e4d8",
   "metadata": {},
   "source": [
    "#36. Replace every element in a list with its square."
   ]
  },
  {
   "cell_type": "code",
   "execution_count": 36,
   "id": "71a570f3-aac4-46e6-93bf-154cfc97ceb6",
   "metadata": {},
   "outputs": [
    {
     "name": "stdout",
     "output_type": "stream",
     "text": [
      "[1, 25, 25, 9, 3136, 49, 64, 25, 16, 49]\n"
     ]
    }
   ],
   "source": [
    "#example list\n",
    "list=[1,5,5,3,56,7,8,5,4,7]\n",
    "\n",
    "#sqaure the list using for loop\n",
    "square_list=[]\n",
    "for i in list:\n",
    "    i**2\n",
    "    square_list.append(i**2)\n",
    "\n",
    "    # display the result\n",
    "print(square_list)"
   ]
  },
  {
   "cell_type": "markdown",
   "id": "8af9fd3a-6329-4aba-9633-6d25d075d482",
   "metadata": {},
   "source": [
    "#37. Convert a list to a dictionary where list elements become keys and their\n",
    "indices become values."
   ]
  },
  {
   "cell_type": "code",
   "execution_count": 40,
   "id": "c1915e71-fc1b-4b4b-945a-5db0071122eb",
   "metadata": {},
   "outputs": [
    {
     "name": "stdout",
     "output_type": "stream",
     "text": [
      "{'banana': 0, 'apple': 1, 'orange': 2, 'pineapple': 3}\n"
     ]
    }
   ],
   "source": [
    "#example list\n",
    "list1=[\"banana\",\"apple\",\"orange\",\"pineapple\"]\n",
    "\n",
    "# Convert the list to a dictionary\n",
    "my_dict = {element: index for index, element in enumerate(list1)}\n",
    "\n",
    "# display the result\n",
    "print(my_dict)\n"
   ]
  },
  {
   "cell_type": "markdown",
   "id": "27ab84c5-ee32-4cc5-a950-c6963facabd5",
   "metadata": {},
   "source": [
    "#38. Shuffle the elements of a list randomly."
   ]
  },
  {
   "cell_type": "code",
   "execution_count": 43,
   "id": "83245054-36dc-42aa-bd55-cab3c94ac491",
   "metadata": {},
   "outputs": [
    {
     "name": "stdout",
     "output_type": "stream",
     "text": [
      "original list is  [4, 5, 8, 53, 5, 7, 8, 2, 574, 7, 8, 5]\n",
      "list after shuffle the elements is [2, 574, 5, 8, 4, 7, 5, 53, 5, 8, 7, 8]\n"
     ]
    }
   ],
   "source": [
    "import random\n",
    "\n",
    "#initialize the list\n",
    "list2=[4,5,8,53,5,7,8,2,574,7,8,5]\n",
    "print(\"original list is \",list2)\n",
    "#shuffle the element of list randomly using shuffle functiom\n",
    "random.shuffle(list2)\n",
    "\n",
    "print(\"list after shuffle the elements is\",list2)"
   ]
  },
  {
   "cell_type": "markdown",
   "id": "b6d65a20-b012-4441-b719-9a5483c9422d",
   "metadata": {},
   "source": [
    "#39. Create a list of the first 10 factorial numbers."
   ]
  },
  {
   "cell_type": "code",
   "execution_count": 1,
   "id": "8094f66c-c50a-493f-bfda-7b493ab8401f",
   "metadata": {},
   "outputs": [
    {
     "name": "stdout",
     "output_type": "stream",
     "text": [
      "[1, 1, 2, 6, 24, 120, 720, 5040, 40320, 362880]\n"
     ]
    }
   ],
   "source": [
    "# Function to calculate the factorial of a number\n",
    "def factorial(n):\n",
    "    if n == 0 or n == 1:\n",
    "        return 1\n",
    "    else:\n",
    "        return n * factorial(n - 1)\n",
    "\n",
    "# Create a list of the first 10 factorial numbers\n",
    "factorial_numbers = [factorial(i) for i in range(10)]\n",
    "\n",
    "print(factorial_numbers)\n",
    "\n"
   ]
  },
  {
   "cell_type": "markdown",
   "id": "cab238ab-5c68-47f2-b259-957408020b3e",
   "metadata": {},
   "source": [
    "#40. Check if two lists have at least one element in common."
   ]
  },
  {
   "cell_type": "code",
   "execution_count": 9,
   "id": "d424f892-57de-4af0-9ce9-805298d8f369",
   "metadata": {},
   "outputs": [
    {
     "name": "stdout",
     "output_type": "stream",
     "text": [
      "The lists have at least one common element.\n"
     ]
    }
   ],
   "source": [
    "#initialize two lists\n",
    "list1=[8,25,58,85,52,5,8,5,5,58,8]\n",
    "list2=[7,8,5,85,58,2,41,41,52,5]\n",
    "\n",
    "def has_common_element(list1, list2):\n",
    "    for item in list1:\n",
    "        if item in list2:\n",
    "            return True\n",
    "    return False\n",
    "\n",
    "# Check if the two lists have at least one element in common\n",
    "if has_common_element(list1, list2):\n",
    "    print(\"The lists have at least one common element.\")\n",
    "else:\n",
    "    print(\"The lists do not have any common elements.\")"
   ]
  },
  {
   "cell_type": "markdown",
   "id": "2934a4e5-488a-41b2-a79f-70135b1d8f13",
   "metadata": {},
   "source": [
    "#41. Remove all elements from a list."
   ]
  },
  {
   "cell_type": "code",
   "execution_count": 24,
   "id": "f67ada22-7fa3-4895-b2ed-ac41274be602",
   "metadata": {},
   "outputs": [
    {
     "name": "stdout",
     "output_type": "stream",
     "text": [
      "[]\n"
     ]
    }
   ],
   "source": [
    "#examplen list\n",
    "list1=[1,5,8,5,8,8,5]\n",
    "\n",
    "#clear the list using clear function\n",
    "list1.clear()\n",
    "\n",
    "#display the result\n",
    "print(list1)"
   ]
  },
  {
   "cell_type": "markdown",
   "id": "ec16e90c-0843-4cb9-bf0d-a160647dd562",
   "metadata": {},
   "source": [
    "#42. Replace negative numbers in a list with 0."
   ]
  },
  {
   "cell_type": "code",
   "execution_count": 34,
   "id": "6e619349-b3a8-42e6-b6f0-25ead9544b9e",
   "metadata": {},
   "outputs": [
    {
     "name": "stdout",
     "output_type": "stream",
     "text": [
      "[0, 45, 0, 0, 455, 47, 0]\n"
     ]
    }
   ],
   "source": [
    "#initialize the list\n",
    "my_list=[-3,45,-8,-25,455,47,-36]\n",
    "\n",
    "# Replace negative numbers with 0 using a for loop\n",
    "for i in range(len(my_list)):\n",
    "    if my_list[i] < 0:\n",
    "        my_list[i] = 0\n",
    "\n",
    "print(my_list)"
   ]
  },
  {
   "cell_type": "markdown",
   "id": "61c76a53-62d6-4514-9482-ee8b89cf2921",
   "metadata": {},
   "source": [
    "#43. Convert a string into a list of words."
   ]
  },
  {
   "cell_type": "code",
   "execution_count": 36,
   "id": "0232e834-422d-4c6b-9740-14985f54cac8",
   "metadata": {},
   "outputs": [
    {
     "name": "stdout",
     "output_type": "stream",
     "text": [
      "['Sudhanshu', 'is', 'a', 'good', 'teacher']\n"
     ]
    }
   ],
   "source": [
    "# initialize the string\n",
    "user_string= \"Sudhanshu is a good teacher\"\n",
    "\n",
    "# convert string into list of words using split method\n",
    "my_list=user_string.split()\n",
    "\n",
    "# display the result\n",
    "print(my_list)"
   ]
  },
  {
   "cell_type": "markdown",
   "id": "d37c859b-9ae1-4066-97a6-606c214a6b81",
   "metadata": {},
   "source": [
    "#44. Convert a list of words into a string."
   ]
  },
  {
   "cell_type": "code",
   "execution_count": 40,
   "id": "f6bef4bb-c82b-4020-8648-e07f3034a22a",
   "metadata": {},
   "outputs": [
    {
     "name": "stdout",
     "output_type": "stream",
     "text": [
      "Sudhanshu is a good teacher\n"
     ]
    }
   ],
   "source": [
    "#example usage\n",
    "list2=['Sudhanshu', 'is', 'a', 'good', 'teacher']\n",
    "\n",
    "# convert the list of words to a string\n",
    "result_string = ' '.join(list2)\n",
    "\n",
    "# print the result\n",
    "print(result_string)"
   ]
  },
  {
   "cell_type": "markdown",
   "id": "7afbf699-c561-428a-b124-da53a069c122",
   "metadata": {},
   "source": [
    "#45. Create a list of the first `n` powers of 2."
   ]
  },
  {
   "cell_type": "code",
   "execution_count": 43,
   "id": "a1d09b4e-b111-4b63-86b7-6026a3be50e2",
   "metadata": {},
   "outputs": [
    {
     "name": "stdin",
     "output_type": "stream",
     "text": [
      "enter the n value : 5\n"
     ]
    },
    {
     "name": "stdout",
     "output_type": "stream",
     "text": [
      "[1, 2, 4, 8, 16]\n"
     ]
    }
   ],
   "source": [
    "# get n input from the user\n",
    "n=int(input(\"enter the n value :\"))\n",
    " \n",
    "# calculate power of 2 using list comprehension\n",
    "power_of_two=[2**i for i in range(n)]\n",
    "\n",
    "# display the result\n",
    "print(power_of_two)"
   ]
  },
  {
   "cell_type": "markdown",
   "id": "a708f078-8f40-4309-bd78-b1fda3cd27c2",
   "metadata": {},
   "source": [
    "#46. Find the longest string in a list of strings."
   ]
  },
  {
   "cell_type": "code",
   "execution_count": 9,
   "id": "51dd9c5e-5cb9-4faa-94b6-7b09f30e3643",
   "metadata": {},
   "outputs": [
    {
     "name": "stdin",
     "output_type": "stream",
     "text": [
      "enter the list of words : my name is sakshi\n"
     ]
    },
    {
     "name": "stdout",
     "output_type": "stream",
     "text": [
      "strings in the list  ['my', 'name', 'is', 'sakshi']\n"
     ]
    },
    {
     "data": {
      "text/plain": [
       "'sakshi'"
      ]
     },
     "execution_count": 9,
     "metadata": {},
     "output_type": "execute_result"
    }
   ],
   "source": [
    "# get an input list from the user\n",
    "list=input(\"enter the list of words :\")\n",
    "\n",
    "# convert the words of list into strings using split function\n",
    "list_words=list.split()\n",
    "print(\"strings in the list \",list_words)\n",
    "\n",
    "# finding the shortest using recursive function\n",
    "def longest(list_words):\n",
    "    if len(list_words)==1:\n",
    "        return list_words[0]\n",
    "    else:\n",
    "        return max(list_words[0],longest(list_words[1:]))\n",
    "    \n",
    "longest(list_words)\n"
   ]
  },
  {
   "cell_type": "markdown",
   "id": "d2a44b3d-ffc3-4dd5-a7e7-09ef1c690b84",
   "metadata": {},
   "source": [
    "#47. Find the shortest string in a list of strings."
   ]
  },
  {
   "cell_type": "code",
   "execution_count": 15,
   "id": "52119836-d5fe-4837-974a-229f0e33ee6e",
   "metadata": {},
   "outputs": [
    {
     "name": "stdin",
     "output_type": "stream",
     "text": [
      "enter the list of words : I am a student of pwskills\n"
     ]
    },
    {
     "name": "stdout",
     "output_type": "stream",
     "text": [
      "strings in the list  ['I', 'am', 'a', 'student', 'of', 'pwskills']\n"
     ]
    },
    {
     "data": {
      "text/plain": [
       "'I'"
      ]
     },
     "execution_count": 15,
     "metadata": {},
     "output_type": "execute_result"
    }
   ],
   "source": [
    "# get an input list from the user\n",
    "list=input(\"enter the list of words :\")\n",
    "\n",
    "# convert the words of list into strings using split function\n",
    "list_words=list.split()\n",
    "print(\"strings in the list \",list_words)\n",
    "\n",
    "\n",
    "# finding the shortest string using recursive function\n",
    "def shortest(list_words):\n",
    "    if len(list_words)==1:\n",
    "        return list_words[0]\n",
    "    else:\n",
    "        return min(list_words[0],shortest(list_words[1:]))\n",
    "    \n",
    "shortest(list_words)\n"
   ]
  },
  {
   "cell_type": "markdown",
   "id": "2536501c-c874-47f7-a418-4d30e5b03a3d",
   "metadata": {},
   "source": [
    "#48. Create a list of the first `n` triangular numbers."
   ]
  },
  {
   "cell_type": "code",
   "execution_count": 23,
   "id": "b36264ec-21ac-497c-ae63-b11b01d34448",
   "metadata": {},
   "outputs": [
    {
     "name": "stdin",
     "output_type": "stream",
     "text": [
      "enter the value of n : 6\n"
     ]
    },
    {
     "name": "stdout",
     "output_type": "stream",
     "text": [
      "[1, 3, 6, 10, 15, 21]\n"
     ]
    }
   ],
   "source": [
    "# get n input from the user\n",
    "n=int(input(\"enter the value of n :\"))\n",
    "\n",
    "list_of_triangular_number=[]\n",
    "\n",
    "#calculating the list of triangular numbers using for loop\n",
    "for i in range(1,n+1):\n",
    "    list_of_triangular_number.append(i * (i + 1) // 2)\n",
    "\n",
    "print(list_of_triangular_number)"
   ]
  },
  {
   "cell_type": "markdown",
   "id": "db3cdeeb-b808-4e11-9e8c-5659139790d2",
   "metadata": {},
   "source": [
    "#49. Check if a list contains another list as a subsequence."
   ]
  },
  {
   "cell_type": "code",
   "execution_count": 26,
   "id": "7fc8077e-0ff3-410c-b482-6bd7e7b9fee0",
   "metadata": {},
   "outputs": [
    {
     "name": "stdout",
     "output_type": "stream",
     "text": [
      "[3, 5, 8] is a subsequence of [1, 2, 3, 4, 5, 6, 7, 8, 9].\n"
     ]
    }
   ],
   "source": [
    "def is_subsequence(subsequence, sequence):\n",
    "    sub_len, seq_len = len(subsequence), len(sequence)\n",
    "    \n",
    "    sub_idx = 0\n",
    "    for i in range(seq_len):\n",
    "        if sequence[i] == subsequence[sub_idx]:\n",
    "            sub_idx += 1\n",
    "            if sub_idx == sub_len:\n",
    "                return True\n",
    "    \n",
    "    return sub_idx == sub_len\n",
    "\n",
    "# Example usage:\n",
    "main_list = [1, 2, 3, 4, 5, 6, 7, 8, 9]\n",
    "sub_list = [3, 5, 8]\n",
    "\n",
    "result = is_subsequence(sub_list, main_list)\n",
    "\n",
    "if result:\n",
    "    print(f\"{sub_list} is a subsequence of {main_list}.\")\n",
    "else:\n",
    "    print(f\"{sub_list} is not a subsequence of {main_list}.\")\n"
   ]
  },
  {
   "cell_type": "markdown",
   "id": "601f5b7f-ba10-4b58-b981-e5b4daaa7e62",
   "metadata": {},
   "source": [
    "#50. Swap two elements in a list by their indices."
   ]
  },
  {
   "cell_type": "code",
   "execution_count": 4,
   "id": "7ef724c9-f50d-48ac-825f-90603b1fa55a",
   "metadata": {},
   "outputs": [
    {
     "name": "stdin",
     "output_type": "stream",
     "text": [
      "enter the list of numbers by spaces : 45 36 73 19 49 61 34\n"
     ]
    },
    {
     "name": "stdout",
     "output_type": "stream",
     "text": [
      "List entered by the user: [45, 36, 73, 19, 49, 61, 34]\n",
      "after swapping the lements by indexs:  [45, 61, 73, 19, 49, 36, 34]\n"
     ]
    }
   ],
   "source": [
    "def swap_elements(user_list,index1,index2):\n",
    "    if 0 <= index1 < len(user_list) and 0 <= index2 < len(user_list):\n",
    "        user_list[index1], user_list[index2] = user_list[index2], user_list[index1]\n",
    "        \n",
    "# get the list input from the user\n",
    "list=input(\"enter the list of numbers by spaces :\")\n",
    "\n",
    "# Converting the input string into a list of integers\n",
    "user_list = [int(item) for item in list.split()]\n",
    "\n",
    "# Print the resulting list\n",
    "print(\"List entered by the user:\", user_list)\n",
    "\n",
    "swap_elements(user_list,1,5)\n",
    "print(\"after swapping the lements by indexs: \",user_list)"
   ]
  },
  {
   "cell_type": "markdown",
   "id": "40984078-599f-499f-b072-e9cf3d7176fd",
   "metadata": {},
   "source": [
    "#Tuple Based Practice Problem :"
   ]
  },
  {
   "cell_type": "markdown",
   "id": "afe19c72-ff79-4bef-b495-22c4deca5349",
   "metadata": {},
   "source": [
    "#1. Create a tuple with integers from 1 to 5."
   ]
  },
  {
   "cell_type": "code",
   "execution_count": 7,
   "id": "49d0556c-6756-4a9a-9931-67d0910c8047",
   "metadata": {},
   "outputs": [
    {
     "name": "stdout",
     "output_type": "stream",
     "text": [
      "(1, 2, 3, 4, 5)\n"
     ]
    }
   ],
   "source": [
    "# printing the tuple with range 1 to 5\n",
    "my_tuple = tuple(i for i in range(1, 6))\n",
    "\n",
    "# display the result\n",
    "print(my_tuple)"
   ]
  },
  {
   "cell_type": "markdown",
   "id": "88985596-5ee7-45db-a522-9d3ddd1003ae",
   "metadata": {},
   "source": [
    "#2. Access the third element of a tuple."
   ]
  },
  {
   "cell_type": "code",
   "execution_count": 10,
   "id": "05fca24f-673e-42f4-8f83-ffe0f213f04f",
   "metadata": {},
   "outputs": [
    {
     "name": "stdout",
     "output_type": "stream",
     "text": [
      "(1, 2, 3, 4, 5, 6, 7, 8, 9, 10, 11)\n",
      "third element in the tuple is : 3\n"
     ]
    }
   ],
   "source": [
    "# printing the tuple with range 1 to 5\n",
    "my_tuple = tuple(i for i in range(1, 12))\n",
    "\n",
    "# display the result\n",
    "print(my_tuple)\n",
    "\n",
    "# accessing the third element in the tuple\n",
    "third=my_tuple[2]\n",
    "print(\"third element in the tuple is :\",third)"
   ]
  },
  {
   "cell_type": "markdown",
   "id": "19299cd4-a5d7-44d7-976a-dd1c9dbf8ad9",
   "metadata": {},
   "source": [
    "#3. Find the length of a tuple without using the `len()` function."
   ]
  },
  {
   "cell_type": "code",
   "execution_count": 13,
   "id": "7de367e3-f755-4855-a188-3847888e3e7d",
   "metadata": {},
   "outputs": [
    {
     "name": "stdout",
     "output_type": "stream",
     "text": [
      "(1, 2, 3, 4, 5, 6, 7, 8, 9, 10, 11)\n",
      "length of the tuple is : 11\n"
     ]
    }
   ],
   "source": [
    "# printing the tuple with range 1 to 5\n",
    "my_tuple = tuple(i for i in range(1, 12))\n",
    "\n",
    "# display the result\n",
    "print(my_tuple)\n",
    "\n",
    "count=0\n",
    "\n",
    "for i in my_tuple:\n",
    "    count += 1\n",
    "\n",
    "print(\"length of the tuple is :\",count)"
   ]
  },
  {
   "cell_type": "markdown",
   "id": "a4d5f346-5f5d-4efe-b846-a5af140f1368",
   "metadata": {},
   "source": [
    "#4. Count the occurrences of an element in a tuple.\n"
   ]
  },
  {
   "cell_type": "code",
   "execution_count": 3,
   "id": "da041626-1441-4fe8-b1be-de836d4df6e8",
   "metadata": {},
   "outputs": [
    {
     "name": "stdin",
     "output_type": "stream",
     "text": [
      "enter the element which you want to count 2\n"
     ]
    },
    {
     "name": "stdout",
     "output_type": "stream",
     "text": [
      "the occurences of  2 in the tuple is : 3\n"
     ]
    }
   ],
   "source": [
    "# # printing the tuple with range 1 to 5\n",
    "# my_tuple = (i for i in range(1, 12))\n",
    "\n",
    "# print(tuple(my_tuple))\n",
    "\n",
    "my_tuple = (1, 2, 3, 4, 2, 5, 2)\n",
    "element=int(input(\"enter the element which you want to count\"))\n",
    "occurences = my_tuple.count(element)\n",
    "\n",
    "print(\"the occurences of \",element,\"in the tuple is :\",occurences)"
   ]
  },
  {
   "cell_type": "markdown",
   "id": "1736e7ff-1f6b-4aa0-be07-676c6644f681",
   "metadata": {},
   "source": [
    "#5. Find the index of the first occurrence of an element in a tuple."
   ]
  },
  {
   "cell_type": "code",
   "execution_count": 5,
   "id": "62e37ae7-7ef7-450b-b8d9-6c82a7c3ea13",
   "metadata": {},
   "outputs": [
    {
     "name": "stdin",
     "output_type": "stream",
     "text": [
      "enter the element which you want to count 4\n"
     ]
    },
    {
     "name": "stdout",
     "output_type": "stream",
     "text": [
      "the occurences of  4 in the tuple is : 3\n"
     ]
    }
   ],
   "source": [
    "#finding the first occurences of element by index function\n",
    "my_tuple = (1, 2, 3, 4, 2, 5, 2)\n",
    "element=int(input(\"enter the element which you want to count\"))\n",
    "first_occurences = my_tuple.index(element)\n",
    "\n",
    "print(\"the occurences of \",element,\"in the tuple is :\",first_occurences)"
   ]
  },
  {
   "cell_type": "markdown",
   "id": "7d31d1b2-4763-4a66-bb97-70a40265c6cc",
   "metadata": {},
   "source": [
    "#6. Check if an element exists in a tuple."
   ]
  },
  {
   "cell_type": "code",
   "execution_count": 9,
   "id": "999b2555-b2a7-4528-bf69-046c8daff70f",
   "metadata": {},
   "outputs": [
    {
     "name": "stdout",
     "output_type": "stream",
     "text": [
      "(1, 2, 3, 4, 5, 6, 7, 8, 9, 10, 11)\n"
     ]
    },
    {
     "name": "stdin",
     "output_type": "stream",
     "text": [
      "enter the element which you want to check : 13\n"
     ]
    },
    {
     "name": "stdout",
     "output_type": "stream",
     "text": [
      "NO! the element is not prersent in the tuple\n"
     ]
    }
   ],
   "source": [
    "# printing the tuple with range 1 to 5\n",
    "my_tuple = tuple(i for i in range(1, 12))\n",
    "\n",
    "# display the result\n",
    "print(my_tuple)\n",
    "\n",
    "element =int(input(\"enter the element which you want to check :\"))\n",
    "             \n",
    "if element in my_tuple:\n",
    "    print(\"yes the element is prersent in the tuple\")\n",
    "else:\n",
    "    print(\"NO! the element is not prersent in the tuple\")\n",
    "             \n",
    "             \n",
    "              "
   ]
  },
  {
   "cell_type": "markdown",
   "id": "4e5306c6-163f-4324-931c-adcdefe346c1",
   "metadata": {},
   "source": [
    "#7. Convert a tuple to a list."
   ]
  },
  {
   "cell_type": "code",
   "execution_count": 15,
   "id": "472fd0e6-8f41-4858-ba82-fbe2c95c7cfd",
   "metadata": {},
   "outputs": [
    {
     "name": "stdout",
     "output_type": "stream",
     "text": [
      "(1, 2, 3, 4, 5, 6, 7, 8, 9, 10, 11)\n",
      "after converting into list : [1, 2, 3, 4, 5, 6, 7, 8, 9, 10, 11]\n"
     ]
    }
   ],
   "source": [
    "# printing the tuple with range 1 to 5\n",
    "my_tuple = tuple(i for i in range(1, 12))\n",
    "\n",
    "# display the result\n",
    "print(my_tuple)\n",
    "print(\"after converting into list :\",(list(my_tuple)))"
   ]
  },
  {
   "cell_type": "markdown",
   "id": "477daff3-dc03-4cca-ae95-cc9591c60be9",
   "metadata": {},
   "source": [
    "#8. Convert a list to a tuple."
   ]
  },
  {
   "cell_type": "code",
   "execution_count": 19,
   "id": "e491bc00-0148-41c3-9f1c-4f3f2c061897",
   "metadata": {},
   "outputs": [
    {
     "name": "stdin",
     "output_type": "stream",
     "text": [
      "enter the elements of list separated with spaces : 12 3 5 5 859 6 8698 \n"
     ]
    },
    {
     "name": "stdout",
     "output_type": "stream",
     "text": [
      "giving list is : [12, 3, 5, 5, 859, 6, 8698]\n",
      "after converting into tuple is : (12, 3, 5, 5, 859, 6, 8698)\n"
     ]
    }
   ],
   "source": [
    "# get the input from the user\n",
    "my_list=input(\"enter the elements of list separated with spaces :\")\n",
    "\n",
    "# converting the input into list using split function\n",
    "user_list=[int(i) for i in my_list.split()]\n",
    "\n",
    "# display the list\n",
    "print(\"giving list is :\",user_list)\n",
    "\n",
    "#converting this list into the tuple\n",
    "print(\"after converting into tuple is :\",tuple(user_list))"
   ]
  },
  {
   "cell_type": "markdown",
   "id": "967ce8c4-ecfa-4c33-b66f-040dbf90f4b3",
   "metadata": {},
   "source": [
    "#9. Unpack the elements of a tuple into variables."
   ]
  },
  {
   "cell_type": "code",
   "execution_count": 17,
   "id": "e04c9b4f-4cc2-4b38-a2e1-d3f98a995ee2",
   "metadata": {},
   "outputs": [
    {
     "name": "stdin",
     "output_type": "stream",
     "text": [
      "enter the elements of tuple separated by commas: 41,52,63,74,85,96\n"
     ]
    },
    {
     "name": "stdout",
     "output_type": "stream",
     "text": [
      "Tuple entered by the user: (41, 52, 63, 74, 85, 96)\n",
      "variable 1 41\n",
      "variable 2 52\n",
      "variable 3 63\n",
      "variable 4 74\n",
      "variable 5 85\n",
      "variable 6 96\n"
     ]
    }
   ],
   "source": [
    "import time\n",
    "# getting the string input from the user\n",
    "my_tuple=input(\"enter the elements of tuple separated by commas:\")\n",
    "\n",
    "# Split the input string and convert to a tuple\n",
    "user_tuple = tuple(map(int, my_tuple.split(',')))\n",
    "\n",
    "# Print the resulting tuple\n",
    "print(\"Tuple entered by the user:\", user_tuple)\n",
    "\n",
    "count=0\n",
    "for i in user_tuple:\n",
    "    next_variable=user_tuple[count]\n",
    "    # count +=1\n",
    "    print(\"variable\",count+1,next_variable)\n",
    "    count +=1\n",
    "    time.sleep(1)"
   ]
  },
  {
   "cell_type": "markdown",
   "id": "da30ba94-00e2-48f8-b1ff-64dd36a627b5",
   "metadata": {},
   "source": [
    "#10. Create a tuple of even numbers from 1 to 10."
   ]
  },
  {
   "cell_type": "code",
   "execution_count": 12,
   "id": "4d8089ff-be45-49eb-8a26-769385e9cc7b",
   "metadata": {},
   "outputs": [
    {
     "name": "stdout",
     "output_type": "stream",
     "text": [
      "even numbers tuple : (2, 4, 6, 8, 10)\n"
     ]
    }
   ],
   "source": [
    "#start the tuple from 2 and skip the one element from the range 1 to 10 and display the result\n",
    "user_tuple=tuple(i for i in range(2,11,2))\n",
    "\n",
    "print(\"even numbers tuple :\",user_tuple)"
   ]
  },
  {
   "cell_type": "markdown",
   "id": "1907e8bc-0908-4301-af8b-f88b505e1442",
   "metadata": {},
   "source": [
    "#11. Create a tuple of odd numbers from 1 to 10."
   ]
  },
  {
   "cell_type": "code",
   "execution_count": 13,
   "id": "7d4afc4c-f086-411c-a92f-ad1c3e51892b",
   "metadata": {},
   "outputs": [
    {
     "name": "stdout",
     "output_type": "stream",
     "text": [
      "odd numbers tuple : (1, 3, 5, 7, 9)\n"
     ]
    }
   ],
   "source": [
    "#start the tuple from 1 and skip the one element from the range 1 to 10 and display the result\n",
    "user_tuple=tuple(i for i in range(1,11,2))\n",
    "\n",
    "print(\"odd numbers tuple :\",user_tuple)"
   ]
  },
  {
   "cell_type": "markdown",
   "id": "2a5d4770-ec98-4684-a6a6-2efbe1821cea",
   "metadata": {},
   "source": [
    "#12. Concatenate two tuples."
   ]
  },
  {
   "cell_type": "code",
   "execution_count": 19,
   "id": "9e0b8ecf-021a-4dba-bc3e-08ca703c1fe8",
   "metadata": {},
   "outputs": [
    {
     "name": "stdin",
     "output_type": "stream",
     "text": [
      "enter the elements of tuple separated by commas: 41,52,63\n",
      "enter the elements of tuple separated by commas: 47,58,69\n"
     ]
    },
    {
     "name": "stdout",
     "output_type": "stream",
     "text": [
      "our two tuples are : (41, 52, 63) (47, 58, 69)\n",
      "after concatinate these two tuples : (41, 52, 63, 47, 58, 69)\n"
     ]
    }
   ],
   "source": [
    "# getting the first string input from the user\n",
    "my_tuple1=input(\"enter the elements of tuple separated by commas:\")\n",
    "\n",
    "# Split the input string and convert to a tuple\n",
    "user_tuple1= tuple(map(int, my_tuple1.split(',')))\n",
    "\n",
    "# getting the second string input from the user\n",
    "my_tuple2=input(\"enter the elements of tuple separated by commas:\")\n",
    "\n",
    "# Split the input string and convert to a tuple\n",
    "user_tuple2 = tuple(map(int, my_tuple2.split(',')))\n",
    "\n",
    "print(\"our two tuples are :\",user_tuple1,user_tuple2)\n",
    "\n",
    "# concatinate these two tuples\n",
    "new_tuple=user_tuple1 + user_tuple2\n",
    "\n",
    "# display the result\n",
    "print(\"after concatinate these two tuples :\",new_tuple)"
   ]
  },
  {
   "cell_type": "markdown",
   "id": "c4a815d3-3f9b-46b2-bda3-ca09335d7c6c",
   "metadata": {},
   "source": [
    "#13. Repeat a tuple three times."
   ]
  },
  {
   "cell_type": "code",
   "execution_count": 1,
   "id": "1e5af75f-1373-4fec-bc16-9574389af25a",
   "metadata": {},
   "outputs": [
    {
     "name": "stdout",
     "output_type": "stream",
     "text": [
      "new tuple is : (4, 5, 6, 7, 8, 4, 5, 6, 7, 8, 4, 5, 6, 7, 8)\n"
     ]
    }
   ],
   "source": [
    "# initializing the tuple\n",
    "my_tuple=(4,5,6,7,8)\n",
    "\n",
    "# creating tuple 3 times\n",
    "new_tup=my_tuple*3\n",
    "\n",
    "# display result\n",
    "print(\"new tuple is :\",new_tup)"
   ]
  },
  {
   "cell_type": "markdown",
   "id": "b4d4c693-a4f2-4fb1-90b3-98299c8535f4",
   "metadata": {},
   "source": [
    "#14. Check if a tuple is empty."
   ]
  },
  {
   "cell_type": "code",
   "execution_count": 4,
   "id": "ef8bface-dd8d-4988-ac12-575734b72fd9",
   "metadata": {},
   "outputs": [
    {
     "name": "stdout",
     "output_type": "stream",
     "text": [
      "tuple is containing some elements\n"
     ]
    }
   ],
   "source": [
    "# initializing the tuple\n",
    "my_tuple=(4,5,6,7,8)\n",
    "\n",
    "# check if a tuple is empty\n",
    "if len(my_tuple)==0:\n",
    "    print(\"empty tuple\")\n",
    "else:\n",
    "    print(\"tuple is containing some elements\")"
   ]
  },
  {
   "cell_type": "markdown",
   "id": "cc01c7c4-3da8-483c-b276-d393a0bef068",
   "metadata": {},
   "source": [
    "#15. Create a nested tuple."
   ]
  },
  {
   "cell_type": "code",
   "execution_count": 5,
   "id": "af767753-6a0a-4a8f-850f-d98468cba383",
   "metadata": {},
   "outputs": [
    {
     "name": "stdin",
     "output_type": "stream",
     "text": [
      "enter the elements of tuple separated by commas: 4,2,5,6,3\n",
      "enter the elements of tuple separated by commas: 7,8,9,63,5\n"
     ]
    },
    {
     "name": "stdout",
     "output_type": "stream",
     "text": [
      "the nested tuple is : ((4, 2, 5, 6, 3), (7, 8, 9, 63, 5))\n"
     ]
    }
   ],
   "source": [
    "# getting the first string input from the user\n",
    "my_tuple1=input(\"enter the elements of tuple separated by commas:\")\n",
    "\n",
    "# Split the input string and convert to a tuple\n",
    "user_tuple1= tuple(map(int, my_tuple1.split(',')))\n",
    "\n",
    "# getting the second string input from the user\n",
    "my_tuple2=input(\"enter the elements of tuple separated by commas:\")\n",
    "\n",
    "# Split the input string and convert to a tuple\n",
    "user_tuple2 = tuple(map(int, my_tuple2.split(',')))\n",
    "\n",
    "# join these two tuples and display the result\n",
    "nested_tuple=(user_tuple1,user_tuple2)\n",
    "\n",
    "print(\"the nested tuple is :\",nested_tuple)"
   ]
  },
  {
   "cell_type": "markdown",
   "id": "397ca3ba-99bf-49e2-87dd-a831d3a898dd",
   "metadata": {},
   "source": [
    "#16. Access the first element of a nested tuple."
   ]
  },
  {
   "cell_type": "code",
   "execution_count": 9,
   "id": "9a84a018-223c-44de-8360-1a446ba8deb4",
   "metadata": {},
   "outputs": [
    {
     "name": "stdout",
     "output_type": "stream",
     "text": [
      "the first element is : 4\n"
     ]
    }
   ],
   "source": [
    "# initialize the nested tuple\n",
    "Nested_tuple = ((4, 2, 5, 6, 3), (7, 8, 9, 63, 5))\n",
    "\n",
    "# accessing the first element\n",
    "element = Nested_tuple[0][0]\n",
    "\n",
    "print(\"the first element is :\",element)"
   ]
  },
  {
   "cell_type": "markdown",
   "id": "a4dff348-b0f2-4fa4-bb5e-d3a12358703a",
   "metadata": {},
   "source": [
    "#17. Create a tuple with a single element."
   ]
  },
  {
   "cell_type": "code",
   "execution_count": 11,
   "id": "d8bd3a53-c9ab-4bc2-add4-00d4e8af29e2",
   "metadata": {},
   "outputs": [
    {
     "name": "stdin",
     "output_type": "stream",
     "text": [
      "Enter a value for the tuple:  45\n"
     ]
    },
    {
     "name": "stdout",
     "output_type": "stream",
     "text": [
      "Single-element tuple: ('45',)\n"
     ]
    }
   ],
   "source": [
    "# Get user input for a single element\n",
    "user_input = input(\"Enter a value for the tuple: \")\n",
    "\n",
    "# Create a tuple with a single element\n",
    "single_element_tuple = (user_input,)\n",
    "\n",
    "# Display the tuple\n",
    "print(\"Single-element tuple:\", single_element_tuple)\n"
   ]
  },
  {
   "cell_type": "markdown",
   "id": "9003846c-9d22-487c-a71a-a79d5442cb16",
   "metadata": {},
   "source": [
    "#18. Compare two tuples."
   ]
  },
  {
   "cell_type": "code",
   "execution_count": 12,
   "id": "1371e071-1dca-4613-999c-4600925bf759",
   "metadata": {},
   "outputs": [
    {
     "name": "stdin",
     "output_type": "stream",
     "text": [
      "enter the elements of tuple separated by commas: 4,5,6,1,2\n",
      "enter the elements of tuple separated by commas: 4,5,6,1,2\n"
     ]
    },
    {
     "name": "stdout",
     "output_type": "stream",
     "text": [
      "tuples are equal\n"
     ]
    }
   ],
   "source": [
    "# getting the first string input from the user\n",
    "my_tuple1=input(\"enter the elements of tuple separated by commas:\")\n",
    "\n",
    "# Split the input string and convert to a tuple\n",
    "user_tuple1= tuple(map(int, my_tuple1.split(',')))\n",
    "\n",
    "# getting the second string input from the user\n",
    "my_tuple2=input(\"enter the elements of tuple separated by commas:\")\n",
    "\n",
    "# Split the input string and convert to a tuple\n",
    "user_tuple2 = tuple(map(int, my_tuple2.split(',')))\n",
    "\n",
    "# comapring these two tuples\n",
    "if user_tuple1==user_tuple2:\n",
    "    print(\"tuples are equal\")\n",
    "else:\n",
    "    print(\"tuples are not equal\")"
   ]
  },
  {
   "cell_type": "markdown",
   "id": "94289540-a62c-454a-badb-90498232da9c",
   "metadata": {},
   "source": [
    "#19. Delete a tuple."
   ]
  },
  {
   "cell_type": "code",
   "execution_count": 17,
   "id": "d576f4b2-2af3-45bc-bca7-993dce620c4e",
   "metadata": {},
   "outputs": [
    {
     "name": "stdout",
     "output_type": "stream",
     "text": [
      "before deleting : (4, 5, 6, 7, 8)\n"
     ]
    }
   ],
   "source": [
    "# initializing the tuple\n",
    "my_tuple=(4,5,6,7,8)\n",
    "\n",
    "print(\"before deleting :\",my_tuple)\n",
    "\n",
    "# deleting the tuple\n",
    "del my_tuple\n"
   ]
  },
  {
   "cell_type": "markdown",
   "id": "5b0ea2ae-2be5-4d2c-a50d-48e53e420b19",
   "metadata": {},
   "source": [
    "#20. Slice a tuple."
   ]
  },
  {
   "cell_type": "code",
   "execution_count": 19,
   "id": "3232c08c-f459-44ff-ab7d-ed58bc80bc3f",
   "metadata": {},
   "outputs": [
    {
     "name": "stdout",
     "output_type": "stream",
     "text": [
      "original tuple : (4, 5, 6, 7, 8, 3, 6, 9)\n",
      "after slicing : (5, 6, 7, 8)\n"
     ]
    }
   ],
   "source": [
    "# initializing the tuple\n",
    "my_tuple=(4,5,6,7,8,3,6,9)\n",
    "print(\"original tuple :\",my_tuple)\n",
    "\n",
    "# slicing of tuple \n",
    "sliced_tuple=my_tuple[1:5]\n",
    "\n",
    "# display the result\n",
    "print(\"after slicing :\",sliced_tuple)\n"
   ]
  },
  {
   "cell_type": "markdown",
   "id": "0c8c21e2-5c06-4696-908e-81e7cdbee561",
   "metadata": {},
   "source": [
    "#21. Find the maximum value in a tuple."
   ]
  },
  {
   "cell_type": "code",
   "execution_count": 20,
   "id": "24850d33-8e63-4cdb-96c3-85d5b62c26b0",
   "metadata": {},
   "outputs": [
    {
     "name": "stdout",
     "output_type": "stream",
     "text": [
      "The tuple is : (4, 5, 6, 7, 8, 3, 6, 9)\n",
      "max element in the tuple is : 9\n"
     ]
    }
   ],
   "source": [
    "# initializing the tuple\n",
    "my_tuple=(4,5,6,7,8,3,6,9)\n",
    "print(\"The tuple is :\",my_tuple)\n",
    "\n",
    "# finding maximum using max function\n",
    "result=max(my_tuple)\n",
    "\n",
    "# display the result\n",
    "print(\"max element in the tuple is :\",result)"
   ]
  },
  {
   "cell_type": "markdown",
   "id": "683d111f-8c02-4010-a359-96bdfb3f552b",
   "metadata": {},
   "source": [
    "#22. Find the minimum value in a tuple."
   ]
  },
  {
   "cell_type": "code",
   "execution_count": 23,
   "id": "50a56313-7c40-4af1-93da-7f79877335a9",
   "metadata": {},
   "outputs": [
    {
     "name": "stdout",
     "output_type": "stream",
     "text": [
      "The tuple is : (4, 5, 6, 7, 8, 3, 6, 9)\n",
      "min element in the tuple is : 3\n"
     ]
    }
   ],
   "source": [
    "# initializing the tuple\n",
    "my_tuple=(4,5,6,7,8,3,6,9)\n",
    "print(\"The tuple is :\",my_tuple)\n",
    "\n",
    "# finding maximum using max function\n",
    "result=min(my_tuple)\n",
    "\n",
    "# display the result\n",
    "print(\"min element in the tuple is :\",result)"
   ]
  },
  {
   "cell_type": "markdown",
   "id": "56c99b80-eccd-4853-bb73-2cbacda22ec4",
   "metadata": {},
   "source": [
    "#23. Convert a string to a tuple of characters."
   ]
  },
  {
   "cell_type": "code",
   "execution_count": 25,
   "id": "93de4acf-aef1-412d-b6db-cc450fd33034",
   "metadata": {},
   "outputs": [
    {
     "name": "stdin",
     "output_type": "stream",
     "text": [
      "enter your string sakshi\n"
     ]
    },
    {
     "name": "stdout",
     "output_type": "stream",
     "text": [
      "string is : sakshi\n",
      "after Converting a string to a tuple of characters : ('s', 'a', 'k', 's', 'h', 'i')\n"
     ]
    }
   ],
   "source": [
    "# takimg string input from the user\n",
    "input_str=input(\"enter your string\")\n",
    "print(\"string is :\",input_str)\n",
    "\n",
    "# Converting a string to a tuple of characters.\n",
    "char_tuple = tuple(input_str)\n",
    "\n",
    "# display the result\n",
    "print(\"after Converting a string to a tuple of characters :\",char_tuple)"
   ]
  },
  {
   "cell_type": "markdown",
   "id": "9779f397-9f3b-4dba-838e-7951ecb3e08b",
   "metadata": {},
   "source": [
    "#24. Convert a tuple of characters to a string."
   ]
  },
  {
   "cell_type": "code",
   "execution_count": 35,
   "id": "d93c19b1-e13a-4213-a930-51cc1b7ae64b",
   "metadata": {},
   "outputs": [
    {
     "name": "stdin",
     "output_type": "stream",
     "text": [
      "enter the elements of tuple separated by commas: sakshi\n"
     ]
    },
    {
     "name": "stdout",
     "output_type": "stream",
     "text": [
      "our tuple is : ('s', 'a', 'k', 's', 'h', 'i')\n",
      "after converting into string is : sakshi\n"
     ]
    }
   ],
   "source": [
    "# getting the first string input from the user\n",
    "my_tuple1=input(\"enter the elements of tuple separated by commas:\")\n",
    "\n",
    "# Split the input string and convert to a tuple\n",
    "user_tuple1= tuple(my_tuple1)\n",
    "\n",
    "print(\"our tuple is :\",user_tuple1)\n",
    "\n",
    "# converting the tuple in string\n",
    "result_str = ''.join(user_tuple1)\n",
    "\n",
    "# display the result\n",
    "print(\"after converting into string is :\",result_str)"
   ]
  },
  {
   "cell_type": "markdown",
   "id": "b5876772-4e9d-4a6b-9f51-1d08584a103b",
   "metadata": {},
   "source": [
    "#25. Create a tuple from multiple data types."
   ]
  },
  {
   "cell_type": "code",
   "execution_count": 38,
   "id": "9071d1e6-6b42-4f56-a11b-c5573c71d060",
   "metadata": {},
   "outputs": [
    {
     "name": "stdin",
     "output_type": "stream",
     "text": [
      "Enter an integer:  5\n",
      "Enter a float:  3\n",
      "Enter a string:  \"sudh\"\n"
     ]
    },
    {
     "name": "stdout",
     "output_type": "stream",
     "text": [
      "Mixed Data Type Tuple: (5, 0.0, '\"sudh\"')\n"
     ]
    }
   ],
   "source": [
    "# Get input from the user for different data types\n",
    "element1 = input(\"Enter an integer: \")\n",
    "\n",
    "# Check and convert to integer with default value\n",
    "element1 = int(element1) if element1.isdigit() else 0\n",
    "\n",
    "element2 = input(\"Enter a float: \")\n",
    "\n",
    "# Check and convert to float with default value\n",
    "element2 = float(element2) if \".\" in element2 and all(part.isdigit() for part in element2.split(\".\")) else 0.0\n",
    "\n",
    "element3 = input(\"Enter a string: \")\n",
    "\n",
    "# Create a tuple with multiple data types\n",
    "mixed_tuple = (element1, element2, element3)\n",
    "\n",
    "# Display the result\n",
    "print(\"Mixed Data Type Tuple:\", mixed_tuple)\n"
   ]
  },
  {
   "cell_type": "markdown",
   "id": "1abcc437-21aa-483d-920c-2fef057d6a3f",
   "metadata": {},
   "source": [
    "#26. Check if two tuples are identical."
   ]
  },
  {
   "cell_type": "code",
   "execution_count": 39,
   "id": "0b0b8044-0002-419d-ad77-fe0a199e4d3d",
   "metadata": {},
   "outputs": [
    {
     "name": "stdout",
     "output_type": "stream",
     "text": [
      "Tuples are not identical\n"
     ]
    }
   ],
   "source": [
    "# Example tuples\n",
    "tuple1 = (1, 2, 3,8,6,45,36)\n",
    "tuple2 = (1, 2, 3,74,9,6,3,2,8)\n",
    "\n",
    "# Check if the tuples are identical\n",
    "if tuple1 == tuple2:\n",
    "    print(\"Tuples are identical\")\n",
    "else:\n",
    "    print(\"Tuples are not identical\")\n"
   ]
  },
  {
   "cell_type": "markdown",
   "id": "c7c659b7-883e-4905-ac93-661e848852c9",
   "metadata": {},
   "source": [
    "#27. Sort the elements of a tuple."
   ]
  },
  {
   "cell_type": "code",
   "execution_count": 45,
   "id": "e88837c7-9708-4a23-b373-11d296c1c9b6",
   "metadata": {},
   "outputs": [
    {
     "name": "stdout",
     "output_type": "stream",
     "text": [
      "original tuple : (16, 2, 83, 8, 6, 45, 36)\n",
      "after sorting : (2, 6, 8, 16, 36, 45, 83)\n"
     ]
    }
   ],
   "source": [
    "# Example tuples\n",
    "tuple1 = (16, 2,83,8,6,45,36)\n",
    "\n",
    "# sort the tuple using sort method\n",
    "sorted_tuple=tuple(sorted(tuple1))\n",
    "\n",
    "# display the result\n",
    "print(\"original tuple :\",tuple1)\n",
    "print(\"after sorting :\",sorted_tuple)"
   ]
  },
  {
   "cell_type": "markdown",
   "id": "e44bf19a-fa87-4c92-9bcc-eaf8329bb510",
   "metadata": {},
   "source": [
    "#28. Convert a tuple of integers to a tuple of strings."
   ]
  },
  {
   "cell_type": "code",
   "execution_count": 53,
   "id": "ff678826-a5a2-4372-8def-b9fc14b4dff3",
   "metadata": {},
   "outputs": [
    {
     "name": "stdout",
     "output_type": "stream",
     "text": [
      "after converting : ('16', '2', '83', '8', '6', '45', '36')\n"
     ]
    }
   ],
   "source": [
    "# Example tuples\n",
    "tuple1 = (16, 2,83,8,6,45,36)\n",
    "\n",
    "# converting tuple of integers to a tuple of strings.\n",
    "str_tuple= tuple(map(str, tuple1))\n",
    "\n",
    "# display the result\n",
    "print(\"after converting :\",str_tuple)\n"
   ]
  },
  {
   "cell_type": "markdown",
   "id": "8ad83d16-ee75-43d8-8cb4-4cf6164b11b6",
   "metadata": {},
   "source": [
    "#29. Convert a tuple of strings to a tuple of integers."
   ]
  },
  {
   "cell_type": "code",
   "execution_count": 54,
   "id": "540e58f2-3b6e-456d-a2c4-a5f44a40c448",
   "metadata": {},
   "outputs": [
    {
     "name": "stdout",
     "output_type": "stream",
     "text": [
      "after converting : (16, 2, 83, 8, 6, 45, 36)\n"
     ]
    }
   ],
   "source": [
    "# initialize the tuple\n",
    "tuple2 = ('16', '2', '83', '8', '6', '45', '36')\n",
    "\n",
    "# Converting a tuple of strings to a tuple of integers.\n",
    "int_tuple= tuple(map(int, tuple1))\n",
    "\n",
    "# display the result\n",
    "print(\"after converting :\",int_tuple)"
   ]
  },
  {
   "cell_type": "markdown",
   "id": "e746d5d1-58e8-4b43-b43b-cf25f9964b8a",
   "metadata": {},
   "source": [
    "#30. Merge two tuples."
   ]
  },
  {
   "cell_type": "code",
   "execution_count": 55,
   "id": "e7af0fe3-8337-46e9-b6d1-d638d84b1473",
   "metadata": {},
   "outputs": [
    {
     "name": "stdout",
     "output_type": "stream",
     "text": [
      "after merging : (16, 2, 83, 8, 6, '16', '2', '83', '8', '6', '45', '36')\n"
     ]
    }
   ],
   "source": [
    "# Example tuples\n",
    "tuple1 = (16, 2,83,8,6,45,36)\n",
    "tuple1 = (16, 2,83,8,6)\n",
    "\n",
    "# merging the tuples\n",
    "merged_tuple=tuple1+tuple2\n",
    "\n",
    "# display the result\n",
    "print(\"after merging :\",merged_tuple)\n"
   ]
  },
  {
   "cell_type": "markdown",
   "id": "e9cadaeb-af3c-40dc-89e5-57ca9cef3874",
   "metadata": {},
   "source": [
    "#31. Flatten a nested tuple."
   ]
  },
  {
   "cell_type": "code",
   "execution_count": 56,
   "id": "a909272e-589f-4fbf-aa86-ddd10f32eec2",
   "metadata": {},
   "outputs": [
    {
     "name": "stdout",
     "output_type": "stream",
     "text": [
      "Original Nested Tuple: ((1, 2, 3), ('a', 'b', 'c'), (True, False))\n",
      "Flattened Tuple: (1, 2, 3, 'a', 'b', 'c', True, False)\n"
     ]
    }
   ],
   "source": [
    "from itertools import chain\n",
    "\n",
    "# Example nested tuple\n",
    "nested_tuple = ((1, 2, 3), ('a', 'b', 'c'), (True, False))\n",
    "\n",
    "# Flatten the nested tuple using itertools.chain()\n",
    "flattened_tuple = tuple(chain(*nested_tuple))\n",
    "\n",
    "# Display the result\n",
    "print(\"Original Nested Tuple:\", nested_tuple)\n",
    "print(\"Flattened Tuple:\", flattened_tuple)\n"
   ]
  },
  {
   "cell_type": "markdown",
   "id": "71811f22-9b0f-4c79-882d-8fccdad73991",
   "metadata": {},
   "source": [
    "#32. Create a tuple of the first 5 prime numbers."
   ]
  },
  {
   "cell_type": "code",
   "execution_count": 57,
   "id": "361395c7-99e3-4447-93a9-abb288fa53c9",
   "metadata": {},
   "outputs": [
    {
     "name": "stdout",
     "output_type": "stream",
     "text": [
      "Tuple of the first 5 prime numbers: (2, 3, 5, 7, 11)\n"
     ]
    }
   ],
   "source": [
    "# Function to check if a number is prime\n",
    "def is_prime(n):\n",
    "    if n < 2:\n",
    "        return False\n",
    "    for i in range(2, int(n**0.5) + 1):\n",
    "        if n % i == 0:\n",
    "            return False\n",
    "    return True\n",
    "\n",
    "# Generate a tuple of the first 5 prime numbers\n",
    "prime_numbers = tuple([num for num in range(2, 20) if is_prime(num)][:5])\n",
    "\n",
    "# Display the result\n",
    "print(\"Tuple of the first 5 prime numbers:\", prime_numbers)\n"
   ]
  },
  {
   "cell_type": "markdown",
   "id": "75a11edd-3499-434b-ae71-dbdbd08f8818",
   "metadata": {},
   "source": [
    "#33. Check if a tuple is a palindrome."
   ]
  },
  {
   "cell_type": "code",
   "execution_count": 16,
   "id": "f6436757-b55e-4b61-aab4-de425dc86284",
   "metadata": {},
   "outputs": [
    {
     "name": "stdin",
     "output_type": "stream",
     "text": [
      "Enter a tuple of elements (comma-separated):  45,12,6,12,45\n"
     ]
    },
    {
     "name": "stdout",
     "output_type": "stream",
     "text": [
      "The tuple is a palindrome\n"
     ]
    }
   ],
   "source": [
    "def is_palindrome(input_tuple):\n",
    "    return input_tuple == input_tuple[::-1]\n",
    "\n",
    "# Get tuple input from the user\n",
    "user_input = input(\"Enter a tuple of elements (comma-separated): \")\n",
    "\n",
    "# Split the input and check if all elements are integers\n",
    "input_elements = user_input.split(',')\n",
    "if all(element.isdigit() for element in input_elements):\n",
    "    # Convert user input to a tuple\n",
    "    user_tuple = tuple(map(int, input_elements))\n",
    "    \n",
    "    # Check if the tuple is a palindrome\n",
    "    if is_palindrome(user_tuple):\n",
    "        print(\"The tuple is a palindrome\")\n",
    "    else:\n",
    "        print(\"The tuple is not a palindrome\")\n",
    "else:\n",
    "    print(\"Invalid input. Please enter a valid tuple of integers.\")\n"
   ]
  },
  {
   "cell_type": "markdown",
   "id": "5097ea06-7cb9-4ab8-aab8-0d2c6115aa42",
   "metadata": {},
   "source": [
    "#34. Create a tuple of squares of numbers from 1 to 5."
   ]
  },
  {
   "cell_type": "code",
   "execution_count": 22,
   "id": "aa7252c7-e1b9-4f63-ba4f-a2ef293bb1f8",
   "metadata": {},
   "outputs": [
    {
     "name": "stdout",
     "output_type": "stream",
     "text": [
      "tuple is : (1, 2, 3, 4, 5)\n",
      "squared tuple is : (1, 4, 9, 16, 25)\n"
     ]
    }
   ],
   "source": [
    "# printing the tuple with range 1 to 5\n",
    "my_tuple = tuple(i for i in range(1, 6))\n",
    "print(\"tuple is :\",my_tuple)\n",
    "\n",
    "square_tuple=tuple(i*i for i in my_tuple)\n",
    "print(\"squared tuple is :\",square_tuple)"
   ]
  },
  {
   "cell_type": "markdown",
   "id": "eb45f959-f9dd-423b-81f8-9f41b0757077",
   "metadata": {},
   "source": [
    "#35. Filter out all even numbers from a tuple."
   ]
  },
  {
   "cell_type": "code",
   "execution_count": 23,
   "id": "d941b2ac-8b7f-4a9f-bfde-57396be9759a",
   "metadata": {},
   "outputs": [
    {
     "name": "stdin",
     "output_type": "stream",
     "text": [
      "Enter a tuple of elements (comma-separated):  45,12,6,65,74,85,36\n"
     ]
    },
    {
     "name": "stdout",
     "output_type": "stream",
     "text": [
      "even elements in the tuple is : (12, 6, 74, 36)\n"
     ]
    }
   ],
   "source": [
    "# Get tuple input from the user\n",
    "user_input = input(\"Enter a tuple of elements (comma-separated): \")\n",
    "\n",
    "# Split the input and check if all elements are integers\n",
    "input_elements = user_input.split(',')\n",
    "if all(element.isdigit() for element in input_elements):\n",
    "    # Convert user input to a tuple\n",
    "    user_tuple = tuple(map(int, input_elements))\n",
    "    \n",
    "even_element=tuple(i for i in user_tuple if i%2==0)\n",
    "print(\"even elements in the tuple is :\",even_element)\n",
    "    "
   ]
  },
  {
   "cell_type": "markdown",
   "id": "5f37e8a8-7000-4766-987e-79959f245cef",
   "metadata": {},
   "source": [
    "#36. Multiply all elements in a tuple by 2."
   ]
  },
  {
   "cell_type": "code",
   "execution_count": 1,
   "id": "f76ed5bd-dbcc-48a2-bb7b-85efbfd38652",
   "metadata": {},
   "outputs": [
    {
     "name": "stdin",
     "output_type": "stream",
     "text": [
      "enter the tuple of elements (comma-seprarted): 14,25,36\n"
     ]
    },
    {
     "name": "stdout",
     "output_type": "stream",
     "text": [
      "after multiplying each element of a tuple by 2 : (28, 50, 72)\n"
     ]
    }
   ],
   "source": [
    "# get the tuple input from user\n",
    "user_input=input(\"enter the tuple of elements (comma-seprarted):\")\n",
    "\n",
    "# split the input and check if all the elements are integers\n",
    "input_elements=user_input.split(',')\n",
    "if all (element.isdigit() for element in input_elements):\n",
    "    # convert user input to a tuple\n",
    "    user_tuple=tuple(map(int,input_elements))\n",
    "\n",
    "\n",
    "multiply = tuple(i*2 for i in user_tuple)\n",
    "print(\"after multiplying each element of a tuple by 2 :\",multiply)"
   ]
  },
  {
   "cell_type": "markdown",
   "id": "30b13a17-d720-48b2-b9d6-9ac36c062ba2",
   "metadata": {},
   "source": [
    "#37. Create a tuple of random numbers."
   ]
  },
  {
   "cell_type": "code",
   "execution_count": 2,
   "id": "9694d332-a6c6-4f5f-898e-661069d52623",
   "metadata": {},
   "outputs": [
    {
     "name": "stdout",
     "output_type": "stream",
     "text": [
      "Tuple of random numbers: (18, 55, 49, 25, 93)\n"
     ]
    }
   ],
   "source": [
    "import random\n",
    "\n",
    "\n",
    "# Generate a tuple of 5 random numbers between 1 and 100\n",
    "random_numbers_tuple = tuple(random.randint(1, 100) for _ in range(5))\n",
    "\n",
    "# Display the result\n",
    "print(\"Tuple of random numbers:\", random_numbers_tuple)\n"
   ]
  },
  {
   "cell_type": "markdown",
   "id": "1ff17f9d-63b8-48d2-ba5d-862df3498ca9",
   "metadata": {},
   "source": [
    "#38. Check if a tuple is sorted."
   ]
  },
  {
   "cell_type": "code",
   "execution_count": 11,
   "id": "ad05d96a-9607-47ba-860a-b97cfe66fe78",
   "metadata": {},
   "outputs": [
    {
     "name": "stdin",
     "output_type": "stream",
     "text": [
      "enter the tuple of elements (comma-seprarted): 54,12,34,91\n"
     ]
    },
    {
     "name": "stdout",
     "output_type": "stream",
     "text": [
      "tuple is not sorted\n"
     ]
    }
   ],
   "source": [
    "# get the tuple input from user\n",
    "user_input=input(\"enter the tuple of elements (comma-seprarted):\")\n",
    "\n",
    "# split the input and check if all the elements are integers\n",
    "input_elements=user_input.split(',')\n",
    "if all (element.isdigit() for element in input_elements):\n",
    "    # convert user input to a tuple\n",
    "    user_tuple=tuple(map(int,input_elements))\n",
    "    \n",
    "if tuple(sorted(user_tuple))==user_tuple:\n",
    "    print(\"tuple is sorted\")\n",
    "else:\n",
    "    print(\"tuple is not sorted\")"
   ]
  },
  {
   "cell_type": "markdown",
   "id": "ee1f573f-0b2d-4440-9dee-6f98e7d88c45",
   "metadata": {},
   "source": [
    "#39. Rotate a tuple to the left by `n` positions."
   ]
  },
  {
   "cell_type": "code",
   "execution_count": 24,
   "id": "677dd6a9-6f86-4cde-adf9-82e0c4dd684b",
   "metadata": {},
   "outputs": [
    {
     "name": "stdout",
     "output_type": "stream",
     "text": [
      "Original Tuple: (1, 2, 3, 4, 5)\n",
      "Rotated Tuple to the left by 2 positions: (3, 4, 5, 1, 2)\n"
     ]
    }
   ],
   "source": [
    "def rotate_left(input_tuple, n):\n",
    "    n = n % len(input_tuple)  # Ensure rotation within the length of the tuple\n",
    "    rotated_tuple = input_tuple[n:] + input_tuple[:n]\n",
    "    return rotated_tuple\n",
    "\n",
    "# Example tuple\n",
    "original_tuple = (1, 2, 3, 4, 5)\n",
    "\n",
    "# Rotate the tuple to the left by 2 positions\n",
    "n_positions = 2\n",
    "rotated_tuple = rotate_left(original_tuple, n_positions)\n",
    "\n",
    "# Display the result\n",
    "print(\"Original Tuple:\", original_tuple)\n",
    "print(f\"Rotated Tuple to the left by {n_positions} positions:\", rotated_tuple)\n"
   ]
  },
  {
   "cell_type": "markdown",
   "id": "7944900e-66c9-4048-963a-cb6cc831bb1b",
   "metadata": {},
   "source": [
    "#40. Rotate a tuple to the right by `n` positions."
   ]
  },
  {
   "cell_type": "code",
   "execution_count": 33,
   "id": "e40aee99-5c14-4590-8c5f-67c264d5e9cc",
   "metadata": {},
   "outputs": [
    {
     "name": "stdout",
     "output_type": "stream",
     "text": [
      "Original Tuple: (1, 2, 3, 4, 5)\n",
      "Rotated Tuple to the right by 2 positions: (4, 5, 1, 2, 3)\n"
     ]
    }
   ],
   "source": [
    "def rotate_right(input_tuple, n):\n",
    "    n = n % len(input_tuple)  # Ensure rotation within the length of the tuple\n",
    "    rotated_tuple = input_tuple[-n:] + input_tuple[:-n]\n",
    "    return rotated_tuple\n",
    "\n",
    "# Example tuple\n",
    "original_tuple = (1, 2, 3, 4, 5)\n",
    "\n",
    "# Rotate the tuple to the left by 2 positions\n",
    "n_positions = 2\n",
    "rotated_tuple = rotate_right(original_tuple, n_positions)\n",
    "\n",
    "# Display the result\n",
    "print(\"Original Tuple:\", original_tuple)\n",
    "print(f\"Rotated Tuple to the right by {n_positions} positions:\", rotated_tuple)"
   ]
  },
  {
   "cell_type": "markdown",
   "id": "fe7c4577-077f-4547-8f1d-064fa85937b9",
   "metadata": {},
   "source": [
    "#41. Create a tuple of the first 5 Fibonacci numbers."
   ]
  },
  {
   "cell_type": "code",
   "execution_count": 34,
   "id": "5d273c45-b62b-4d78-b50a-c011ee3adcb1",
   "metadata": {},
   "outputs": [
    {
     "name": "stdout",
     "output_type": "stream",
     "text": [
      "Tuple of the first 5 Fibonacci numbers: (0, 1, 1, 2, 3)\n"
     ]
    }
   ],
   "source": [
    "# Function to generate the first n Fibonacci numbers\n",
    "def generate_fibonacci(n):\n",
    "    fibonacci_numbers = [0, 1]\n",
    "    while len(fibonacci_numbers) < n:\n",
    "        next_number = fibonacci_numbers[-1] + fibonacci_numbers[-2]\n",
    "        fibonacci_numbers.append(next_number)\n",
    "    return tuple(fibonacci_numbers)\n",
    "\n",
    "# Generate a tuple of the first 5 Fibonacci numbers\n",
    "fibonacci_tuple = generate_fibonacci(5)\n",
    "\n",
    "# Display the result\n",
    "print(\"Tuple of the first 5 Fibonacci numbers:\", fibonacci_tuple)\n",
    "\n",
    "    \n"
   ]
  },
  {
   "cell_type": "markdown",
   "id": "b0d740a5-6d8f-41e3-9e81-a508618c9f95",
   "metadata": {},
   "source": [
    "#42. Create a tuple from user input."
   ]
  },
  {
   "cell_type": "code",
   "execution_count": 35,
   "id": "b33d447e-6832-4780-a680-7f9ee03123a5",
   "metadata": {},
   "outputs": [
    {
     "name": "stdin",
     "output_type": "stream",
     "text": [
      "enter the tuple of elements (comma-seprarted): 14,25,36,74,85,96\n"
     ]
    },
    {
     "name": "stdout",
     "output_type": "stream",
     "text": [
      "user input tuple is : (14, 25, 36, 74, 85, 96)\n"
     ]
    }
   ],
   "source": [
    "# get the tuple input from user\n",
    "user_input=input(\"enter the tuple of elements (comma-seprarted):\")\n",
    "\n",
    "# split the input and check if all the elements are integers\n",
    "input_elements=user_input.split(',')\n",
    "if all (element.isdigit() for element in input_elements):\n",
    "    # convert user input to a tuple\n",
    "    user_tuple=tuple(map(int,input_elements))\n",
    "    \n",
    "print(\"user input tuple is :\",user_tuple)"
   ]
  },
  {
   "cell_type": "markdown",
   "id": "cc76c641-7a00-4a03-bb63-8a6b6fef91b1",
   "metadata": {},
   "source": [
    "#43. Swap two elements in a tuple."
   ]
  },
  {
   "cell_type": "code",
   "execution_count": 2,
   "id": "ddc4e915-5b0d-4260-b765-f5bb697aa89e",
   "metadata": {},
   "outputs": [
    {
     "name": "stdin",
     "output_type": "stream",
     "text": [
      "enter the tuple of elements (comma-seprarted): 41,52,63,74,85,96\n"
     ]
    },
    {
     "name": "stdout",
     "output_type": "stream",
     "text": [
      "user input tuple is : (41, 52, 63, 74, 85, 96)\n"
     ]
    },
    {
     "name": "stdin",
     "output_type": "stream",
     "text": [
      "Enter values for n and n1 separated by a space:  1 5\n"
     ]
    },
    {
     "name": "stdout",
     "output_type": "stream",
     "text": [
      "You entered: 1 and 5\n",
      "Original Tuple: (41, 52, 63, 74, 85, 96)\n",
      "Tuple after swapping elements at indices 1 and 5: (41, 96, 63, 74, 85, 52)\n"
     ]
    }
   ],
   "source": [
    "# get the tuple input from user\n",
    "user_input=input(\"enter the tuple of elements (comma-seprarted):\")\n",
    "\n",
    "# split the input and check if all the elements are integers\n",
    "input_elements=user_input.split(',')\n",
    "if all (element.isdigit() for element in input_elements):\n",
    "    # convert user input to a tuple\n",
    "    user_tuple=tuple(map(int,input_elements))\n",
    "    \n",
    "print(\"user input tuple is :\",user_tuple)\n",
    "\n",
    "n, n1 = map(int, input(\"Enter values for n and n1 separated by a space: \").split())\n",
    "\n",
    "\n",
    "\n",
    "# Display the inputs\n",
    "print(\"You entered:\",n, \"and\",n1)\n",
    "\n",
    "# Convert the tuple to a list for modification\n",
    "temp_list = list(user_tuple)\n",
    "\n",
    "# Swap the elements\n",
    "temp_list[n], temp_list[n1] = temp_list[n1], temp_list[n]\n",
    "\n",
    "# Convert the list back to a tuple\n",
    "swapped_tuple = tuple(temp_list)\n",
    "\n",
    "# Display the result\n",
    "print(\"Original Tuple:\", user_tuple)\n",
    "print(f\"Tuple after swapping elements at indices {n} and {n1}:\", swapped_tuple)"
   ]
  },
  {
   "cell_type": "markdown",
   "id": "7dec1d93-405d-476c-91c5-2e34ae24d0fb",
   "metadata": {},
   "source": [
    "#44. Reverse the elements of a tuple."
   ]
  },
  {
   "cell_type": "code",
   "execution_count": 3,
   "id": "57c061cb-e2a4-4fd1-8c78-004aa511cb0e",
   "metadata": {},
   "outputs": [
    {
     "name": "stdout",
     "output_type": "stream",
     "text": [
      "original tuple : (1, 2, 5, 4, 6)\n",
      "after reversing the elements : (6, 4, 5, 2, 1)\n"
     ]
    }
   ],
   "source": [
    "# example usage\n",
    "my_tuple=(1,2,5,4,6)\n",
    "\n",
    "# reverse the tuple\n",
    "reverse_tuple=my_tuple[::-1]\n",
    "\n",
    "# display the result\n",
    "print(\"original tuple :\",my_tuple)\n",
    "print(\"after reversing the elements :\",reverse_tuple)"
   ]
  },
  {
   "cell_type": "markdown",
   "id": "a94d02e1-ab29-4828-b701-f07541415a2d",
   "metadata": {},
   "source": [
    "#45. Create a tuple of the first `n` powers of 2."
   ]
  },
  {
   "cell_type": "code",
   "execution_count": 6,
   "id": "b640767f-2d08-43a8-8983-45a391a57d3b",
   "metadata": {},
   "outputs": [
    {
     "name": "stdin",
     "output_type": "stream",
     "text": [
      "enter the range input from the user : 5\n"
     ]
    },
    {
     "name": "stdout",
     "output_type": "stream",
     "text": [
      "the powered tuple is : (0, 1, 4, 9, 16, 25)\n"
     ]
    }
   ],
   "source": [
    "# take the range input from the user\n",
    "n=int(input(\"enter the range input from the user :\"))\n",
    "\n",
    "my_list=[i*i for i in range(0,n+1)]\n",
    "my_tuple=tuple(my_list)\n",
    "\n",
    "print(\"the powered tuple is :\",my_tuple)"
   ]
  },
  {
   "cell_type": "markdown",
   "id": "2e0ea639-d510-4afd-a939-989180d2790c",
   "metadata": {},
   "source": [
    "#46. Find the longest string in a tuple of strings."
   ]
  },
  {
   "cell_type": "code",
   "execution_count": 10,
   "id": "fdee3d8a-3f5e-46d9-a646-7aa1bf323fe4",
   "metadata": {},
   "outputs": [
    {
     "name": "stdout",
     "output_type": "stream",
     "text": [
      "longest string in the tuple is : himanshi\n"
     ]
    }
   ],
   "source": [
    "# initialize the tuple\n",
    "my_tup=(\"sudh\",\"sakshi\",\"himanshi\",\"gourav\",\"rahul\")\n",
    "\n",
    "# Find the longest string in the tuple\n",
    "longest_string = max(my_tup, key=len)\n",
    "\n",
    "# print the result\n",
    "print(\"longest string in the tuple is :\",longest_string)\n",
    "\n"
   ]
  },
  {
   "cell_type": "markdown",
   "id": "14997ed9-926f-406c-95dc-8fc3c946f134",
   "metadata": {},
   "source": [
    "#47. Find the shortest string in a tuple of strings."
   ]
  },
  {
   "cell_type": "code",
   "execution_count": 11,
   "id": "e61a04a3-ec24-467c-9469-2559b88c9b3e",
   "metadata": {},
   "outputs": [
    {
     "name": "stdout",
     "output_type": "stream",
     "text": [
      "shortest string in the tuple is : sudh\n"
     ]
    }
   ],
   "source": [
    "# initialize the tuple\n",
    "my_tup=(\"sudh\",\"sakshi\",\"himanshi\",\"gourav\",\"rahul\")\n",
    "\n",
    "# Find the longest string in the tuple\n",
    "shortest_string = min(my_tup, key=len)\n",
    "\n",
    "# print the result\n",
    "print(\"shortest string in the tuple is :\",shortest_string)"
   ]
  },
  {
   "cell_type": "markdown",
   "id": "1f3ac98b-6b67-4b74-8711-ff350157b0fe",
   "metadata": {},
   "source": [
    "#48. Create a tuple of the first `n` triangular numbers."
   ]
  },
  {
   "cell_type": "code",
   "execution_count": 7,
   "id": "004ccab4-6637-4f65-a78a-02c82677d8ba",
   "metadata": {},
   "outputs": [
    {
     "name": "stdin",
     "output_type": "stream",
     "text": [
      "enter the range : 5\n"
     ]
    },
    {
     "name": "stdout",
     "output_type": "stream",
     "text": [
      "triangle numbers in first 5 numbers are [1, 3, 6, 10, 15]\n"
     ]
    }
   ],
   "source": [
    "# take range input from the user\n",
    "n=int(input(\"enter the range :\"))\n",
    "\n",
    "triangular_numbers =[i * (i + 1) // 2 for i in range(1, n + 1)]\n",
    "\n",
    "print(f\"triangle numbers in first {n} numbers are {triangular_numbers}\")"
   ]
  },
  {
   "cell_type": "markdown",
   "id": "f9a1e016-2ab6-48d3-b395-f51a9eb0fefb",
   "metadata": {},
   "source": [
    "#49. Check if a tuple contains another tuple as a subsequence."
   ]
  },
  {
   "cell_type": "code",
   "execution_count": null,
   "id": "b5528b89-35dd-4d9b-af9d-cb8e93fb809a",
   "metadata": {},
   "outputs": [],
   "source": [
    "def is_subsequence(sub, larger):\n",
    "    n = len(sub)\n",
    "    for i in range(len(larger) - n + 1):\n",
    "        if larger[i:i+n] == sub:\n",
    "            return True\n",
    "    return False\n",
    "\n",
    "# Example tuples\n",
    "larger_tuple = (1, 2, 3, 4, 5, 6, 7, 8, 9)\n",
    "subsequence_tuple = (3, 4, 5)\n",
    "\n",
    "# Check if the subsequence exists in the larger tuple\n",
    "result = is_subsequence(subsequence_tuple, larger_tuple)\n",
    "\n",
    "# Display the result\n",
    "print(\"Larger Tuple:\", larger_tuple)\n",
    "print(\"Subsequence Tuple:\", subsequence_tuple)\n",
    "print(\"Is Subsequence:\", result)\n"
   ]
  },
  {
   "cell_type": "markdown",
   "id": "be4a44bd-a812-49dd-a71b-0f0ad44c5ee7",
   "metadata": {},
   "source": [
    "#50. Create a tuple of alternating 1s and 0s of length `n`."
   ]
  },
  {
   "cell_type": "code",
   "execution_count": 11,
   "id": "ad6fd284-3951-41c7-b9fa-5e57ab1c6199",
   "metadata": {},
   "outputs": [
    {
     "name": "stdout",
     "output_type": "stream",
     "text": [
      "Tuple of alternating 1s and 0s of length 10: (1, 0, 1, 0, 1, 0, 1, 0, 1, 0)\n"
     ]
    }
   ],
   "source": [
    "# Function to create a tuple of alternating 1s and 0s\n",
    "def create_alternating_tuple(n):\n",
    "    return tuple(1 if i % 2 == 0 else 0 for i in range(n))\n",
    "\n",
    "# Example: Create a tuple of alternating 1s and 0s of length 10\n",
    "n = 10\n",
    "alternating_tuple = create_alternating_tuple(n)\n",
    "\n",
    "# Display the result\n",
    "print(f\"Tuple of alternating 1s and 0s of length {n}:\", alternating_tuple)\n"
   ]
  },
  {
   "cell_type": "markdown",
   "id": "df446b7c-d6a5-4775-83fc-c66c51ce613c",
   "metadata": {},
   "source": [
    "Set Based Practice Problem :"
   ]
  },
  {
   "cell_type": "markdown",
   "id": "b3181f4b-99f0-43e0-a9f9-685b58bd3f4b",
   "metadata": {},
   "source": [
    "#1. Create a set with integers from 1 to 5."
   ]
  },
  {
   "cell_type": "code",
   "execution_count": 14,
   "id": "75fe09d2-3776-47f4-9d71-5a2feec848b4",
   "metadata": {},
   "outputs": [
    {
     "data": {
      "text/plain": [
       "{1, 2, 3, 4, 5}"
      ]
     },
     "execution_count": 14,
     "metadata": {},
     "output_type": "execute_result"
    }
   ],
   "source": [
    "set([i for i in range(1,6)])"
   ]
  },
  {
   "cell_type": "markdown",
   "id": "41e93674-0970-46ea-84d1-2bf989aa2cf9",
   "metadata": {},
   "source": [
    "#2. Add an element to a set."
   ]
  },
  {
   "cell_type": "code",
   "execution_count": 21,
   "id": "4dd0e962-26b5-438d-b246-fbd66882358b",
   "metadata": {},
   "outputs": [
    {
     "name": "stdin",
     "output_type": "stream",
     "text": [
      "enter the range value : 5\n"
     ]
    },
    {
     "name": "stdout",
     "output_type": "stream",
     "text": [
      "set is : {1, 2, 3, 4, 5}\n",
      "after adding new element : {1, 2, 3, 4, 5, 45}\n"
     ]
    }
   ],
   "source": [
    "# take set range input from the user\n",
    "n=int(input(\"enter the range value :\"))\n",
    "\n",
    "# printing set of range 5\n",
    "my_set = set([i for i in range(1,n+1)])\n",
    "print(\"set is :\",my_set)\n",
    "\n",
    "# adding element by add function\n",
    "new_element=45\n",
    "my_set.add(new_element)\n",
    "print(\"after adding new element :\",my_set)"
   ]
  },
  {
   "cell_type": "markdown",
   "id": "a12a7ca2-182f-44b2-b2f3-15181c57098b",
   "metadata": {},
   "source": [
    "#3. Remove an element from a set."
   ]
  },
  {
   "cell_type": "code",
   "execution_count": 22,
   "id": "f895ad17-047e-4b3f-9071-f53daed1ed78",
   "metadata": {},
   "outputs": [
    {
     "name": "stdout",
     "output_type": "stream",
     "text": [
      "after removing : {1, 2, 3, 4}\n"
     ]
    }
   ],
   "source": [
    "# initialize the set\n",
    "set1= {1, 2, 3, 4, 5}\n",
    "\n",
    "# removing the element by remove method\n",
    "set1.remove(5)\n",
    "print(\"after removing :\",set1)"
   ]
  },
  {
   "cell_type": "markdown",
   "id": "c0fa45a0-6fad-4a95-8d2c-edb0cac4448b",
   "metadata": {},
   "source": [
    "#4. Check if an element exists in a set."
   ]
  },
  {
   "cell_type": "code",
   "execution_count": 53,
   "id": "4916787d-903c-407b-8ab7-328505a115c9",
   "metadata": {},
   "outputs": [
    {
     "name": "stdin",
     "output_type": "stream",
     "text": [
      "Enter elements separated by spaces to create a set:  41,52,63,74,85,96\n"
     ]
    },
    {
     "name": "stdout",
     "output_type": "stream",
     "text": [
      "Set entered by the user: {96, 41, 74, 52, 85, 63}\n"
     ]
    },
    {
     "name": "stdin",
     "output_type": "stream",
     "text": [
      "enter the element you want to check : 85\n"
     ]
    },
    {
     "name": "stdout",
     "output_type": "stream",
     "text": [
      "element is present in the set : True\n"
     ]
    }
   ],
   "source": [
    "# Take set input from the user\n",
    "input_str = input(\"Enter elements separated by spaces to create a set: \")\n",
    "\n",
    "# Convert the input string to a set\n",
    "user_set = set(map(int,input_str.split(',')))\n",
    "\n",
    "# Display the set entered by the user\n",
    "print(\"Set entered by the user:\", user_set)\n",
    "\n",
    "element=int(input(\"enter the element you want to check :\"))\n",
    "result =True  if element in user_set else False\n",
    "\n",
    "print(\"element is present in the set :\",result)\n"
   ]
  },
  {
   "cell_type": "markdown",
   "id": "0d7414bc-2f79-4268-ade5-d5cdcbaf4129",
   "metadata": {},
   "source": [
    "#5. Find the length of a set without using the `len()` function."
   ]
  },
  {
   "cell_type": "code",
   "execution_count": 55,
   "id": "88537179-b373-4fdb-95d2-2fc01f91a291",
   "metadata": {},
   "outputs": [
    {
     "name": "stdin",
     "output_type": "stream",
     "text": [
      "Enter elements separated by spaces to create a set:  41,52,63,74,85,96\n"
     ]
    },
    {
     "name": "stdout",
     "output_type": "stream",
     "text": [
      "Set entered by the user: {96, 41, 74, 52, 85, 63}\n",
      "length of the set is : 6\n"
     ]
    }
   ],
   "source": [
    "# Take set input from the user\n",
    "input_str = input(\"Enter elements separated by spaces to create a set: \")\n",
    "\n",
    "# Convert the input string to a set\n",
    "user_set = set(map(int,input_str.split(',')))\n",
    "\n",
    "# Display the set entered by the user\n",
    "print(\"Set entered by the user:\", user_set)\n",
    "\n",
    "count = 0\n",
    "\n",
    "for element in user_set:\n",
    "    count =count+1\n",
    "print(\"length of the set is :\",count)"
   ]
  },
  {
   "cell_type": "markdown",
   "id": "383d4978-a2f4-43cd-bb2e-b4df367d8caf",
   "metadata": {},
   "source": [
    "#6. Clear all elements from a set."
   ]
  },
  {
   "cell_type": "code",
   "execution_count": 56,
   "id": "95b128a3-4e35-4682-bed9-88331c4eb607",
   "metadata": {},
   "outputs": [
    {
     "name": "stdout",
     "output_type": "stream",
     "text": [
      "our set is : {96, 52, 85, 41, 74, 63}\n",
      "after clearing : set()\n"
     ]
    }
   ],
   "source": [
    "# initialize the set\n",
    "set1={96, 41, 74, 52, 85, 63}\n",
    "print(\"our set is :\",set1)\n",
    "# clear the set by clear method\n",
    "set1.clear()\n",
    "print(\"after clearing :\",set1)"
   ]
  },
  {
   "cell_type": "markdown",
   "id": "4482ec96-14fa-440d-877e-bf5c9d0664a3",
   "metadata": {},
   "source": [
    "#7. Create a set of even numbers from 1 to 10."
   ]
  },
  {
   "cell_type": "code",
   "execution_count": 59,
   "id": "487bac39-6a6d-46a7-8fed-a09a929d7192",
   "metadata": {},
   "outputs": [
    {
     "data": {
      "text/plain": [
       "{2, 4, 6, 8, 10}"
      ]
     },
     "execution_count": 59,
     "metadata": {},
     "output_type": "execute_result"
    }
   ],
   "source": [
    "set([i for i in range(1,11) if i%2==0])\n",
    "\n"
   ]
  },
  {
   "cell_type": "markdown",
   "id": "d42f0ffa-c66c-4580-a35c-b1e1a65ed856",
   "metadata": {},
   "source": [
    "#8. Create a set of odd numbers from 1 to 10."
   ]
  },
  {
   "cell_type": "code",
   "execution_count": 60,
   "id": "159458dd-6168-4509-85bd-1287da461a98",
   "metadata": {},
   "outputs": [
    {
     "data": {
      "text/plain": [
       "{1, 3, 5, 7, 9}"
      ]
     },
     "execution_count": 60,
     "metadata": {},
     "output_type": "execute_result"
    }
   ],
   "source": [
    "set([i for i in range(1,11) if i%2!=0])"
   ]
  },
  {
   "cell_type": "markdown",
   "id": "6d67d48e-a887-4190-a688-711d7a9b07bf",
   "metadata": {},
   "source": [
    "#9. Find the union of two sets."
   ]
  },
  {
   "cell_type": "code",
   "execution_count": 63,
   "id": "567c98ef-1562-4813-a51e-8c9cfd6ddb64",
   "metadata": {},
   "outputs": [
    {
     "name": "stdout",
     "output_type": "stream",
     "text": [
      "after union : {1, 2, 3, 4, 5, 6, 7, 8, 9, 10}\n"
     ]
    }
   ],
   "source": [
    "# initialize two sets\n",
    "set1 ={2, 4, 6, 8, 10}\n",
    "set2 ={1, 3, 5, 7, 9}\n",
    "\n",
    "# using the union method\n",
    "union_set = set1.union(set2)\n",
    "print(\"after union :\",union_set)"
   ]
  },
  {
   "cell_type": "markdown",
   "id": "f91f2a67-3ec1-487a-bb31-46576ce30e5f",
   "metadata": {},
   "source": [
    "#10. Find the intersection of two sets."
   ]
  },
  {
   "cell_type": "code",
   "execution_count": 67,
   "id": "f2337620-398b-45c7-a8fb-5bddd5b64254",
   "metadata": {},
   "outputs": [
    {
     "name": "stdout",
     "output_type": "stream",
     "text": [
      "after intersection : {2, 4, 6}\n"
     ]
    }
   ],
   "source": [
    "# initialize two sets\n",
    "set1 ={2, 4, 6, 8, 10}\n",
    "set2 ={2,4,6, 7, 9}\n",
    "\n",
    "# using intersection method\n",
    "inter_set = set1.intersection(set2)\n",
    "print(\"after intersection :\",inter_set)"
   ]
  },
  {
   "cell_type": "markdown",
   "id": "218ab39d-7aad-4e57-9785-7720169bd041",
   "metadata": {},
   "source": [
    "#11. Find the difference between two sets."
   ]
  },
  {
   "cell_type": "code",
   "execution_count": 76,
   "id": "ddfe9047-622b-4f14-9589-47e192a70dc4",
   "metadata": {},
   "outputs": [
    {
     "name": "stdout",
     "output_type": "stream",
     "text": [
      "difference in sets : {82, 10, 61}\n"
     ]
    }
   ],
   "source": [
    "# initialize two sets\n",
    "set1 ={2, 43, 61, 82, 10}\n",
    "set2 ={2,43,7,2,8}\n",
    "\n",
    "# using difference method\n",
    "diff_set = set1 - set2\n",
    "print(\"difference in sets :\",diff_set)"
   ]
  },
  {
   "cell_type": "markdown",
   "id": "181c1493-acd8-4025-bee1-ce307fbfffa3",
   "metadata": {},
   "source": [
    "#12. Check if a set is a subset of another set."
   ]
  },
  {
   "cell_type": "code",
   "execution_count": 79,
   "id": "16172096-94ca-4293-a704-2bd67a7c4de8",
   "metadata": {},
   "outputs": [
    {
     "name": "stdout",
     "output_type": "stream",
     "text": [
      "set1 is : {2, 82, 10, 43, 61}\n",
      "set2 is : {2, 43}\n",
      "is set 2 i sa subset of set 1 : True\n"
     ]
    }
   ],
   "source": [
    "# initialize two sets\n",
    "set1 ={2, 43, 61, 82, 10}\n",
    "set2 ={2,43}\n",
    "\n",
    "\n",
    "# Check if set2 is a subset of set1\n",
    "is_subset = set2.issubset(set1)\n",
    "\n",
    "# display the result\n",
    "print(\"set1 is :\",set1)\n",
    "print(\"set2 is :\",set2)\n",
    "print(\"is set 2 i sa subset of set 1 :\",is_subset)"
   ]
  },
  {
   "cell_type": "markdown",
   "id": "1803374e-6465-40e0-babd-1c0d5b524d8e",
   "metadata": {},
   "source": [
    "#13. Check if a set is a superset of another set."
   ]
  },
  {
   "cell_type": "code",
   "execution_count": 81,
   "id": "d0cac0ae-1d6e-4fb6-b979-cbf5cb9877c1",
   "metadata": {},
   "outputs": [
    {
     "name": "stdout",
     "output_type": "stream",
     "text": [
      "set1 is : {2, 82, 10, 43, 61}\n",
      "set2 is : {2, 43}\n",
      "is set 1 is a super set of set 1 : True\n"
     ]
    }
   ],
   "source": [
    "# initialize two sets\n",
    "set1 ={2, 43, 61, 82, 10}\n",
    "set2 ={2,43}\n",
    "\n",
    "\n",
    "# Check if set2 is a subset of set1\n",
    "is_super = set1.issuperset(set2)\n",
    "\n",
    "# display the result\n",
    "print(\"set1 is :\",set1)\n",
    "print(\"set2 is :\",set2)\n",
    "print(\"is set 1 is a super set of set 1 :\",is_super)"
   ]
  },
  {
   "cell_type": "markdown",
   "id": "12c75273-2856-4aa3-b778-990d0cfd641d",
   "metadata": {},
   "source": [
    "#14. Create a set from a list."
   ]
  },
  {
   "cell_type": "code",
   "execution_count": 83,
   "id": "df5f6efa-59c9-4568-98f4-fab15f90b36d",
   "metadata": {},
   "outputs": [
    {
     "name": "stdout",
     "output_type": "stream",
     "text": [
      "our list is : [41, 52, 63, 74, 85, 96]\n",
      "after converting into set : {96, 41, 74, 52, 85, 63}\n"
     ]
    }
   ],
   "source": [
    "list_1=[41,52,63,74,85,96]\n",
    "\n",
    "# convert the list into set\n",
    "my_set=set(list_1)\n",
    "\n",
    "# display the result\n",
    "print(\"our list is :\",list_1)\n",
    "print(\"after converting into set :\",my_set)"
   ]
  },
  {
   "cell_type": "markdown",
   "id": "3fa9cf77-fc79-4db5-b756-6a5cbfbfbd3e",
   "metadata": {},
   "source": [
    "#15. Convert a set to a list."
   ]
  },
  {
   "cell_type": "code",
   "execution_count": 84,
   "id": "6f59b855-0662-4c1c-9f7c-cb50ccca6df2",
   "metadata": {},
   "outputs": [
    {
     "name": "stdout",
     "output_type": "stream",
     "text": [
      "our set is : {96, 52, 85, 41, 74, 63}\n",
      "after converting into list : [96, 52, 85, 41, 74, 63]\n"
     ]
    }
   ],
   "source": [
    "# example usage\n",
    "set_1={96, 41, 74, 52, 85, 63}\n",
    "\n",
    "# converting set into list\n",
    "list1=list(set_1)\n",
    "\n",
    "# display the result\n",
    "print(\"our set is :\",set_1)\n",
    "print(\"after converting into list :\",list1)\n"
   ]
  },
  {
   "cell_type": "markdown",
   "id": "58f271e1-b693-4afd-8891-10e78ebe4141",
   "metadata": {},
   "source": [
    "#16. Remove a random element from a set."
   ]
  },
  {
   "cell_type": "code",
   "execution_count": 107,
   "id": "fc26b3c6-bb60-4e1f-917b-207d1a57f4ed",
   "metadata": {},
   "outputs": [
    {
     "name": "stdout",
     "output_type": "stream",
     "text": [
      "Original Set: {96, 52, 85, 41, 74, 63}\n",
      "Removed Element: 96\n"
     ]
    }
   ],
   "source": [
    "import random\n",
    "\n",
    "# example usage\n",
    "set_1={96, 41, 74, 52, 85, 63}\n",
    "list_1=list(set_1)\n",
    "# Remove a random element using pop()\n",
    "removed_element = random.choice(list_1)\n",
    "\n",
    "# Display the results\n",
    "print(\"Original Set:\", set_1)\n",
    "print(\"Removed Element:\", removed_element)"
   ]
  },
  {
   "cell_type": "markdown",
   "id": "6a68bb80-1616-4a93-8383-89e2fe7d22ea",
   "metadata": {},
   "source": [
    "#17. Pop an element from a set."
   ]
  },
  {
   "cell_type": "code",
   "execution_count": 110,
   "id": "ea27f984-249b-4237-abc9-c0c3914c8ce2",
   "metadata": {},
   "outputs": [
    {
     "name": "stdout",
     "output_type": "stream",
     "text": [
      "Original Set: {2, 3, 4, 5}\n",
      "Popped Element: 1\n"
     ]
    }
   ],
   "source": [
    "# Example set\n",
    "my_set = {1, 2, 3, 4, 5}\n",
    "\n",
    "# Pop an element using pop()\n",
    "popped_element = my_set.pop()\n",
    "\n",
    "# Display the results\n",
    "print(\"Original Set:\", my_set)\n",
    "print(\"Popped Element:\", popped_element)\n"
   ]
  },
  {
   "cell_type": "markdown",
   "id": "4b1875dd-7a53-411b-8016-9927bfb1bf8e",
   "metadata": {},
   "source": [
    "#18. Check if two sets have no elements in common."
   ]
  },
  {
   "cell_type": "code",
   "execution_count": 1,
   "id": "ba54d543-0e7a-493e-b67f-155c41a71867",
   "metadata": {},
   "outputs": [
    {
     "name": "stdout",
     "output_type": "stream",
     "text": [
      "Set 1: {1, 2, 3, 4, 5}\n",
      "Set 2: {6, 7, 8, 9, 10}\n",
      "Are the sets disjoint? True\n"
     ]
    }
   ],
   "source": [
    "# Example sets\n",
    "set1 = {1, 2, 3, 4, 5}\n",
    "set2 = {6, 7, 8, 9, 10}\n",
    "\n",
    "# Check if the sets are disjoint\n",
    "are_disjoint = set1.isdisjoint(set2)\n",
    "\n",
    "# Display the results\n",
    "print(\"Set 1:\", set1)\n",
    "print(\"Set 2:\", set2)\n",
    "print(\"Are the sets disjoint?\", are_disjoint)"
   ]
  },
  {
   "cell_type": "markdown",
   "id": "7210cbb3-f562-4d81-a1a3-6994acdecce1",
   "metadata": {},
   "source": [
    "#19. Find the symmetric difference between two sets."
   ]
  },
  {
   "cell_type": "code",
   "execution_count": 4,
   "id": "9e63d3d2-dc59-419a-a79c-59969d09e2eb",
   "metadata": {},
   "outputs": [
    {
     "name": "stdout",
     "output_type": "stream",
     "text": [
      "Set 1: {1, 2, 3, 4, 5}\n",
      "Set 2: {4, 5, 6, 7, 8}\n",
      "Symmetric Difference using ^ operator: {1, 2, 3, 6, 7, 8}\n"
     ]
    }
   ],
   "source": [
    "# Example sets\n",
    "set1 = {1, 2, 3, 4, 5}\n",
    "set2 = {4, 5, 6, 7, 8}\n",
    "\n",
    "\n",
    "# Using the ^ operator\n",
    "symmetric_difference_operator = set1 ^ set2\n",
    "\n",
    "# Display the results\n",
    "print(\"Set 1:\", set1)\n",
    "print(\"Set 2:\", set2)\n",
    "print(\"Symmetric Difference using ^ operator:\", symmetric_difference_operator)\n"
   ]
  },
  {
   "cell_type": "markdown",
   "id": "56f46931-8eec-41a1-8cff-13a8bc320102",
   "metadata": {},
   "source": [
    "#20. Update a set with elements from another set."
   ]
  },
  {
   "cell_type": "code",
   "execution_count": 5,
   "id": "b819cbaa-fe18-4b78-93f5-1662d1780b33",
   "metadata": {},
   "outputs": [
    {
     "name": "stdout",
     "output_type": "stream",
     "text": [
      "New Set: {1, 2, 3, 4, 5, 6, 7, 8}\n"
     ]
    }
   ],
   "source": [
    "# Example sets\n",
    "set1 = {1, 2, 3, 4, 5}\n",
    "set2 = {4, 5, 6, 7, 8}\n",
    "\n",
    "# Create a new set with elements from set1 and set2\n",
    "new_set = set1.union(set2)  # or new_set = set1 | set2\n",
    "\n",
    "# Display the new set\n",
    "print(\"New Set:\", new_set)\n"
   ]
  },
  {
   "cell_type": "markdown",
   "id": "05cb7094-e7c5-42f0-baf3-e337effad791",
   "metadata": {},
   "source": [
    "#21. Create a set of the first 5 prime numbers."
   ]
  },
  {
   "cell_type": "code",
   "execution_count": 22,
   "id": "38cbce65-5b80-4234-9371-21a81fff3f62",
   "metadata": {},
   "outputs": [
    {
     "name": "stdout",
     "output_type": "stream",
     "text": [
      "Set of the first 5 prime numbers: {2, 3, 5, 7, 11}\n"
     ]
    }
   ],
   "source": [
    "# Function to check if a number is prime\n",
    "def is_prime(num):\n",
    "    if num < 2:\n",
    "        return False\n",
    "    for i in range(2, int(num//2) + 1):\n",
    "        if num % i == 0:\n",
    "            return False\n",
    "    return True\n",
    "\n",
    "# Create a set of the first 5 prime numbers entered by the user\n",
    "prime_set = set()\n",
    "count = 0\n",
    "num = 2\n",
    "\n",
    "while count < 5:\n",
    "    if is_prime(num):\n",
    "        prime_set.add(num)\n",
    "        count += 1\n",
    "    num += 1\n",
    "\n",
    "# Display the set\n",
    "print(\"Set of the first 5 prime numbers:\", prime_set)\n"
   ]
  },
  {
   "cell_type": "markdown",
   "id": "7905799d-8a13-4cda-8120-cab5337fdc4c",
   "metadata": {},
   "source": [
    "#22. Check if two sets are identical."
   ]
  },
  {
   "cell_type": "code",
   "execution_count": 28,
   "id": "180e859f-ffe9-4291-bac0-9dd8e9655297",
   "metadata": {},
   "outputs": [
    {
     "name": "stdout",
     "output_type": "stream",
     "text": [
      "These two sets are identical : False\n"
     ]
    }
   ],
   "source": [
    "# Example sets\n",
    "set1 = {1, 2, 3, 4, 5}\n",
    "set2 = {4, 5, 6, 7, 8}\n",
    "\n",
    "result=set1==set2\n",
    "print(\"These two sets are identical :\",result)"
   ]
  },
  {
   "cell_type": "markdown",
   "id": "dd39a92e-904a-4e60-85db-7a58634acadd",
   "metadata": {},
   "source": [
    "#23. Create a frozen set."
   ]
  },
  {
   "cell_type": "code",
   "execution_count": 29,
   "id": "a023a097-a7ef-413c-a5ef-f75859004ba9",
   "metadata": {},
   "outputs": [
    {
     "name": "stdout",
     "output_type": "stream",
     "text": [
      "Regular Set: {1, 2, 3, 4, 5}\n",
      "Frozen Set: frozenset({1, 2, 3, 4, 5})\n"
     ]
    }
   ],
   "source": [
    "# Create a regular set\n",
    "my_set = {1, 2, 3, 4, 5}\n",
    "\n",
    "# Create a frozen set\n",
    "frozen_set = frozenset(my_set)\n",
    "\n",
    "# Display the sets\n",
    "print(\"Regular Set:\", my_set)\n",
    "print(\"Frozen Set:\", frozen_set)\n"
   ]
  },
  {
   "cell_type": "markdown",
   "id": "5f708a91-8129-4b2b-8b52-5b466092298d",
   "metadata": {},
   "source": [
    "#24. Check if a set is disjoint with another set."
   ]
  },
  {
   "cell_type": "code",
   "execution_count": 36,
   "id": "9befde9e-68f9-4b64-a0eb-c96acdfb965e",
   "metadata": {},
   "outputs": [
    {
     "name": "stdout",
     "output_type": "stream",
     "text": [
      "True\n"
     ]
    }
   ],
   "source": [
    "# Example sets\n",
    "set1 = {1, 2, 3, 4, 5}\n",
    "set2 = {6,7,8,9,10}\n",
    "\n",
    "# check if these two sets are disjoint\n",
    "result = set1.isdisjoint(set2)\n",
    "print(result)"
   ]
  },
  {
   "cell_type": "markdown",
   "id": "b70c4244-8b8e-4b31-a9ae-3b17ee23392f",
   "metadata": {},
   "source": [
    "#25. Create a set of squares of numbers from 1 to 5."
   ]
  },
  {
   "cell_type": "code",
   "execution_count": 37,
   "id": "16416856-7b41-42c8-a83a-cd6fc60ac51e",
   "metadata": {},
   "outputs": [
    {
     "data": {
      "text/plain": [
       "{1, 4, 9, 16, 25}"
      ]
     },
     "execution_count": 37,
     "metadata": {},
     "output_type": "execute_result"
    }
   ],
   "source": [
    "set([i*i for i in range(1,6)])"
   ]
  },
  {
   "cell_type": "markdown",
   "id": "f63d1d8f-cdd4-40ea-9b02-0f7b9795042a",
   "metadata": {},
   "source": [
    "#26. Filter out all even numbers from a set."
   ]
  },
  {
   "cell_type": "code",
   "execution_count": 39,
   "id": "e1034950-baeb-4316-826f-9c5ff75e8c2e",
   "metadata": {},
   "outputs": [
    {
     "name": "stdout",
     "output_type": "stream",
     "text": [
      "my set is : {65, 3, 5, 6, 8, 12, 47, 48, 52, 94, 31}\n",
      "even numbers in this set are : {6, 8, 12, 48, 52, 94}\n"
     ]
    }
   ],
   "source": [
    "my_set={12,47,5,6,3,5,8,52,65,48,31,94}\n",
    "\n",
    "even_number=set([i for i in my_set if i%2==0])\n",
    "print(\"my set is :\",my_set)\n",
    "print(\"even numbers in this set are :\",even_number)"
   ]
  },
  {
   "cell_type": "markdown",
   "id": "ece83b27-9727-4dbe-8fc9-76af52c588f0",
   "metadata": {},
   "source": [
    "#27. Multiply all elements in a set by 2."
   ]
  },
  {
   "cell_type": "code",
   "execution_count": 40,
   "id": "0baa6cce-133b-4f4e-b0af-92fc7ff2bad3",
   "metadata": {},
   "outputs": [
    {
     "name": "stdout",
     "output_type": "stream",
     "text": [
      "my set is : {3, 52, 5, 6, 8, 12, 47}\n",
      "after multiplying each element by 2 : {6, 104, 10, 12, 16, 24, 94}\n"
     ]
    }
   ],
   "source": [
    "my_set={12,47,5,6,3,5,8,52}\n",
    "\n",
    "multiply_number=set([i*2 for i in my_set])\n",
    "print(\"my set is :\",my_set)\n",
    "print(\"after multiplying each element by 2 :\",multiply_number)"
   ]
  },
  {
   "cell_type": "markdown",
   "id": "463e5469-3fe9-4ebd-8c42-365e05e86421",
   "metadata": {},
   "source": [
    "#28. Create a set of random numbers."
   ]
  },
  {
   "cell_type": "code",
   "execution_count": 1,
   "id": "c2701eb9-a1cb-4865-bcb8-168bbdb036bf",
   "metadata": {},
   "outputs": [
    {
     "name": "stdout",
     "output_type": "stream",
     "text": [
      "Set of random numbers: {3, 5, 7, 8, 10}\n"
     ]
    }
   ],
   "source": [
    "import random\n",
    "\n",
    "# Generate a set of 5 random numbers between 1 and 10\n",
    "random_set = set(random.sample(range(1, 11), 5))\n",
    "\n",
    "# Display the set of random numbers\n",
    "print(\"Set of random numbers:\", random_set)\n"
   ]
  },
  {
   "cell_type": "markdown",
   "id": "7f2ecd7d-2697-49f6-b26e-7c8f76c400bb",
   "metadata": {},
   "source": [
    "#29. Check if a set is empty."
   ]
  },
  {
   "cell_type": "code",
   "execution_count": 7,
   "id": "878c9353-84e9-4aed-9dfd-a3faea8c8cc6",
   "metadata": {},
   "outputs": [
    {
     "name": "stdout",
     "output_type": "stream",
     "text": [
      "set is empty : False\n"
     ]
    }
   ],
   "source": [
    "# initialize the set\n",
    "set1={10,51,42,51,85,74}\n",
    "\n",
    "# check if a set is empty\n",
    "check_set=True if len(set1)==0 else False\n",
    "\n",
    "print(\"set is empty :\",check_set)"
   ]
  },
  {
   "cell_type": "markdown",
   "id": "36616c84-9788-4f45-91ec-6dfed1b7235b",
   "metadata": {},
   "source": [
    "#30. Create a nested set (hint: use frozenset)."
   ]
  },
  {
   "cell_type": "code",
   "execution_count": 9,
   "id": "19762b07-e4db-4021-b318-08ecc2ad194f",
   "metadata": {},
   "outputs": [
    {
     "name": "stdout",
     "output_type": "stream",
     "text": [
      "Nested Set: {frozenset({1, 2, 3}), frozenset({4, 5, 6}), frozenset({8, 9, 7})}\n"
     ]
    }
   ],
   "source": [
    "# Create frozensets\n",
    "nested_set1 = frozenset({1, 2, 3})\n",
    "nested_set2 = frozenset({4, 5, 6})\n",
    "nested_set3 = frozenset({7, 8, 9})\n",
    "\n",
    "# Create a set containing frozensets\n",
    "nested_set = {nested_set1, nested_set2, nested_set3}\n",
    "\n",
    "# Display the nested set\n",
    "print(\"Nested Set:\", nested_set)\n"
   ]
  },
  {
   "cell_type": "markdown",
   "id": "0528508f-85f6-4d6c-b3a0-c0d0ecda9928",
   "metadata": {},
   "source": [
    "#31. Remove an element from a set using the discard method."
   ]
  },
  {
   "cell_type": "code",
   "execution_count": 12,
   "id": "4571b441-6953-4227-bc9c-2993cf53f708",
   "metadata": {},
   "outputs": [
    {
     "name": "stdin",
     "output_type": "stream",
     "text": [
      "enter the elements of set separated by commas : 41,52,63,74,85,96\n"
     ]
    },
    {
     "name": "stdout",
     "output_type": "stream",
     "text": [
      "our set is : {96, 41, 74, 52, 85, 63}\n"
     ]
    },
    {
     "name": "stdin",
     "output_type": "stream",
     "text": [
      "enter the element which you want to remove 74\n"
     ]
    },
    {
     "name": "stdout",
     "output_type": "stream",
     "text": [
      "after removing the element : {96, 41, 52, 85, 63}\n"
     ]
    }
   ],
   "source": [
    "# take the string input from the user\n",
    "input_str=input(\"enter the elements of set separated by commas :\")\n",
    "\n",
    "# convert the input string into set\n",
    "user_set=set(map(int,input_str.split(',')))\n",
    "\n",
    "print(\"our set is :\",user_set)\n",
    "\n",
    "n=int(input(\"enter the element which you want to remove\"))\n",
    "if n in user_set:\n",
    "    user_set.discard(n)\n",
    "else:\n",
    "    print(\"element is not present in the set\")\n",
    "    \n",
    "print(\"after removing the element :\",user_set)\n"
   ]
  },
  {
   "cell_type": "markdown",
   "id": "318658dc-a128-4074-9b3d-c9f2954f7e38",
   "metadata": {},
   "source": [
    "#32. Compare two sets."
   ]
  },
  {
   "cell_type": "code",
   "execution_count": 15,
   "id": "b02c6beb-9cf4-4dae-98d9-355c8f6b0c02",
   "metadata": {},
   "outputs": [
    {
     "name": "stdout",
     "output_type": "stream",
     "text": [
      "both sets are same : False\n",
      "Is Set 1 a subset of Set 2: False\n",
      "Is Set 2 a superset of Set 1: False\n"
     ]
    }
   ],
   "source": [
    "# example set\n",
    "set1={84,42,61,75,32}\n",
    "set2={74,85,96,51,42,63}\n",
    "\n",
    "# check if both sets are equal\n",
    "result=set1==set2\n",
    "\n",
    "# Check if set1 is a subset of set2\n",
    "is_subset = set1.issubset(set2)\n",
    "\n",
    "# Check if set2 is a subset of set1\n",
    "is_superset = set1.issuperset(set2)\n",
    "\n",
    "\n",
    "print(\"both sets are same :\",result)\n",
    "print(\"Is Set 1 a subset of Set 2:\", is_subset)\n",
    "print(\"Is Set 2 a superset of Set 1:\", is_superset)"
   ]
  },
  {
   "cell_type": "markdown",
   "id": "909b21e8-a934-473f-9b08-e09556aca466",
   "metadata": {},
   "source": [
    "#33. Create a set from a string."
   ]
  },
  {
   "cell_type": "code",
   "execution_count": 16,
   "id": "fe0ba3b0-3d09-46b1-b5c3-14c36b538c66",
   "metadata": {},
   "outputs": [
    {
     "name": "stdin",
     "output_type": "stream",
     "text": [
      "enter the set elements separated by commas: sudh,sakshi,rahul\n"
     ]
    },
    {
     "name": "stdout",
     "output_type": "stream",
     "text": [
      "our set is : {'sakshi', 'sudh', 'rahul'}\n"
     ]
    }
   ],
   "source": [
    "# take the string input from the user\n",
    "input_str=input(\"enter the set elements separated by commas:\")\n",
    "\n",
    "# convert the string elements into set\n",
    "user_set=set(input_str.split(','))\n",
    "\n",
    "print(\"our set is :\",user_set)"
   ]
  },
  {
   "cell_type": "markdown",
   "id": "a73072eb-13a6-4065-bd80-e9435ec46a8b",
   "metadata": {},
   "source": [
    "#34. Convert a set of strings to a set of integers."
   ]
  },
  {
   "cell_type": "code",
   "execution_count": 21,
   "id": "1b9a56b8-f65e-494d-9f65-7d0a09eb4670",
   "metadata": {},
   "outputs": [
    {
     "name": "stdin",
     "output_type": "stream",
     "text": [
      "enter the set elements separated by commas: 41,52,63,74,85,96\n"
     ]
    },
    {
     "name": "stdout",
     "output_type": "stream",
     "text": [
      "string set is : {'96', '63', '85', '74', '52', '41'}\n",
      "our set is : {96, 41, 74, 52, 85, 63}\n"
     ]
    }
   ],
   "source": [
    "# take the string input from the user\n",
    "input_str=input(\"enter the set elements separated by commas:\")\n",
    "\n",
    "# convert the string elements into set\n",
    "str_set=set(input_str.split(','))\n",
    "# Convert a set of strings to a set of integers.\n",
    "user_set=set(map(int,input_str.split(',')))\n",
    "\n",
    "print(\"string set is :\",str_set)\n",
    "print(\"our set is :\",user_set)"
   ]
  },
  {
   "cell_type": "code",
   "execution_count": null,
   "id": "092a01bb-bdfc-4a07-a197-ed4bae65bac0",
   "metadata": {},
   "outputs": [],
   "source": [
    "# 35. Convert a set of integers to a set of strings."
   ]
  },
  {
   "cell_type": "code",
   "execution_count": 22,
   "id": "92d97088-d36a-4a04-8cd7-a2b60cb4fcb4",
   "metadata": {},
   "outputs": [
    {
     "name": "stdin",
     "output_type": "stream",
     "text": [
      "enter the set elements separated by commas: 41,52,63,94,75,32\n"
     ]
    },
    {
     "name": "stdout",
     "output_type": "stream",
     "text": [
      "our set is : {32, 41, 75, 52, 94, 63}\n",
      "string set is : {'63', '32', '75', '52', '41', '94'}\n"
     ]
    }
   ],
   "source": [
    "# take the string input from the user\n",
    "input_str=input(\"enter the set elements separated by commas:\")\n",
    "\n",
    "\n",
    "# Convert a set of strings to a set of integers.\n",
    "user_set=set(map(int,input_str.split(',')))\n",
    "# convert the string elements into set\n",
    "str_set=set(input_str.split(','))\n",
    "\n",
    "\n",
    "print(\"our set is :\",user_set)\n",
    "print(\"string set is :\",str_set)\n"
   ]
  },
  {
   "cell_type": "markdown",
   "id": "efebecd9-f467-4ef4-a969-1fe679058eb3",
   "metadata": {},
   "source": [
    "#36. Create a set from a tuple."
   ]
  },
  {
   "cell_type": "code",
   "execution_count": 3,
   "id": "026dc964-be77-4c21-8fa9-25c556b1fd7c",
   "metadata": {},
   "outputs": [
    {
     "name": "stdin",
     "output_type": "stream",
     "text": [
      "enter the elements of tuple from the user : 41,52,63,74,85,96\n"
     ]
    },
    {
     "name": "stdout",
     "output_type": "stream",
     "text": [
      "our tuple is : ('41', '52', '63', '74', '85', '96')\n",
      "after converting tuple into set : {'85', '63', '74', '96', '41', '52'}\n"
     ]
    }
   ],
   "source": [
    "# take tuple input from the user\n",
    "input_str=input(\"enter the elements of tuple from the user :\")\n",
    "\n",
    "# convert the elements into tuple\n",
    "tuple1=tuple(input_str.split(','))\n",
    "\n",
    "# conver this tuple into set\n",
    "set1=set(tuple1)\n",
    "\n",
    "# display the result\n",
    "print(\"our tuple is :\",tuple1)\n",
    "print(\"after converting tuple into set :\",set1)"
   ]
  },
  {
   "cell_type": "markdown",
   "id": "471305b2-a16a-4d26-b6a4-43f86349a642",
   "metadata": {},
   "source": [
    "#37. Convert a set to a tuple."
   ]
  },
  {
   "cell_type": "code",
   "execution_count": 4,
   "id": "209049eb-cb17-4e21-ae97-3216998adb55",
   "metadata": {},
   "outputs": [
    {
     "name": "stdin",
     "output_type": "stream",
     "text": [
      "enter the elements of tuple from the user : 41,85,96,32,45,74\n"
     ]
    },
    {
     "name": "stdout",
     "output_type": "stream",
     "text": [
      "our set is : {96, 32, 41, 74, 45, 85}\n",
      "after converting set into tuple : (96, 32, 41, 74, 45, 85)\n"
     ]
    }
   ],
   "source": [
    "# take tuple input from the user\n",
    "input_str=input(\"enter the elements of tuple from the user :\")\n",
    "\n",
    "# convert the elements into tuple\n",
    "set1=set(map(int,input_str.split(',')))\n",
    "\n",
    "# conver this tuple into set\n",
    "tuple1=tuple(set1)\n",
    "\n",
    "\n",
    "print(\"our set is :\",set1)\n",
    "# display the result\n",
    "print(\"after converting set into tuple :\",tuple1)"
   ]
  },
  {
   "cell_type": "markdown",
   "id": "2324c7d2-01f8-407b-a374-604e808ccd89",
   "metadata": {},
   "source": [
    "#38. Find the maximum value in a set."
   ]
  },
  {
   "cell_type": "code",
   "execution_count": 6,
   "id": "e9ef535f-ed02-4524-b9a7-f136f6c88b87",
   "metadata": {},
   "outputs": [
    {
     "name": "stdout",
     "output_type": "stream",
     "text": [
      "our set is : {36, 42, 85, 41, 74, 25, 95}\n",
      "largest element in the set is : 95\n"
     ]
    }
   ],
   "source": [
    "# example usage\n",
    "set1={41,74,85,25,36,95,42}\n",
    "\n",
    "# finding the max using max method\n",
    "result=max(set1)\n",
    "\n",
    "# display the result\n",
    "print(\"our set is :\",set1)\n",
    "print(\"largest element in the set is :\",result)"
   ]
  },
  {
   "cell_type": "markdown",
   "id": "7d1288a3-6462-4c07-9d2f-3ca93c5042e6",
   "metadata": {},
   "source": [
    "#39. Find the minimum value in a set."
   ]
  },
  {
   "cell_type": "code",
   "execution_count": 7,
   "id": "b2fb3bad-10cc-4a7d-8fce-cbc7e934fcb7",
   "metadata": {},
   "outputs": [
    {
     "name": "stdout",
     "output_type": "stream",
     "text": [
      "our set is : {36, 42, 85, 41, 74, 25, 95}\n",
      "shortest element in the set is : 25\n"
     ]
    }
   ],
   "source": [
    "# example usage\n",
    "set1={41,74,85,25,36,95,42}\n",
    "\n",
    "# finding the max using max method\n",
    "result=min(set1)\n",
    "\n",
    "# display the result\n",
    "print(\"our set is :\",set1)\n",
    "print(\"shortest element in the set is :\",result)"
   ]
  },
  {
   "cell_type": "markdown",
   "id": "76ad456a-b59f-4b1d-b692-218dd0747c9c",
   "metadata": {},
   "source": [
    "#40. Create a set from user input."
   ]
  },
  {
   "cell_type": "code",
   "execution_count": 8,
   "id": "56c30bde-54d7-431d-be29-ea9069d38649",
   "metadata": {},
   "outputs": [
    {
     "name": "stdin",
     "output_type": "stream",
     "text": [
      "enter the elements of tuple from the user : 41,51,42,21,75,96\n"
     ]
    },
    {
     "name": "stdout",
     "output_type": "stream",
     "text": [
      "our set is : {96, 41, 42, 75, 51, 21}\n"
     ]
    }
   ],
   "source": [
    "# take tuple input from the user\n",
    "input_str=input(\"enter the elements of tuple from the user :\")\n",
    "\n",
    "# convert the elements into tuple\n",
    "set1=set(map(int,input_str.split(',')))\n",
    "\n",
    "# display the set\n",
    "print(\"our set is :\",set1)"
   ]
  },
  {
   "cell_type": "markdown",
   "id": "cee659b0-74ec-4e6a-ba85-fc395e1f38ed",
   "metadata": {},
   "source": [
    "#41. Check if the intersection of two sets is empty."
   ]
  },
  {
   "cell_type": "code",
   "execution_count": 10,
   "id": "73632a6d-0f31-4b5a-935b-7e28d89a18bb",
   "metadata": {},
   "outputs": [
    {
     "name": "stdout",
     "output_type": "stream",
     "text": [
      "Set 1: {57, 42, 84, 61}\n",
      "Set 2: {52, 85, 41, 74, 63}\n",
      "Is the intersection empty: True\n"
     ]
    }
   ],
   "source": [
    "# example usage\n",
    "set1={42,61,42,84,57}\n",
    "set2={63,52,41,74,85}\n",
    "\n",
    "# Check if the intersection is empty using isdisjoint()\n",
    "intersection_empty = set1.isdisjoint(set2)\n",
    "\n",
    "# Display the results\n",
    "print(\"Set 1:\", set1)\n",
    "print(\"Set 2:\", set2)\n",
    "print(\"Is the intersection empty:\", intersection_empty)"
   ]
  },
  {
   "cell_type": "markdown",
   "id": "4fc47ecd-5c36-4073-a0ed-734dd1bf370f",
   "metadata": {},
   "source": [
    "#42. Create a set of the first 5 Fibonacci numbers."
   ]
  },
  {
   "cell_type": "code",
   "execution_count": 17,
   "id": "d658c190-c92d-4c87-ba9c-bf5ab572feb3",
   "metadata": {},
   "outputs": [
    {
     "name": "stdout",
     "output_type": "stream",
     "text": [
      "Set of the first 5 Fibonacci numbers: {0, 1, 2, 3, 5}\n"
     ]
    }
   ],
   "source": [
    "# Function to generate Fibonacci numbers\n",
    "def generate_fibonacci(n):\n",
    "    fibonacci_set = {0,1}\n",
    "    a, b = 0, 1\n",
    "\n",
    "    for _ in range(n):\n",
    "        # fibonacci_set.add(a)\n",
    "        a, b = b, a + b\n",
    "        fibonacci_set.add(b)\n",
    "\n",
    "    return fibonacci_set\n",
    "\n",
    "# Create a set of the first 5 Fibonacci numbers\n",
    "fibonacci_set = generate_fibonacci(4)\n",
    "\n",
    "# Display the set\n",
    "print(\"Set of the first 5 Fibonacci numbers:\", fibonacci_set)\n"
   ]
  },
  {
   "cell_type": "markdown",
   "id": "33350093-ca3e-41c5-b779-a96373d6ac66",
   "metadata": {},
   "source": [
    "#43. Remove duplicates from a list using sets."
   ]
  },
  {
   "cell_type": "code",
   "execution_count": 18,
   "id": "143bed69-8724-4119-9dc5-37e7e3869668",
   "metadata": {},
   "outputs": [
    {
     "name": "stdout",
     "output_type": "stream",
     "text": [
      "our list is : [41, 51, 24, 51, 63, 84]\n",
      "our set is : {41, 51, 84, 24, 63}\n"
     ]
    }
   ],
   "source": [
    "# initialize the list and convert into set\n",
    "list1=[41,51,24,51,63,84]\n",
    "set1=set(list1)\n",
    "\n",
    "print(\"our list is :\",list1)\n",
    "print(\"our set is :\",set1)"
   ]
  },
  {
   "cell_type": "markdown",
   "id": "7f1ed6ab-eb5c-49b7-a850-7591cbe653d3",
   "metadata": {},
   "source": [
    "#44. Check if two sets have the same elements, regardless of their count."
   ]
  },
  {
   "cell_type": "code",
   "execution_count": 19,
   "id": "a0ae46d9-aaea-4181-a984-0edb7c51236a",
   "metadata": {},
   "outputs": [
    {
     "name": "stdout",
     "output_type": "stream",
     "text": [
      "set 1 is : {96, 52, 84, 41, 75, 63}\n",
      "set 2 is : {2, 53, 694, 86, 75, 14}\n",
      "both sets have the same element : False\n"
     ]
    }
   ],
   "source": [
    "# example usage\n",
    "set1={41,52,63,84,75,96}\n",
    "set2={14,2,53,694,75,86}\n",
    "\n",
    "result=set1 == set2\n",
    "\n",
    "# display the result\n",
    "print(\"set 1 is :\",set1)\n",
    "print(\"set 2 is :\",set2)\n",
    "print(\"both sets have the same element :\",result)"
   ]
  },
  {
   "cell_type": "markdown",
   "id": "a1df5d1e-83a7-42e0-9ece-af632e475d6f",
   "metadata": {},
   "source": [
    "#45. Create a set of the first `n` powers of 2."
   ]
  },
  {
   "cell_type": "code",
   "execution_count": 22,
   "id": "9eea5b27-4db5-4d56-adcc-e38639de39a8",
   "metadata": {},
   "outputs": [
    {
     "name": "stdin",
     "output_type": "stream",
     "text": [
      "enter the n value : 5\n"
     ]
    },
    {
     "data": {
      "text/plain": [
       "{1, 4, 9, 16, 25}"
      ]
     },
     "execution_count": 22,
     "metadata": {},
     "output_type": "execute_result"
    }
   ],
   "source": [
    "# taking n value from the user\n",
    "n=int(input(\"enter the n value :\"))\n",
    "set([i*i for i in range(1,n+1)])"
   ]
  },
  {
   "cell_type": "markdown",
   "id": "21b3caef-26ec-4cf8-9ad0-5be57d8bc979",
   "metadata": {},
   "source": [
    "#46. Find the common elements between a set and a list."
   ]
  },
  {
   "cell_type": "code",
   "execution_count": 26,
   "id": "9a76bf55-4046-42be-a429-44e465423e82",
   "metadata": {},
   "outputs": [
    {
     "name": "stdout",
     "output_type": "stream",
     "text": [
      "common elements in this list and set : [74, 96]\n"
     ]
    }
   ],
   "source": [
    "list1=[41,52,63,74,85,96]\n",
    "set1={74,96,12,54,36,75}\n",
    "\n",
    "common=[]\n",
    "for i in list1:\n",
    "    if i in set1:\n",
    "        common.append(i)\n",
    "        \n",
    "        \n",
    "print(\"common elements in this list and set :\",common)"
   ]
  },
  {
   "cell_type": "markdown",
   "id": "eb81336c-8159-41f3-96b7-4a02c3ea4bbd",
   "metadata": {},
   "source": [
    "#47. Create a set of the first `n` triangular numbers."
   ]
  },
  {
   "cell_type": "code",
   "execution_count": 27,
   "id": "6479f20a-7d0f-4fb6-9f0b-c61df665f53f",
   "metadata": {},
   "outputs": [
    {
     "name": "stdout",
     "output_type": "stream",
     "text": [
      "Set of the first 5 triangular numbers: {1, 3, 6, 10, 15}\n"
     ]
    }
   ],
   "source": [
    "def generate_triangular_numbers(n):\n",
    "    triangular_set = set()\n",
    "\n",
    "    for i in range(1, n + 1):\n",
    "        triangular_number = i * (i + 1) // 2\n",
    "        triangular_set.add(triangular_number)\n",
    "\n",
    "    return triangular_set\n",
    "\n",
    "# Example: Generate a set of the first 5 triangular numbers\n",
    "n_terms = 5\n",
    "triangular_set = generate_triangular_numbers(n_terms)\n",
    "\n",
    "print(f\"Set of the first {n_terms} triangular numbers:\", triangular_set)\n"
   ]
  },
  {
   "cell_type": "markdown",
   "id": "f4a859a0-9e57-48fe-b88c-a0306d2bbb6c",
   "metadata": {},
   "source": [
    "#48. Check if a set contains another set as a subset."
   ]
  },
  {
   "cell_type": "code",
   "execution_count": 29,
   "id": "0bbbb6ff-31f9-4ce0-a1a4-9e25e278a416",
   "metadata": {},
   "outputs": [
    {
     "name": "stdout",
     "output_type": "stream",
     "text": [
      "Set 1: {1, 2, 3, 4, 5, 6, 7, 8, 9}\n",
      "Subset: {2, 4, 6}\n",
      "Is subset a subset of set1: True\n"
     ]
    }
   ],
   "source": [
    "# Example sets\n",
    "set1 = {1, 2, 3, 4, 5, 6, 7, 8, 9}\n",
    "subset = {2, 4, 6}\n",
    "\n",
    "# Check if subset is a subset of set1\n",
    "is_subset = subset.issubset(set1)\n",
    "\n",
    "# Display the results\n",
    "print(\"Set 1:\", set1)\n",
    "print(\"Subset:\", subset)\n",
    "print(\"Is subset a subset of set1:\", is_subset)\n"
   ]
  },
  {
   "cell_type": "markdown",
   "id": "d3d374a1-312a-4cad-b07c-8f28947878ca",
   "metadata": {},
   "source": [
    "#49. Create a set of alternating 1s and 0s of length `n`."
   ]
  },
  {
   "cell_type": "code",
   "execution_count": 38,
   "id": "8919fe9e-13a0-47a2-8b24-3a2b4f975a88",
   "metadata": {},
   "outputs": [
    {
     "name": "stdout",
     "output_type": "stream",
     "text": [
      "Set of alternating 1s and 0s of length 10: [1, 0, 1, 0, 1, 0, 1, 0, 1, 0]\n"
     ]
    }
   ],
   "source": [
    "# Function to create a set of alternating 1s and 0s\n",
    "def create_alternating_set(n):\n",
    "    alternating_set = [0 if i % 2 == 0 else 1 for i in range(1,n+1)]\n",
    "    return alternating_set\n",
    "\n",
    "# Example: Create a set of alternating 1s and 0s of length 10\n",
    "n = 10\n",
    "alternating_set = create_alternating_set(n)\n",
    "print(f\"Set of alternating 1s and 0s of length {n}:\", alternating_set)\n"
   ]
  },
  {
   "cell_type": "markdown",
   "id": "0a3bc033-4060-4c12-8f0e-17ecc991ad0d",
   "metadata": {},
   "source": [
    "#50. Merge multiple sets into one."
   ]
  },
  {
   "cell_type": "code",
   "execution_count": 43,
   "id": "d02d844b-54f2-435a-94e5-73cf40d5d518",
   "metadata": {},
   "outputs": [
    {
     "name": "stdout",
     "output_type": "stream",
     "text": [
      "{0, 1, 2, 3, 4, 5, 6, 7, 8, 9, 36, 12, 14, 21, 25}\n",
      "after merging three sets : {0, 1, 2, 3, 4, 5, 6, 7, 8, 9, 36, 12, 14, 21, 25}\n"
     ]
    }
   ],
   "source": [
    "# example usage\n",
    "set1={1,2,3,4,5}\n",
    "set2={6,7,8,9,0}\n",
    "set3={14,25,36,12,21}\n",
    "\n",
    "\n",
    "# merge_set=set1.union(set2,set3)\n",
    "nested_set=set1|set2|set3\n",
    "\n",
    "# print(merge_set)\n",
    "print(\"after merging three sets :\",nested_set)"
   ]
  }
 ],
 "metadata": {
  "kernelspec": {
   "display_name": "Python 3 (ipykernel)",
   "language": "python",
   "name": "python3"
  },
  "language_info": {
   "codemirror_mode": {
    "name": "ipython",
    "version": 3
   },
   "file_extension": ".py",
   "mimetype": "text/x-python",
   "name": "python",
   "nbconvert_exporter": "python",
   "pygments_lexer": "ipython3",
   "version": "3.10.8"
  }
 },
 "nbformat": 4,
 "nbformat_minor": 5
}
